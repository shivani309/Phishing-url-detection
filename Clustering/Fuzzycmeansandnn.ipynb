{
 "cells": [
  {
   "cell_type": "markdown",
   "metadata": {},
   "source": [
    "# Hybrid model : Fuzzy CMeans and Neural Network"
   ]
  },
  {
   "cell_type": "code",
   "execution_count": 1,
   "metadata": {},
   "outputs": [
    {
     "data": {
      "text/html": [
       "<div>\n",
       "<style scoped>\n",
       "    .dataframe tbody tr th:only-of-type {\n",
       "        vertical-align: middle;\n",
       "    }\n",
       "\n",
       "    .dataframe tbody tr th {\n",
       "        vertical-align: top;\n",
       "    }\n",
       "\n",
       "    .dataframe thead th {\n",
       "        text-align: right;\n",
       "    }\n",
       "</style>\n",
       "<table border=\"1\" class=\"dataframe\">\n",
       "  <thead>\n",
       "    <tr style=\"text-align: right;\">\n",
       "      <th></th>\n",
       "      <th>Type</th>\n",
       "      <th>url_length</th>\n",
       "      <th>number_of_dots_in_url</th>\n",
       "      <th>having_repeated_digits_in_url</th>\n",
       "      <th>number_of_digits_in_url</th>\n",
       "      <th>number_of_special_char_in_url</th>\n",
       "      <th>number_of_hyphens_in_url</th>\n",
       "      <th>number_of_underline_in_url</th>\n",
       "      <th>number_of_slash_in_url</th>\n",
       "      <th>number_of_questionmark_in_url</th>\n",
       "      <th>...</th>\n",
       "      <th>having_digits_in_subdomain</th>\n",
       "      <th>number_of_digits_in_subdomain</th>\n",
       "      <th>having_repeated_digits_in_subdomain</th>\n",
       "      <th>having_path</th>\n",
       "      <th>path_length</th>\n",
       "      <th>having_query</th>\n",
       "      <th>having_fragment</th>\n",
       "      <th>having_anchor</th>\n",
       "      <th>entropy_of_url</th>\n",
       "      <th>entropy_of_domain</th>\n",
       "    </tr>\n",
       "  </thead>\n",
       "  <tbody>\n",
       "    <tr>\n",
       "      <th>0</th>\n",
       "      <td>0</td>\n",
       "      <td>37</td>\n",
       "      <td>2</td>\n",
       "      <td>0</td>\n",
       "      <td>0</td>\n",
       "      <td>8</td>\n",
       "      <td>0</td>\n",
       "      <td>0</td>\n",
       "      <td>5</td>\n",
       "      <td>0</td>\n",
       "      <td>...</td>\n",
       "      <td>0</td>\n",
       "      <td>0</td>\n",
       "      <td>1</td>\n",
       "      <td>0</td>\n",
       "      <td>3</td>\n",
       "      <td>0</td>\n",
       "      <td>0</td>\n",
       "      <td>0</td>\n",
       "      <td>4.010412</td>\n",
       "      <td>2.751629</td>\n",
       "    </tr>\n",
       "    <tr>\n",
       "      <th>1</th>\n",
       "      <td>1</td>\n",
       "      <td>70</td>\n",
       "      <td>5</td>\n",
       "      <td>0</td>\n",
       "      <td>0</td>\n",
       "      <td>12</td>\n",
       "      <td>0</td>\n",
       "      <td>0</td>\n",
       "      <td>6</td>\n",
       "      <td>0</td>\n",
       "      <td>...</td>\n",
       "      <td>0</td>\n",
       "      <td>0</td>\n",
       "      <td>1</td>\n",
       "      <td>0</td>\n",
       "      <td>4</td>\n",
       "      <td>0</td>\n",
       "      <td>0</td>\n",
       "      <td>0</td>\n",
       "      <td>4.089470</td>\n",
       "      <td>3.532573</td>\n",
       "    </tr>\n",
       "    <tr>\n",
       "      <th>2</th>\n",
       "      <td>0</td>\n",
       "      <td>42</td>\n",
       "      <td>2</td>\n",
       "      <td>0</td>\n",
       "      <td>6</td>\n",
       "      <td>8</td>\n",
       "      <td>0</td>\n",
       "      <td>0</td>\n",
       "      <td>3</td>\n",
       "      <td>1</td>\n",
       "      <td>...</td>\n",
       "      <td>0</td>\n",
       "      <td>0</td>\n",
       "      <td>1</td>\n",
       "      <td>0</td>\n",
       "      <td>1</td>\n",
       "      <td>1</td>\n",
       "      <td>0</td>\n",
       "      <td>0</td>\n",
       "      <td>4.386016</td>\n",
       "      <td>3.344698</td>\n",
       "    </tr>\n",
       "    <tr>\n",
       "      <th>3</th>\n",
       "      <td>0</td>\n",
       "      <td>46</td>\n",
       "      <td>2</td>\n",
       "      <td>0</td>\n",
       "      <td>0</td>\n",
       "      <td>7</td>\n",
       "      <td>0</td>\n",
       "      <td>0</td>\n",
       "      <td>4</td>\n",
       "      <td>0</td>\n",
       "      <td>...</td>\n",
       "      <td>0</td>\n",
       "      <td>0</td>\n",
       "      <td>1</td>\n",
       "      <td>0</td>\n",
       "      <td>2</td>\n",
       "      <td>0</td>\n",
       "      <td>0</td>\n",
       "      <td>0</td>\n",
       "      <td>4.221947</td>\n",
       "      <td>3.189898</td>\n",
       "    </tr>\n",
       "    <tr>\n",
       "      <th>4</th>\n",
       "      <td>0</td>\n",
       "      <td>51</td>\n",
       "      <td>3</td>\n",
       "      <td>0</td>\n",
       "      <td>0</td>\n",
       "      <td>9</td>\n",
       "      <td>0</td>\n",
       "      <td>0</td>\n",
       "      <td>5</td>\n",
       "      <td>0</td>\n",
       "      <td>...</td>\n",
       "      <td>0</td>\n",
       "      <td>0</td>\n",
       "      <td>1</td>\n",
       "      <td>0</td>\n",
       "      <td>3</td>\n",
       "      <td>0</td>\n",
       "      <td>0</td>\n",
       "      <td>0</td>\n",
       "      <td>4.103538</td>\n",
       "      <td>2.952820</td>\n",
       "    </tr>\n",
       "  </tbody>\n",
       "</table>\n",
       "<p>5 rows × 42 columns</p>\n",
       "</div>"
      ],
      "text/plain": [
       "   Type  url_length  number_of_dots_in_url  having_repeated_digits_in_url  \\\n",
       "0     0          37                      2                              0   \n",
       "1     1          70                      5                              0   \n",
       "2     0          42                      2                              0   \n",
       "3     0          46                      2                              0   \n",
       "4     0          51                      3                              0   \n",
       "\n",
       "   number_of_digits_in_url  number_of_special_char_in_url  \\\n",
       "0                        0                              8   \n",
       "1                        0                             12   \n",
       "2                        6                              8   \n",
       "3                        0                              7   \n",
       "4                        0                              9   \n",
       "\n",
       "   number_of_hyphens_in_url  number_of_underline_in_url  \\\n",
       "0                         0                           0   \n",
       "1                         0                           0   \n",
       "2                         0                           0   \n",
       "3                         0                           0   \n",
       "4                         0                           0   \n",
       "\n",
       "   number_of_slash_in_url  number_of_questionmark_in_url  ...  \\\n",
       "0                       5                              0  ...   \n",
       "1                       6                              0  ...   \n",
       "2                       3                              1  ...   \n",
       "3                       4                              0  ...   \n",
       "4                       5                              0  ...   \n",
       "\n",
       "   having_digits_in_subdomain  number_of_digits_in_subdomain  \\\n",
       "0                           0                              0   \n",
       "1                           0                              0   \n",
       "2                           0                              0   \n",
       "3                           0                              0   \n",
       "4                           0                              0   \n",
       "\n",
       "   having_repeated_digits_in_subdomain  having_path  path_length  \\\n",
       "0                                    1            0            3   \n",
       "1                                    1            0            4   \n",
       "2                                    1            0            1   \n",
       "3                                    1            0            2   \n",
       "4                                    1            0            3   \n",
       "\n",
       "   having_query  having_fragment  having_anchor  entropy_of_url  \\\n",
       "0             0                0              0        4.010412   \n",
       "1             0                0              0        4.089470   \n",
       "2             1                0              0        4.386016   \n",
       "3             0                0              0        4.221947   \n",
       "4             0                0              0        4.103538   \n",
       "\n",
       "   entropy_of_domain  \n",
       "0           2.751629  \n",
       "1           3.532573  \n",
       "2           3.344698  \n",
       "3           3.189898  \n",
       "4           2.952820  \n",
       "\n",
       "[5 rows x 42 columns]"
      ]
     },
     "execution_count": 1,
     "metadata": {},
     "output_type": "execute_result"
    }
   ],
   "source": [
    "import numpy as np \n",
    "import pandas as pd \n",
    "df = pd.read_csv(r\"C:\\Users\\Sejal Hanmante\\Downloads\\Phishing Detection Dataset.zip\")\n",
    "df.head()\n"
   ]
  },
  {
   "cell_type": "code",
   "execution_count": 1,
   "metadata": {},
   "outputs": [
    {
     "data": {
      "text/html": [
       "<div>\n",
       "<style scoped>\n",
       "    .dataframe tbody tr th:only-of-type {\n",
       "        vertical-align: middle;\n",
       "    }\n",
       "\n",
       "    .dataframe tbody tr th {\n",
       "        vertical-align: top;\n",
       "    }\n",
       "\n",
       "    .dataframe thead th {\n",
       "        text-align: right;\n",
       "    }\n",
       "</style>\n",
       "<table border=\"1\" class=\"dataframe\">\n",
       "  <thead>\n",
       "    <tr style=\"text-align: right;\">\n",
       "      <th></th>\n",
       "      <th>PC1</th>\n",
       "      <th>PC2</th>\n",
       "      <th>PC3</th>\n",
       "      <th>PC4</th>\n",
       "      <th>PC5</th>\n",
       "      <th>PC6</th>\n",
       "      <th>PC7</th>\n",
       "      <th>PC8</th>\n",
       "      <th>PC9</th>\n",
       "      <th>PC10</th>\n",
       "      <th>...</th>\n",
       "      <th>PC33</th>\n",
       "      <th>PC34</th>\n",
       "      <th>PC35</th>\n",
       "      <th>PC36</th>\n",
       "      <th>PC37</th>\n",
       "      <th>PC38</th>\n",
       "      <th>PC39</th>\n",
       "      <th>PC40</th>\n",
       "      <th>PC41</th>\n",
       "      <th>PC42</th>\n",
       "    </tr>\n",
       "  </thead>\n",
       "  <tbody>\n",
       "    <tr>\n",
       "      <th>0</th>\n",
       "      <td>1.355103</td>\n",
       "      <td>0.374723</td>\n",
       "      <td>-0.847538</td>\n",
       "      <td>1.444457</td>\n",
       "      <td>-0.269435</td>\n",
       "      <td>0.582533</td>\n",
       "      <td>-0.518248</td>\n",
       "      <td>-0.094391</td>\n",
       "      <td>-0.305998</td>\n",
       "      <td>-0.902024</td>\n",
       "      <td>...</td>\n",
       "      <td>-0.148379</td>\n",
       "      <td>-0.215384</td>\n",
       "      <td>-0.147475</td>\n",
       "      <td>0.886899</td>\n",
       "      <td>0.237549</td>\n",
       "      <td>-0.741902</td>\n",
       "      <td>0.036549</td>\n",
       "      <td>-0.542012</td>\n",
       "      <td>-0.363727</td>\n",
       "      <td>0.050966</td>\n",
       "    </tr>\n",
       "    <tr>\n",
       "      <th>1</th>\n",
       "      <td>0.819898</td>\n",
       "      <td>-0.006518</td>\n",
       "      <td>-0.782782</td>\n",
       "      <td>-2.364139</td>\n",
       "      <td>-0.849924</td>\n",
       "      <td>0.103269</td>\n",
       "      <td>-0.820576</td>\n",
       "      <td>0.760786</td>\n",
       "      <td>0.270542</td>\n",
       "      <td>0.064134</td>\n",
       "      <td>...</td>\n",
       "      <td>-0.098172</td>\n",
       "      <td>0.407620</td>\n",
       "      <td>0.119940</td>\n",
       "      <td>0.137893</td>\n",
       "      <td>-0.054673</td>\n",
       "      <td>0.788291</td>\n",
       "      <td>-0.621070</td>\n",
       "      <td>-0.541850</td>\n",
       "      <td>-0.126581</td>\n",
       "      <td>0.022341</td>\n",
       "    </tr>\n",
       "    <tr>\n",
       "      <th>2</th>\n",
       "      <td>1.217563</td>\n",
       "      <td>0.206911</td>\n",
       "      <td>-0.533419</td>\n",
       "      <td>-0.908161</td>\n",
       "      <td>-1.798203</td>\n",
       "      <td>0.532191</td>\n",
       "      <td>-0.190889</td>\n",
       "      <td>1.048848</td>\n",
       "      <td>-0.496761</td>\n",
       "      <td>-0.296198</td>\n",
       "      <td>...</td>\n",
       "      <td>0.207842</td>\n",
       "      <td>0.083817</td>\n",
       "      <td>0.129444</td>\n",
       "      <td>0.752606</td>\n",
       "      <td>-0.086619</td>\n",
       "      <td>-1.414484</td>\n",
       "      <td>0.115978</td>\n",
       "      <td>0.126460</td>\n",
       "      <td>-0.098412</td>\n",
       "      <td>0.042883</td>\n",
       "    </tr>\n",
       "    <tr>\n",
       "      <th>3</th>\n",
       "      <td>2.460119</td>\n",
       "      <td>0.816660</td>\n",
       "      <td>-1.165692</td>\n",
       "      <td>0.991246</td>\n",
       "      <td>0.426025</td>\n",
       "      <td>0.335449</td>\n",
       "      <td>-0.304665</td>\n",
       "      <td>-0.919650</td>\n",
       "      <td>-0.495699</td>\n",
       "      <td>-1.303336</td>\n",
       "      <td>...</td>\n",
       "      <td>-0.220583</td>\n",
       "      <td>0.205387</td>\n",
       "      <td>-0.234712</td>\n",
       "      <td>0.234143</td>\n",
       "      <td>0.039174</td>\n",
       "      <td>0.714097</td>\n",
       "      <td>0.018968</td>\n",
       "      <td>-0.273400</td>\n",
       "      <td>-0.234085</td>\n",
       "      <td>0.047169</td>\n",
       "    </tr>\n",
       "    <tr>\n",
       "      <th>4</th>\n",
       "      <td>3.794874</td>\n",
       "      <td>1.397170</td>\n",
       "      <td>-1.184590</td>\n",
       "      <td>0.924645</td>\n",
       "      <td>2.939978</td>\n",
       "      <td>-0.854234</td>\n",
       "      <td>3.340179</td>\n",
       "      <td>2.761792</td>\n",
       "      <td>0.205402</td>\n",
       "      <td>0.789918</td>\n",
       "      <td>...</td>\n",
       "      <td>-0.575246</td>\n",
       "      <td>0.570667</td>\n",
       "      <td>0.391723</td>\n",
       "      <td>-0.687776</td>\n",
       "      <td>-0.675614</td>\n",
       "      <td>-0.519086</td>\n",
       "      <td>-0.298555</td>\n",
       "      <td>0.460071</td>\n",
       "      <td>0.043517</td>\n",
       "      <td>0.014826</td>\n",
       "    </tr>\n",
       "  </tbody>\n",
       "</table>\n",
       "<p>5 rows × 42 columns</p>\n",
       "</div>"
      ],
      "text/plain": [
       "        PC1       PC2       PC3       PC4       PC5       PC6       PC7  \\\n",
       "0  1.355103  0.374723 -0.847538  1.444457 -0.269435  0.582533 -0.518248   \n",
       "1  0.819898 -0.006518 -0.782782 -2.364139 -0.849924  0.103269 -0.820576   \n",
       "2  1.217563  0.206911 -0.533419 -0.908161 -1.798203  0.532191 -0.190889   \n",
       "3  2.460119  0.816660 -1.165692  0.991246  0.426025  0.335449 -0.304665   \n",
       "4  3.794874  1.397170 -1.184590  0.924645  2.939978 -0.854234  3.340179   \n",
       "\n",
       "        PC8       PC9      PC10  ...      PC33      PC34      PC35      PC36  \\\n",
       "0 -0.094391 -0.305998 -0.902024  ... -0.148379 -0.215384 -0.147475  0.886899   \n",
       "1  0.760786  0.270542  0.064134  ... -0.098172  0.407620  0.119940  0.137893   \n",
       "2  1.048848 -0.496761 -0.296198  ...  0.207842  0.083817  0.129444  0.752606   \n",
       "3 -0.919650 -0.495699 -1.303336  ... -0.220583  0.205387 -0.234712  0.234143   \n",
       "4  2.761792  0.205402  0.789918  ... -0.575246  0.570667  0.391723 -0.687776   \n",
       "\n",
       "       PC37      PC38      PC39      PC40      PC41      PC42  \n",
       "0  0.237549 -0.741902  0.036549 -0.542012 -0.363727  0.050966  \n",
       "1 -0.054673  0.788291 -0.621070 -0.541850 -0.126581  0.022341  \n",
       "2 -0.086619 -1.414484  0.115978  0.126460 -0.098412  0.042883  \n",
       "3  0.039174  0.714097  0.018968 -0.273400 -0.234085  0.047169  \n",
       "4 -0.675614 -0.519086 -0.298555  0.460071  0.043517  0.014826  \n",
       "\n",
       "[5 rows x 42 columns]"
      ]
     },
     "execution_count": 1,
     "metadata": {},
     "output_type": "execute_result"
    }
   ],
   "source": [
    "import numpy as np \n",
    "import pandas as pd \n",
    "pca_data=pd.read_csv(r\"C:\\Users\\DELL\\Documents\\GitHub\\Phishing-url-detection\\pca_data.csv\",index_col=[0])\n",
    "pca_data.head()"
   ]
  },
  {
   "cell_type": "code",
   "execution_count": 2,
   "metadata": {},
   "outputs": [
    {
     "name": "stdout",
     "output_type": "stream",
     "text": [
      "Requirement already satisfied: scikit-fuzzy in c:\\users\\dell\\anaconda3\\lib\\site-packages (0.5.0)\n"
     ]
    }
   ],
   "source": [
    "!pip install scikit-fuzzy\n"
   ]
  },
  {
   "cell_type": "code",
   "execution_count": 3,
   "metadata": {},
   "outputs": [],
   "source": [
    "import skfuzzy as fuzz\n",
    "import numpy as np\n",
    "\n",
    "# Assuming your dataset is loaded into X (features of the URLs)\n",
    "\n",
    "\n",
    "# Set the number of clusters (e.g., 2: phishing, benign)\n",
    "n_clusters = 2\n",
    "\n",
    "# Fuzzy C-means clustering\n",
    "cntr, u, _, _, _, _, _ = fuzz.cmeans(pca_data.T, c=n_clusters, m=2, error=0.005, maxiter=1000)\n",
    "\n",
    "# u gives the membership values of each data point in each cluster\n",
    "# For each data point, you can assign membership values to your dataset\n"
   ]
  },
  {
   "cell_type": "code",
   "execution_count": 4,
   "metadata": {},
   "outputs": [],
   "source": [
    "labels = pd.read_csv(r\"C:\\Users\\DELL\\Documents\\GitHub\\Phishing-url-detection\\output_column.csv\")\n",
    "labels = labels['label'].values"
   ]
  },
  {
   "cell_type": "code",
   "execution_count": 5,
   "metadata": {},
   "outputs": [
    {
     "name": "stderr",
     "output_type": "stream",
     "text": [
      "c:\\Users\\DELL\\anaconda3\\Lib\\site-packages\\keras\\src\\layers\\core\\dense.py:87: UserWarning: Do not pass an `input_shape`/`input_dim` argument to a layer. When using Sequential models, prefer using an `Input(shape)` object as the first layer in the model instead.\n",
      "  super().__init__(activity_regularizer=activity_regularizer, **kwargs)\n"
     ]
    },
    {
     "name": "stdout",
     "output_type": "stream",
     "text": [
      "Epoch 1/10\n",
      "\u001b[1m5895/5895\u001b[0m \u001b[32m━━━━━━━━━━━━━━━━━━━━\u001b[0m\u001b[37m\u001b[0m \u001b[1m16s\u001b[0m 2ms/step - accuracy: 0.9912 - loss: 0.0317 - val_accuracy: 0.9999 - val_loss: 3.4769e-04\n",
      "Epoch 2/10\n",
      "\u001b[1m5895/5895\u001b[0m \u001b[32m━━━━━━━━━━━━━━━━━━━━\u001b[0m\u001b[37m\u001b[0m \u001b[1m12s\u001b[0m 2ms/step - accuracy: 0.9997 - loss: 0.0010 - val_accuracy: 0.9999 - val_loss: 1.7222e-04\n",
      "Epoch 3/10\n",
      "\u001b[1m5895/5895\u001b[0m \u001b[32m━━━━━━━━━━━━━━━━━━━━\u001b[0m\u001b[37m\u001b[0m \u001b[1m12s\u001b[0m 2ms/step - accuracy: 0.9999 - loss: 5.1549e-04 - val_accuracy: 0.9998 - val_loss: 5.6556e-04\n",
      "Epoch 4/10\n",
      "\u001b[1m5895/5895\u001b[0m \u001b[32m━━━━━━━━━━━━━━━━━━━━\u001b[0m\u001b[37m\u001b[0m \u001b[1m10s\u001b[0m 2ms/step - accuracy: 0.9999 - loss: 3.6814e-04 - val_accuracy: 1.0000 - val_loss: 9.5426e-05\n",
      "Epoch 5/10\n",
      "\u001b[1m5895/5895\u001b[0m \u001b[32m━━━━━━━━━━━━━━━━━━━━\u001b[0m\u001b[37m\u001b[0m \u001b[1m15s\u001b[0m 3ms/step - accuracy: 0.9999 - loss: 3.1550e-04 - val_accuracy: 1.0000 - val_loss: 3.2697e-04\n",
      "Epoch 6/10\n",
      "\u001b[1m5895/5895\u001b[0m \u001b[32m━━━━━━━━━━━━━━━━━━━━\u001b[0m\u001b[37m\u001b[0m \u001b[1m11s\u001b[0m 2ms/step - accuracy: 0.9999 - loss: 3.0395e-04 - val_accuracy: 0.9999 - val_loss: 4.9874e-04\n",
      "Epoch 7/10\n",
      "\u001b[1m5895/5895\u001b[0m \u001b[32m━━━━━━━━━━━━━━━━━━━━\u001b[0m\u001b[37m\u001b[0m \u001b[1m11s\u001b[0m 2ms/step - accuracy: 0.9999 - loss: 8.0014e-04 - val_accuracy: 0.9999 - val_loss: 1.8152e-04\n",
      "Epoch 8/10\n",
      "\u001b[1m5895/5895\u001b[0m \u001b[32m━━━━━━━━━━━━━━━━━━━━\u001b[0m\u001b[37m\u001b[0m \u001b[1m11s\u001b[0m 2ms/step - accuracy: 0.9999 - loss: 1.6197e-04 - val_accuracy: 0.9996 - val_loss: 0.0011\n",
      "Epoch 9/10\n",
      "\u001b[1m5895/5895\u001b[0m \u001b[32m━━━━━━━━━━━━━━━━━━━━\u001b[0m\u001b[37m\u001b[0m \u001b[1m10s\u001b[0m 2ms/step - accuracy: 0.9999 - loss: 2.0961e-04 - val_accuracy: 0.9999 - val_loss: 4.8231e-04\n",
      "Epoch 10/10\n",
      "\u001b[1m5895/5895\u001b[0m \u001b[32m━━━━━━━━━━━━━━━━━━━━\u001b[0m\u001b[37m\u001b[0m \u001b[1m10s\u001b[0m 2ms/step - accuracy: 1.0000 - loss: 1.0092e-04 - val_accuracy: 0.9999 - val_loss: 4.8036e-04\n",
      "\u001b[1m1474/1474\u001b[0m \u001b[32m━━━━━━━━━━━━━━━━━━━━\u001b[0m\u001b[37m\u001b[0m \u001b[1m2s\u001b[0m 1ms/step - accuracy: 0.9999 - loss: 6.4089e-04\n",
      "Model Accuracy: 99.99%\n"
     ]
    }
   ],
   "source": [
    "from sklearn.model_selection import train_test_split\n",
    "from sklearn.preprocessing import StandardScaler\n",
    "import tensorflow as tf\n",
    "from tensorflow.keras.models import Sequential\n",
    "from tensorflow.keras.layers import Dense\n",
    "\n",
    "# Adding FCM membership values as additional features\n",
    "X_fcm = np.hstack((pca_data, u.T))  # Concatenate original features and fuzzy membership values\n",
    "\n",
    "# Train-test split\n",
    "X_train, X_test, y_train, y_test = train_test_split(X_fcm, labels, test_size=0.2, random_state=42)\n",
    "\n",
    "# Scaling the features (important for NN performance)\n",
    "scaler = StandardScaler()\n",
    "X_train = scaler.fit_transform(X_train)\n",
    "X_test = scaler.transform(X_test)\n",
    "\n",
    "# Build a simple feed-forward neural network\n",
    "model = Sequential()\n",
    "model.add(Dense(64, activation='relu', input_dim=X_train.shape[1]))\n",
    "model.add(Dense(32, activation='relu'))\n",
    "model.add(Dense(1, activation='sigmoid'))  # Output layer for binary classification (phishing or benign)\n",
    "\n",
    "# Compile the model\n",
    "model.compile(optimizer='adam', loss='binary_crossentropy', metrics=['accuracy'])\n",
    "\n",
    "# Train the model\n",
    "model.fit(X_train, y_train, epochs=10, batch_size=32, validation_data=(X_test, y_test))\n",
    "\n",
    "# Evaluate the model\n",
    "loss, accuracy = model.evaluate(X_test, y_test)\n",
    "print(f'Model Accuracy: {accuracy*100:.2f}%')\n"
   ]
  },
  {
   "cell_type": "code",
   "execution_count": 6,
   "metadata": {},
   "outputs": [
    {
     "data": {
      "image/png": "[encoded data removed]",
      "text/plain": [
       "<Figure size 800x600 with 2 Axes>"
      ]
     },
     "metadata": {},
     "output_type": "display_data"
    }
   ],
   "source": [
    "import numpy as np\n",
    "import matplotlib.pyplot as plt\n",
    "from sklearn.decomposition import PCA\n",
    "\n",
    "# Reduce dimensions using PCA (for visualization)\n",
    "pca = PCA(n_components=2)\n",
    "X_pca = pca.fit_transform(X_fcm)  # X_fcm contains both PCA features & FCM memberships\n",
    "\n",
    "# Get cluster memberships from FCM\n",
    "cluster_labels = np.argmax(u, axis=0)  # Assign the cluster with highest membership\n",
    "\n",
    "# Scatter plot of clusters\n",
    "plt.figure(figsize=(8, 6))\n",
    "scatter = plt.scatter(X_pca[:, 0], X_pca[:, 1], c=cluster_labels, cmap='coolwarm', alpha=0.6)\n",
    "\n",
    "# Add legend and labels\n",
    "plt.colorbar(scatter, label=\"Cluster Membership\")\n",
    "plt.xlabel(\"PCA Component 1\")\n",
    "plt.ylabel(\"PCA Component 2\")\n",
    "plt.title(\"Hybrid Model Cluster Visualization\")\n",
    "\n",
    "plt.show()\n"
   ]
  },
  {
   "cell_type": "code",
   "execution_count": 7,
   "metadata": {},
   "outputs": [
    {
     "name": "stdout",
     "output_type": "stream",
     "text": [
      "Davies-Bouldin Index (DBI): 1.8848 (Lower is better)\n",
      "Calinski-Harabasz Score (CHS): 42367.5569 (Higher is better)\n"
     ]
    }
   ],
   "source": [
    "from sklearn.metrics import davies_bouldin_score, calinski_harabasz_score\n",
    "\n",
    "# Get cluster assignments from Fuzzy C-Means (FCM)\n",
    "cluster_labels = np.argmax(u, axis=0)  # Assigns the cluster with highest membership\n",
    "\n",
    "# Compute Davies-Bouldin Index (Lower is better)\n",
    "dbi_score = davies_bouldin_score(X_fcm, cluster_labels)\n",
    "\n",
    "# Compute Calinski-Harabasz Score (Higher is better)\n",
    "chs_score = calinski_harabasz_score(X_fcm, cluster_labels)\n",
    "\n",
    "# Print the results\n",
    "print(f\"Davies-Bouldin Index (DBI): {dbi_score:.4f} (Lower is better)\")\n",
    "print(f\"Calinski-Harabasz Score (CHS): {chs_score:.4f} (Higher is better)\")\n"
   ]
  },
  {
   "cell_type": "code",
   "execution_count": 8,
   "metadata": {},
   "outputs": [
    {
     "name": "stderr",
     "output_type": "stream",
     "text": [
      "c:\\Users\\DELL\\anaconda3\\Lib\\site-packages\\keras\\src\\layers\\core\\dense.py:87: UserWarning: Do not pass an `input_shape`/`input_dim` argument to a layer. When using Sequential models, prefer using an `Input(shape)` object as the first layer in the model instead.\n",
      "  super().__init__(activity_regularizer=activity_regularizer, **kwargs)\n"
     ]
    },
    {
     "name": "stdout",
     "output_type": "stream",
     "text": [
      "\u001b[1m1474/1474\u001b[0m \u001b[32m━━━━━━━━━━━━━━━━━━━━\u001b[0m\u001b[37m\u001b[0m \u001b[1m2s\u001b[0m 1ms/step\n"
     ]
    },
    {
     "name": "stderr",
     "output_type": "stream",
     "text": [
      "c:\\Users\\DELL\\anaconda3\\Lib\\site-packages\\keras\\src\\layers\\core\\dense.py:87: UserWarning: Do not pass an `input_shape`/`input_dim` argument to a layer. When using Sequential models, prefer using an `Input(shape)` object as the first layer in the model instead.\n",
      "  super().__init__(activity_regularizer=activity_regularizer, **kwargs)\n"
     ]
    },
    {
     "name": "stdout",
     "output_type": "stream",
     "text": [
      "\u001b[1m1474/1474\u001b[0m \u001b[32m━━━━━━━━━━━━━━━━━━━━\u001b[0m\u001b[37m\u001b[0m \u001b[1m2s\u001b[0m 1ms/step\n"
     ]
    },
    {
     "name": "stderr",
     "output_type": "stream",
     "text": [
      "c:\\Users\\DELL\\anaconda3\\Lib\\site-packages\\keras\\src\\layers\\core\\dense.py:87: UserWarning: Do not pass an `input_shape`/`input_dim` argument to a layer. When using Sequential models, prefer using an `Input(shape)` object as the first layer in the model instead.\n",
      "  super().__init__(activity_regularizer=activity_regularizer, **kwargs)\n"
     ]
    },
    {
     "name": "stdout",
     "output_type": "stream",
     "text": [
      "\u001b[1m1474/1474\u001b[0m \u001b[32m━━━━━━━━━━━━━━━━━━━━\u001b[0m\u001b[37m\u001b[0m \u001b[1m2s\u001b[0m 1ms/step\n"
     ]
    },
    {
     "name": "stderr",
     "output_type": "stream",
     "text": [
      "c:\\Users\\DELL\\anaconda3\\Lib\\site-packages\\keras\\src\\layers\\core\\dense.py:87: UserWarning: Do not pass an `input_shape`/`input_dim` argument to a layer. When using Sequential models, prefer using an `Input(shape)` object as the first layer in the model instead.\n",
      "  super().__init__(activity_regularizer=activity_regularizer, **kwargs)\n"
     ]
    },
    {
     "name": "stdout",
     "output_type": "stream",
     "text": [
      "\u001b[1m1474/1474\u001b[0m \u001b[32m━━━━━━━━━━━━━━━━━━━━\u001b[0m\u001b[37m\u001b[0m \u001b[1m2s\u001b[0m 1ms/step\n"
     ]
    },
    {
     "name": "stderr",
     "output_type": "stream",
     "text": [
      "c:\\Users\\DELL\\anaconda3\\Lib\\site-packages\\keras\\src\\layers\\core\\dense.py:87: UserWarning: Do not pass an `input_shape`/`input_dim` argument to a layer. When using Sequential models, prefer using an `Input(shape)` object as the first layer in the model instead.\n",
      "  super().__init__(activity_regularizer=activity_regularizer, **kwargs)\n"
     ]
    },
    {
     "name": "stdout",
     "output_type": "stream",
     "text": [
      "\u001b[1m1474/1474\u001b[0m \u001b[32m━━━━━━━━━━━━━━━━━━━━\u001b[0m\u001b[37m\u001b[0m \u001b[1m2s\u001b[0m 993us/step\n",
      "Average Accuracy across 5 folds: 99.98%\n"
     ]
    },
    {
     "name": "stderr",
     "output_type": "stream",
     "text": [
      "c:\\Users\\DELL\\anaconda3\\Lib\\site-packages\\sklearn\\neural_network\\_multilayer_perceptron.py:686: ConvergenceWarning: Stochastic Optimizer: Maximum iterations (10) reached and the optimization hasn't converged yet.\n",
      "  warnings.warn(\n",
      "c:\\Users\\DELL\\anaconda3\\Lib\\site-packages\\sklearn\\neural_network\\_multilayer_perceptron.py:686: ConvergenceWarning: Stochastic Optimizer: Maximum iterations (10) reached and the optimization hasn't converged yet.\n",
      "  warnings.warn(\n",
      "c:\\Users\\DELL\\anaconda3\\Lib\\site-packages\\sklearn\\neural_network\\_multilayer_perceptron.py:686: ConvergenceWarning: Stochastic Optimizer: Maximum iterations (10) reached and the optimization hasn't converged yet.\n",
      "  warnings.warn(\n",
      "c:\\Users\\DELL\\anaconda3\\Lib\\site-packages\\sklearn\\neural_network\\_multilayer_perceptron.py:686: ConvergenceWarning: Stochastic Optimizer: Maximum iterations (10) reached and the optimization hasn't converged yet.\n",
      "  warnings.warn(\n"
     ]
    },
    {
     "name": "stdout",
     "output_type": "stream",
     "text": [
      "Cross-validation scores (Accuracy) for MLPClassifier: [0.99983036 0.99985157 0.99993639 0.99993639 0.99989398]\n",
      "Average accuracy: 99.99%\n"
     ]
    },
    {
     "name": "stderr",
     "output_type": "stream",
     "text": [
      "c:\\Users\\DELL\\anaconda3\\Lib\\site-packages\\sklearn\\neural_network\\_multilayer_perceptron.py:686: ConvergenceWarning: Stochastic Optimizer: Maximum iterations (10) reached and the optimization hasn't converged yet.\n",
      "  warnings.warn(\n"
     ]
    }
   ],
   "source": [
    "import numpy as np\n",
    "import skfuzzy as fuzz\n",
    "from sklearn.model_selection import KFold\n",
    "from sklearn.preprocessing import StandardScaler\n",
    "from sklearn.metrics import accuracy_score\n",
    "from tensorflow.keras.models import Sequential\n",
    "from tensorflow.keras.layers import Dense\n",
    "from sklearn.model_selection import cross_val_score\n",
    "from sklearn.neural_network import MLPClassifier  # Using scikit-learn's NN for easier cross-validation\n",
    "\n",
    "# Sample data (replace with your actual features and labels)\n",
    "\n",
    "\n",
    "# Perform Fuzzy C-Means Clustering\n",
    "n_clusters = 2\n",
    "cntr, u, _, _, _, _, _ = fuzz.cmeans(pca_data.T, c=n_clusters, m=2, error=0.005, maxiter=1000)\n",
    "\n",
    "# Add fuzzy membership values as features\n",
    "X_fcm = np.hstack((pca_data, u.T))\n",
    "\n",
    "# Define a function to build the Neural Network (can also use other models like MLP from scikit-learn)\n",
    "def build_nn():\n",
    "    model = Sequential()\n",
    "    model.add(Dense(64, activation='relu', input_dim=X_fcm.shape[1]))\n",
    "    model.add(Dense(32, activation='relu'))\n",
    "    model.add(Dense(1, activation='sigmoid'))  # Output layer for binary classification (phishing or benign)\n",
    "    model.compile(optimizer='adam', loss='binary_crossentropy', metrics=['accuracy'])\n",
    "    return model\n",
    "\n",
    "# Option 1: Using K-Fold Cross-Validation with scikit-learn's MLPClassifier (easier for cross-validation)\n",
    "kf = KFold(n_splits=5, shuffle=True, random_state=42)  # 5-fold cross-validation\n",
    "fold_accuracies = []\n",
    "\n",
    "# Iterate over each fold\n",
    "for train_idx, test_idx in kf.split(X_fcm):\n",
    "    X_train, X_test = X_fcm[train_idx], X_fcm[test_idx]\n",
    "    y_train, y_test = labels[train_idx], labels[test_idx]\n",
    "\n",
    "    # Scale features for neural network\n",
    "    scaler = StandardScaler()\n",
    "    X_train_scaled = scaler.fit_transform(X_train)\n",
    "    X_test_scaled = scaler.transform(X_test)\n",
    "\n",
    "    # Create and train the Neural Network model\n",
    "    model = build_nn()\n",
    "    model.fit(X_train_scaled, y_train, epochs=10, batch_size=32, verbose=0)\n",
    "\n",
    "    # Evaluate the model\n",
    "    y_pred = (model.predict(X_test_scaled) > 0.5).astype(int)  # Threshold at 0.5 for binary classification\n",
    "    accuracy = accuracy_score(y_test, y_pred)\n",
    "    fold_accuracies.append(accuracy)\n",
    "\n",
    "# Calculate the average accuracy across all folds\n",
    "avg_accuracy = np.mean(fold_accuracies)\n",
    "print(f'Average Accuracy across 5 folds: {avg_accuracy*100:.2f}%')\n",
    "\n",
    "# Option 2: Using cross_val_score from scikit-learn with a simpler model (MLPClassifier)\n",
    "# Use MLPClassifier for cross-validation\n",
    "mlp = MLPClassifier(hidden_layer_sizes=(64, 32), max_iter=10, solver='adam', random_state=42)\n",
    "cross_val_scores = cross_val_score(mlp, X_fcm, labels, cv=5, scoring='accuracy')\n",
    "\n",
    "print(f'Cross-validation scores (Accuracy) for MLPClassifier: {cross_val_scores}')\n",
    "print(f'Average accuracy: {np.mean(cross_val_scores)*100:.2f}%')\n"
   ]
  },
  {
   "cell_type": "markdown",
   "metadata": {},
   "source": [
    "# SHAP for Keras Neural Network"
   ]
  },
  {
   "cell_type": "code",
   "execution_count": 9,
   "metadata": {},
   "outputs": [
    {
     "name": "stdout",
     "output_type": "stream",
     "text": [
      "Collecting shap\n",
      "  Downloading shap-0.47.2-cp311-cp311-win_amd64.whl.metadata (25 kB)\n",
      "Requirement already satisfied: numpy in c:\\users\\dell\\anaconda3\\lib\\site-packages (from shap) (1.26.4)\n",
      "Requirement already satisfied: scipy in c:\\users\\dell\\anaconda3\\lib\\site-packages (from shap) (1.11.4)\n",
      "Requirement already satisfied: scikit-learn in c:\\users\\dell\\anaconda3\\lib\\site-packages (from shap) (1.2.2)\n",
      "Requirement already satisfied: pandas in c:\\users\\dell\\anaconda3\\lib\\site-packages (from shap) (2.1.4)\n",
      "Requirement already satisfied: tqdm>=4.27.0 in c:\\users\\dell\\anaconda3\\lib\\site-packages (from shap) (4.65.0)\n",
      "Requirement already satisfied: packaging>20.9 in c:\\users\\dell\\anaconda3\\lib\\site-packages (from shap) (23.2)\n",
      "Collecting slicer==0.0.8 (from shap)\n",
      "  Downloading slicer-0.0.8-py3-none-any.whl.metadata (4.0 kB)\n",
      "Requirement already satisfied: numba>=0.54 in c:\\users\\dell\\anaconda3\\lib\\site-packages (from shap) (0.59.0)\n",
      "Requirement already satisfied: cloudpickle in c:\\users\\dell\\anaconda3\\lib\\site-packages (from shap) (2.2.1)\n",
      "Requirement already satisfied: typing-extensions in c:\\users\\dell\\anaconda3\\lib\\site-packages (from shap) (4.12.2)\n",
      "Requirement already satisfied: llvmlite<0.43,>=0.42.0dev0 in c:\\users\\dell\\anaconda3\\lib\\site-packages (from numba>=0.54->shap) (0.42.0)\n",
      "Requirement already satisfied: colorama in c:\\users\\dell\\anaconda3\\lib\\site-packages (from tqdm>=4.27.0->shap) (0.4.6)\n",
      "Requirement already satisfied: python-dateutil>=2.8.2 in c:\\users\\dell\\anaconda3\\lib\\site-packages (from pandas->shap) (2.8.2)\n",
      "Requirement already satisfied: pytz>=2020.1 in c:\\users\\dell\\anaconda3\\lib\\site-packages (from pandas->shap) (2023.3.post1)\n",
      "Requirement already satisfied: tzdata>=2022.1 in c:\\users\\dell\\anaconda3\\lib\\site-packages (from pandas->shap) (2023.3)\n",
      "Requirement already satisfied: joblib>=1.1.1 in c:\\users\\dell\\anaconda3\\lib\\site-packages (from scikit-learn->shap) (1.2.0)\n",
      "Requirement already satisfied: threadpoolctl>=2.0.0 in c:\\users\\dell\\anaconda3\\lib\\site-packages (from scikit-learn->shap) (2.2.0)\n",
      "Requirement already satisfied: six>=1.5 in c:\\users\\dell\\anaconda3\\lib\\site-packages (from python-dateutil>=2.8.2->pandas->shap) (1.16.0)\n",
      "Downloading shap-0.47.2-cp311-cp311-win_amd64.whl (544 kB)\n",
      "   ---------------------------------------- 0.0/544.4 kB ? eta -:--:--\n",
      "   -- ------------------------------------- 30.7/544.4 kB ? eta -:--:--\n",
      "   ----- --------------------------------- 71.7/544.4 kB 975.2 kB/s eta 0:00:01\n",
      "   ----- --------------------------------- 71.7/544.4 kB 975.2 kB/s eta 0:00:01\n",
      "   ------ -------------------------------- 92.2/544.4 kB 655.4 kB/s eta 0:00:01\n",
      "   ------ -------------------------------- 92.2/544.4 kB 655.4 kB/s eta 0:00:01\n",
      "   ------ -------------------------------- 92.2/544.4 kB 655.4 kB/s eta 0:00:01\n",
      "   --------- ---------------------------- 133.1/544.4 kB 413.7 kB/s eta 0:00:01\n",
      "   ------------ ------------------------- 174.1/544.4 kB 455.1 kB/s eta 0:00:01\n",
      "   ------------- ------------------------ 194.6/544.4 kB 471.4 kB/s eta 0:00:01\n",
      "   --------------- ---------------------- 225.3/544.4 kB 491.0 kB/s eta 0:00:01\n",
      "   --------------- ---------------------- 225.3/544.4 kB 491.0 kB/s eta 0:00:01\n",
      "   ------------------ ------------------- 266.2/544.4 kB 496.1 kB/s eta 0:00:01\n",
      "   --------------------- ---------------- 307.2/544.4 kB 513.8 kB/s eta 0:00:01\n",
      "   --------------------- ---------------- 307.2/544.4 kB 513.8 kB/s eta 0:00:01\n",
      "   ------------------------ ------------- 348.2/544.4 kB 502.9 kB/s eta 0:00:01\n",
      "   ------------------------ ------------- 348.2/544.4 kB 502.9 kB/s eta 0:00:01\n",
      "   --------------------------- ---------- 399.4/544.4 kB 508.0 kB/s eta 0:00:01\n",
      "   ------------------------------ ------- 430.1/544.4 kB 526.8 kB/s eta 0:00:01\n",
      "   --------------------------------- ---- 481.3/544.4 kB 547.7 kB/s eta 0:00:01\n",
      "   -------------------------------------  542.7/544.4 kB 597.6 kB/s eta 0:00:01\n",
      "   -------------------------------------- 544.4/544.4 kB 589.6 kB/s eta 0:00:00\n",
      "Downloading slicer-0.0.8-py3-none-any.whl (15 kB)\n",
      "Installing collected packages: slicer, shap\n",
      "Successfully installed shap-0.47.2 slicer-0.0.8\n",
      "Note: you may need to restart the kernel to use updated packages.\n"
     ]
    }
   ],
   "source": [
    "pip install shap\n"
   ]
  },
  {
   "cell_type": "code",
   "execution_count": 10,
   "metadata": {},
   "outputs": [
    {
     "name": "stdout",
     "output_type": "stream",
     "text": [
      "\u001b[1m4/4\u001b[0m \u001b[32m━━━━━━━━━━━━━━━━━━━━\u001b[0m\u001b[37m\u001b[0m \u001b[1m0s\u001b[0m 1ms/step \n"
     ]
    },
    {
     "data": {
      "application/vnd.jupyter.widget-view+json": {
       "model_id": "d453fee411984313b931fdfed673307f",
       "version_major": 2,
       "version_minor": 0
      },
      "text/plain": [
       "  0%|          | 0/50 [00:00<?, ?it/s]"
      ]
     },
     "metadata": {},
     "output_type": "display_data"
    },
    {
     "name": "stdout",
     "output_type": "stream",
     "text": [
      "\u001b[1m1/1\u001b[0m \u001b[32m━━━━━━━━━━━━━━━━━━━━\u001b[0m\u001b[37m\u001b[0m \u001b[1m0s\u001b[0m 42ms/step\n",
      "\u001b[1m6675/6675\u001b[0m \u001b[32m━━━━━━━━━━━━━━━━━━━━\u001b[0m\u001b[37m\u001b[0m \u001b[1m6s\u001b[0m 921us/step\n",
      "\u001b[1m1/1\u001b[0m \u001b[32m━━━━━━━━━━━━━━━━━━━━\u001b[0m\u001b[37m\u001b[0m \u001b[1m0s\u001b[0m 16ms/step\n",
      "\u001b[1m6675/6675\u001b[0m \u001b[32m━━━━━━━━━━━━━━━━━━━━\u001b[0m\u001b[37m\u001b[0m \u001b[1m7s\u001b[0m 1ms/step\n",
      "\u001b[1m1/1\u001b[0m \u001b[32m━━━━━━━━━━━━━━━━━━━━\u001b[0m\u001b[37m\u001b[0m \u001b[1m0s\u001b[0m 33ms/step\n",
      "\u001b[1m6675/6675\u001b[0m \u001b[32m━━━━━━━━━━━━━━━━━━━━\u001b[0m\u001b[37m\u001b[0m \u001b[1m7s\u001b[0m 1ms/step\n",
      "\u001b[1m1/1\u001b[0m \u001b[32m━━━━━━━━━━━━━━━━━━━━\u001b[0m\u001b[37m\u001b[0m \u001b[1m0s\u001b[0m 30ms/step\n",
      "\u001b[1m6675/6675\u001b[0m \u001b[32m━━━━━━━━━━━━━━━━━━━━\u001b[0m\u001b[37m\u001b[0m \u001b[1m7s\u001b[0m 1ms/step\n",
      "\u001b[1m1/1\u001b[0m \u001b[32m━━━━━━━━━━━━━━━━━━━━\u001b[0m\u001b[37m\u001b[0m \u001b[1m0s\u001b[0m 34ms/step\n",
      "\u001b[1m6675/6675\u001b[0m \u001b[32m━━━━━━━━━━━━━━━━━━━━\u001b[0m\u001b[37m\u001b[0m \u001b[1m7s\u001b[0m 1ms/step\n",
      "\u001b[1m1/1\u001b[0m \u001b[32m━━━━━━━━━━━━━━━━━━━━\u001b[0m\u001b[37m\u001b[0m \u001b[1m0s\u001b[0m 37ms/step\n",
      "\u001b[1m6675/6675\u001b[0m \u001b[32m━━━━━━━━━━━━━━━━━━━━\u001b[0m\u001b[37m\u001b[0m \u001b[1m7s\u001b[0m 981us/step\n",
      "\u001b[1m1/1\u001b[0m \u001b[32m━━━━━━━━━━━━━━━━━━━━\u001b[0m\u001b[37m\u001b[0m \u001b[1m0s\u001b[0m 17ms/step\n",
      "\u001b[1m6675/6675\u001b[0m \u001b[32m━━━━━━━━━━━━━━━━━━━━\u001b[0m\u001b[37m\u001b[0m \u001b[1m7s\u001b[0m 1ms/step\n",
      "\u001b[1m1/1\u001b[0m \u001b[32m━━━━━━━━━━━━━━━━━━━━\u001b[0m\u001b[37m\u001b[0m \u001b[1m0s\u001b[0m 16ms/step\n",
      "\u001b[1m6675/6675\u001b[0m \u001b[32m━━━━━━━━━━━━━━━━━━━━\u001b[0m\u001b[37m\u001b[0m \u001b[1m7s\u001b[0m 1ms/step\n",
      "\u001b[1m1/1\u001b[0m \u001b[32m━━━━━━━━━━━━━━━━━━━━\u001b[0m\u001b[37m\u001b[0m \u001b[1m0s\u001b[0m 31ms/step\n",
      "\u001b[1m6675/6675\u001b[0m \u001b[32m━━━━━━━━━━━━━━━━━━━━\u001b[0m\u001b[37m\u001b[0m \u001b[1m7s\u001b[0m 1ms/step\n",
      "\u001b[1m1/1\u001b[0m \u001b[32m━━━━━━━━━━━━━━━━━━━━\u001b[0m\u001b[37m\u001b[0m \u001b[1m0s\u001b[0m 21ms/step\n",
      "\u001b[1m6675/6675\u001b[0m \u001b[32m━━━━━━━━━━━━━━━━━━━━\u001b[0m\u001b[37m\u001b[0m \u001b[1m7s\u001b[0m 1ms/step\n",
      "\u001b[1m1/1\u001b[0m \u001b[32m━━━━━━━━━━━━━━━━━━━━\u001b[0m\u001b[37m\u001b[0m \u001b[1m0s\u001b[0m 38ms/step\n",
      "\u001b[1m6675/6675\u001b[0m \u001b[32m━━━━━━━━━━━━━━━━━━━━\u001b[0m\u001b[37m\u001b[0m \u001b[1m7s\u001b[0m 1ms/step\n",
      "\u001b[1m1/1\u001b[0m \u001b[32m━━━━━━━━━━━━━━━━━━━━\u001b[0m\u001b[37m\u001b[0m \u001b[1m0s\u001b[0m 31ms/step\n",
      "\u001b[1m6675/6675\u001b[0m \u001b[32m━━━━━━━━━━━━━━━━━━━━\u001b[0m\u001b[37m\u001b[0m \u001b[1m7s\u001b[0m 1ms/step\n",
      "\u001b[1m1/1\u001b[0m \u001b[32m━━━━━━━━━━━━━━━━━━━━\u001b[0m\u001b[37m\u001b[0m \u001b[1m0s\u001b[0m 31ms/step\n",
      "\u001b[1m6675/6675\u001b[0m \u001b[32m━━━━━━━━━━━━━━━━━━━━\u001b[0m\u001b[37m\u001b[0m \u001b[1m7s\u001b[0m 1ms/step\n",
      "\u001b[1m1/1\u001b[0m \u001b[32m━━━━━━━━━━━━━━━━━━━━\u001b[0m\u001b[37m\u001b[0m \u001b[1m0s\u001b[0m 36ms/step\n",
      "\u001b[1m6675/6675\u001b[0m \u001b[32m━━━━━━━━━━━━━━━━━━━━\u001b[0m\u001b[37m\u001b[0m \u001b[1m7s\u001b[0m 1ms/step\n",
      "\u001b[1m1/1\u001b[0m \u001b[32m━━━━━━━━━━━━━━━━━━━━\u001b[0m\u001b[37m\u001b[0m \u001b[1m0s\u001b[0m 16ms/step\n",
      "\u001b[1m6675/6675\u001b[0m \u001b[32m━━━━━━━━━━━━━━━━━━━━\u001b[0m\u001b[37m\u001b[0m \u001b[1m7s\u001b[0m 1ms/step\n",
      "\u001b[1m1/1\u001b[0m \u001b[32m━━━━━━━━━━━━━━━━━━━━\u001b[0m\u001b[37m\u001b[0m \u001b[1m0s\u001b[0m 32ms/step\n",
      "\u001b[1m6675/6675\u001b[0m \u001b[32m━━━━━━━━━━━━━━━━━━━━\u001b[0m\u001b[37m\u001b[0m \u001b[1m7s\u001b[0m 1ms/step\n",
      "\u001b[1m1/1\u001b[0m \u001b[32m━━━━━━━━━━━━━━━━━━━━\u001b[0m\u001b[37m\u001b[0m \u001b[1m0s\u001b[0m 32ms/step\n",
      "\u001b[1m6675/6675\u001b[0m \u001b[32m━━━━━━━━━━━━━━━━━━━━\u001b[0m\u001b[37m\u001b[0m \u001b[1m7s\u001b[0m 1ms/step\n",
      "\u001b[1m1/1\u001b[0m \u001b[32m━━━━━━━━━━━━━━━━━━━━\u001b[0m\u001b[37m\u001b[0m \u001b[1m0s\u001b[0m 31ms/step\n",
      "\u001b[1m6675/6675\u001b[0m \u001b[32m━━━━━━━━━━━━━━━━━━━━\u001b[0m\u001b[37m\u001b[0m \u001b[1m7s\u001b[0m 1ms/step\n",
      "\u001b[1m1/1\u001b[0m \u001b[32m━━━━━━━━━━━━━━━━━━━━\u001b[0m\u001b[37m\u001b[0m \u001b[1m0s\u001b[0m 75ms/step\n",
      "\u001b[1m6675/6675\u001b[0m \u001b[32m━━━━━━━━━━━━━━━━━━━━\u001b[0m\u001b[37m\u001b[0m \u001b[1m10s\u001b[0m 2ms/step\n",
      "\u001b[1m1/1\u001b[0m \u001b[32m━━━━━━━━━━━━━━━━━━━━\u001b[0m\u001b[37m\u001b[0m \u001b[1m0s\u001b[0m 28ms/step\n",
      "\u001b[1m6675/6675\u001b[0m \u001b[32m━━━━━━━━━━━━━━━━━━━━\u001b[0m\u001b[37m\u001b[0m \u001b[1m7s\u001b[0m 1ms/step\n",
      "\u001b[1m1/1\u001b[0m \u001b[32m━━━━━━━━━━━━━━━━━━━━\u001b[0m\u001b[37m\u001b[0m \u001b[1m0s\u001b[0m 36ms/step\n",
      "\u001b[1m6675/6675\u001b[0m \u001b[32m━━━━━━━━━━━━━━━━━━━━\u001b[0m\u001b[37m\u001b[0m \u001b[1m7s\u001b[0m 1ms/step\n",
      "\u001b[1m1/1\u001b[0m \u001b[32m━━━━━━━━━━━━━━━━━━━━\u001b[0m\u001b[37m\u001b[0m \u001b[1m0s\u001b[0m 33ms/step\n",
      "\u001b[1m6675/6675\u001b[0m \u001b[32m━━━━━━━━━━━━━━━━━━━━\u001b[0m\u001b[37m\u001b[0m \u001b[1m7s\u001b[0m 1ms/step\n",
      "\u001b[1m1/1\u001b[0m \u001b[32m━━━━━━━━━━━━━━━━━━━━\u001b[0m\u001b[37m\u001b[0m \u001b[1m0s\u001b[0m 31ms/step\n",
      "\u001b[1m6675/6675\u001b[0m \u001b[32m━━━━━━━━━━━━━━━━━━━━\u001b[0m\u001b[37m\u001b[0m \u001b[1m7s\u001b[0m 1ms/step\n",
      "\u001b[1m1/1\u001b[0m \u001b[32m━━━━━━━━━━━━━━━━━━━━\u001b[0m\u001b[37m\u001b[0m \u001b[1m0s\u001b[0m 17ms/step\n",
      "\u001b[1m6675/6675\u001b[0m \u001b[32m━━━━━━━━━━━━━━━━━━━━\u001b[0m\u001b[37m\u001b[0m \u001b[1m8s\u001b[0m 1ms/step\n",
      "\u001b[1m1/1\u001b[0m \u001b[32m━━━━━━━━━━━━━━━━━━━━\u001b[0m\u001b[37m\u001b[0m \u001b[1m0s\u001b[0m 32ms/step\n",
      "\u001b[1m6675/6675\u001b[0m \u001b[32m━━━━━━━━━━━━━━━━━━━━\u001b[0m\u001b[37m\u001b[0m \u001b[1m7s\u001b[0m 1ms/step\n",
      "\u001b[1m1/1\u001b[0m \u001b[32m━━━━━━━━━━━━━━━━━━━━\u001b[0m\u001b[37m\u001b[0m \u001b[1m0s\u001b[0m 29ms/step\n",
      "\u001b[1m6675/6675\u001b[0m \u001b[32m━━━━━━━━━━━━━━━━━━━━\u001b[0m\u001b[37m\u001b[0m \u001b[1m7s\u001b[0m 1ms/step\n",
      "\u001b[1m1/1\u001b[0m \u001b[32m━━━━━━━━━━━━━━━━━━━━\u001b[0m\u001b[37m\u001b[0m \u001b[1m0s\u001b[0m 38ms/step\n",
      "\u001b[1m6675/6675\u001b[0m \u001b[32m━━━━━━━━━━━━━━━━━━━━\u001b[0m\u001b[37m\u001b[0m \u001b[1m7s\u001b[0m 1ms/step\n",
      "\u001b[1m1/1\u001b[0m \u001b[32m━━━━━━━━━━━━━━━━━━━━\u001b[0m\u001b[37m\u001b[0m \u001b[1m0s\u001b[0m 19ms/step\n",
      "\u001b[1m6675/6675\u001b[0m \u001b[32m━━━━━━━━━━━━━━━━━━━━\u001b[0m\u001b[37m\u001b[0m \u001b[1m7s\u001b[0m 1ms/step\n",
      "\u001b[1m1/1\u001b[0m \u001b[32m━━━━━━━━━━━━━━━━━━━━\u001b[0m\u001b[37m\u001b[0m \u001b[1m0s\u001b[0m 34ms/step\n",
      "\u001b[1m6675/6675\u001b[0m \u001b[32m━━━━━━━━━━━━━━━━━━━━\u001b[0m\u001b[37m\u001b[0m \u001b[1m7s\u001b[0m 1ms/step\n",
      "\u001b[1m1/1\u001b[0m \u001b[32m━━━━━━━━━━━━━━━━━━━━\u001b[0m\u001b[37m\u001b[0m \u001b[1m0s\u001b[0m 30ms/step\n",
      "\u001b[1m6675/6675\u001b[0m \u001b[32m━━━━━━━━━━━━━━━━━━━━\u001b[0m\u001b[37m\u001b[0m \u001b[1m8s\u001b[0m 1ms/step\n",
      "\u001b[1m1/1\u001b[0m \u001b[32m━━━━━━━━━━━━━━━━━━━━\u001b[0m\u001b[37m\u001b[0m \u001b[1m0s\u001b[0m 50ms/step\n",
      "\u001b[1m6675/6675\u001b[0m \u001b[32m━━━━━━━━━━━━━━━━━━━━\u001b[0m\u001b[37m\u001b[0m \u001b[1m10s\u001b[0m 1ms/step\n",
      "\u001b[1m1/1\u001b[0m \u001b[32m━━━━━━━━━━━━━━━━━━━━\u001b[0m\u001b[37m\u001b[0m \u001b[1m0s\u001b[0m 39ms/step\n",
      "\u001b[1m6675/6675\u001b[0m \u001b[32m━━━━━━━━━━━━━━━━━━━━\u001b[0m\u001b[37m\u001b[0m \u001b[1m9s\u001b[0m 1ms/step\n",
      "\u001b[1m1/1\u001b[0m \u001b[32m━━━━━━━━━━━━━━━━━━━━\u001b[0m\u001b[37m\u001b[0m \u001b[1m0s\u001b[0m 31ms/step\n",
      "\u001b[1m6675/6675\u001b[0m \u001b[32m━━━━━━━━━━━━━━━━━━━━\u001b[0m\u001b[37m\u001b[0m \u001b[1m9s\u001b[0m 1ms/step\n",
      "\u001b[1m1/1\u001b[0m \u001b[32m━━━━━━━━━━━━━━━━━━━━\u001b[0m\u001b[37m\u001b[0m \u001b[1m0s\u001b[0m 32ms/step\n",
      "\u001b[1m6675/6675\u001b[0m \u001b[32m━━━━━━━━━━━━━━━━━━━━\u001b[0m\u001b[37m\u001b[0m \u001b[1m9s\u001b[0m 1ms/step\n",
      "\u001b[1m1/1\u001b[0m \u001b[32m━━━━━━━━━━━━━━━━━━━━\u001b[0m\u001b[37m\u001b[0m \u001b[1m0s\u001b[0m 33ms/step\n",
      "\u001b[1m6675/6675\u001b[0m \u001b[32m━━━━━━━━━━━━━━━━━━━━\u001b[0m\u001b[37m\u001b[0m \u001b[1m9s\u001b[0m 1ms/step\n",
      "\u001b[1m1/1\u001b[0m \u001b[32m━━━━━━━━━━━━━━━━━━━━\u001b[0m\u001b[37m\u001b[0m \u001b[1m0s\u001b[0m 49ms/step\n",
      "\u001b[1m6675/6675\u001b[0m \u001b[32m━━━━━━━━━━━━━━━━━━━━\u001b[0m\u001b[37m\u001b[0m \u001b[1m9s\u001b[0m 1ms/step\n",
      "\u001b[1m1/1\u001b[0m \u001b[32m━━━━━━━━━━━━━━━━━━━━\u001b[0m\u001b[37m\u001b[0m \u001b[1m0s\u001b[0m 35ms/step\n",
      "\u001b[1m6675/6675\u001b[0m \u001b[32m━━━━━━━━━━━━━━━━━━━━\u001b[0m\u001b[37m\u001b[0m \u001b[1m9s\u001b[0m 1ms/step\n",
      "\u001b[1m1/1\u001b[0m \u001b[32m━━━━━━━━━━━━━━━━━━━━\u001b[0m\u001b[37m\u001b[0m \u001b[1m0s\u001b[0m 28ms/step\n",
      "\u001b[1m6675/6675\u001b[0m \u001b[32m━━━━━━━━━━━━━━━━━━━━\u001b[0m\u001b[37m\u001b[0m \u001b[1m9s\u001b[0m 1ms/step\n",
      "\u001b[1m1/1\u001b[0m \u001b[32m━━━━━━━━━━━━━━━━━━━━\u001b[0m\u001b[37m\u001b[0m \u001b[1m0s\u001b[0m 48ms/step\n",
      "\u001b[1m6675/6675\u001b[0m \u001b[32m━━━━━━━━━━━━━━━━━━━━\u001b[0m\u001b[37m\u001b[0m \u001b[1m9s\u001b[0m 1ms/step\n",
      "\u001b[1m1/1\u001b[0m \u001b[32m━━━━━━━━━━━━━━━━━━━━\u001b[0m\u001b[37m\u001b[0m \u001b[1m0s\u001b[0m 38ms/step\n",
      "\u001b[1m6675/6675\u001b[0m \u001b[32m━━━━━━━━━━━━━━━━━━━━\u001b[0m\u001b[37m\u001b[0m \u001b[1m8s\u001b[0m 1ms/step\n",
      "\u001b[1m1/1\u001b[0m \u001b[32m━━━━━━━━━━━━━━━━━━━━\u001b[0m\u001b[37m\u001b[0m \u001b[1m0s\u001b[0m 29ms/step\n",
      "\u001b[1m6675/6675\u001b[0m \u001b[32m━━━━━━━━━━━━━━━━━━━━\u001b[0m\u001b[37m\u001b[0m \u001b[1m7s\u001b[0m 1ms/step\n",
      "\u001b[1m1/1\u001b[0m \u001b[32m━━━━━━━━━━━━━━━━━━━━\u001b[0m\u001b[37m\u001b[0m \u001b[1m0s\u001b[0m 42ms/step\n",
      "\u001b[1m6675/6675\u001b[0m \u001b[32m━━━━━━━━━━━━━━━━━━━━\u001b[0m\u001b[37m\u001b[0m \u001b[1m7s\u001b[0m 1ms/step\n",
      "\u001b[1m1/1\u001b[0m \u001b[32m━━━━━━━━━━━━━━━━━━━━\u001b[0m\u001b[37m\u001b[0m \u001b[1m0s\u001b[0m 33ms/step\n",
      "\u001b[1m6675/6675\u001b[0m \u001b[32m━━━━━━━━━━━━━━━━━━━━\u001b[0m\u001b[37m\u001b[0m \u001b[1m7s\u001b[0m 1ms/step\n",
      "\u001b[1m1/1\u001b[0m \u001b[32m━━━━━━━━━━━━━━━━━━━━\u001b[0m\u001b[37m\u001b[0m \u001b[1m0s\u001b[0m 20ms/step\n",
      "\u001b[1m6675/6675\u001b[0m \u001b[32m━━━━━━━━━━━━━━━━━━━━\u001b[0m\u001b[37m\u001b[0m \u001b[1m13s\u001b[0m 2ms/step\n",
      "\u001b[1m1/1\u001b[0m \u001b[32m━━━━━━━━━━━━━━━━━━━━\u001b[0m\u001b[37m\u001b[0m \u001b[1m0s\u001b[0m 37ms/step\n",
      "\u001b[1m6675/6675\u001b[0m \u001b[32m━━━━━━━━━━━━━━━━━━━━\u001b[0m\u001b[37m\u001b[0m \u001b[1m11s\u001b[0m 2ms/step\n",
      "\u001b[1m1/1\u001b[0m \u001b[32m━━━━━━━━━━━━━━━━━━━━\u001b[0m\u001b[37m\u001b[0m \u001b[1m0s\u001b[0m 48ms/step\n",
      "\u001b[1m6675/6675\u001b[0m \u001b[32m━━━━━━━━━━━━━━━━━━━━\u001b[0m\u001b[37m\u001b[0m \u001b[1m9s\u001b[0m 1ms/step\n",
      "\u001b[1m1/1\u001b[0m \u001b[32m━━━━━━━━━━━━━━━━━━━━\u001b[0m\u001b[37m\u001b[0m \u001b[1m0s\u001b[0m 31ms/step\n",
      "\u001b[1m6675/6675\u001b[0m \u001b[32m━━━━━━━━━━━━━━━━━━━━\u001b[0m\u001b[37m\u001b[0m \u001b[1m11s\u001b[0m 2ms/step\n",
      "\u001b[1m1/1\u001b[0m \u001b[32m━━━━━━━━━━━━━━━━━━━━\u001b[0m\u001b[37m\u001b[0m \u001b[1m0s\u001b[0m 28ms/step\n",
      "\u001b[1m6675/6675\u001b[0m \u001b[32m━━━━━━━━━━━━━━━━━━━━\u001b[0m\u001b[37m\u001b[0m \u001b[1m8s\u001b[0m 1ms/step\n",
      "\u001b[1m1/1\u001b[0m \u001b[32m━━━━━━━━━━━━━━━━━━━━\u001b[0m\u001b[37m\u001b[0m \u001b[1m0s\u001b[0m 33ms/step\n",
      "\u001b[1m6675/6675\u001b[0m \u001b[32m━━━━━━━━━━━━━━━━━━━━\u001b[0m\u001b[37m\u001b[0m \u001b[1m8s\u001b[0m 1ms/step\n",
      "\u001b[1m1/1\u001b[0m \u001b[32m━━━━━━━━━━━━━━━━━━━━\u001b[0m\u001b[37m\u001b[0m \u001b[1m0s\u001b[0m 21ms/step\n",
      "\u001b[1m6675/6675\u001b[0m \u001b[32m━━━━━━━━━━━━━━━━━━━━\u001b[0m\u001b[37m\u001b[0m \u001b[1m7s\u001b[0m 1ms/step\n"
     ]
    },
    {
     "data": {
      "text/plain": [
       "<Figure size 640x480 with 0 Axes>"
      ]
     },
     "metadata": {},
     "output_type": "display_data"
    },
    {
     "data": {
      "image/png": "[encoded data removed]",
      "text/plain": [
       "<Figure size 1150x660 with 1 Axes>"
      ]
     },
     "metadata": {},
     "output_type": "display_data"
    }
   ],
   "source": [
    "import shap\n",
    "\n",
    "# Use the last trained model and scaled data (or pick any fold)\n",
    "explainer = shap.KernelExplainer(model.predict, X_train_scaled[:100])  # Limit to 100 samples for performance\n",
    "shap_values = explainer.shap_values(X_test_scaled[:50])  # Explain 50 test samples\n",
    "\n",
    "# Plot summary of feature importance\n",
    "shap.summary_plot(shap_values, X_test_scaled[:50], feature_names=[f'Feature {i+1}' for i in range(X_fcm.shape[1])])\n"
   ]
  },
  {
   "cell_type": "markdown",
   "metadata": {},
   "source": [
    "## Using Plotly"
   ]
  },
  {
   "cell_type": "code",
   "execution_count": 18,
   "metadata": {},
   "outputs": [
    {
     "name": "stderr",
     "output_type": "stream",
     "text": [
      "c:\\Users\\DELL\\anaconda3\\Lib\\site-packages\\keras\\src\\layers\\core\\dense.py:87: UserWarning:\n",
      "\n",
      "Do not pass an `input_shape`/`input_dim` argument to a layer. When using Sequential models, prefer using an `Input(shape)` object as the first layer in the model instead.\n",
      "\n"
     ]
    },
    {
     "name": "stdout",
     "output_type": "stream",
     "text": [
      "\u001b[1m2/2\u001b[0m \u001b[32m━━━━━━━━━━━━━━━━━━━━\u001b[0m\u001b[37m\u001b[0m \u001b[1m0s\u001b[0m 70ms/step\n"
     ]
    },
    {
     "data": {
      "application/vnd.jupyter.widget-view+json": {
       "model_id": "c5acd4923c2e47e98e20ff86b31d5699",
       "version_major": 2,
       "version_minor": 0
      },
      "text/plain": [
       "  0%|          | 0/50 [00:00<?, ?it/s]"
      ]
     },
     "metadata": {},
     "output_type": "display_data"
    },
    {
     "name": "stdout",
     "output_type": "stream",
     "text": [
      "\u001b[1m1/1\u001b[0m \u001b[32m━━━━━━━━━━━━━━━━━━━━\u001b[0m\u001b[37m\u001b[0m \u001b[1m0s\u001b[0m 33ms/step\n",
      "\u001b[1m3338/3338\u001b[0m \u001b[32m━━━━━━━━━━━━━━━━━━━━\u001b[0m\u001b[37m\u001b[0m \u001b[1m3s\u001b[0m 1ms/step\n",
      "\u001b[1m1/1\u001b[0m \u001b[32m━━━━━━━━━━━━━━━━━━━━\u001b[0m\u001b[37m\u001b[0m \u001b[1m0s\u001b[0m 38ms/step\n",
      "\u001b[1m3338/3338\u001b[0m \u001b[32m━━━━━━━━━━━━━━━━━━━━\u001b[0m\u001b[37m\u001b[0m \u001b[1m3s\u001b[0m 989us/step\n",
      "\u001b[1m1/1\u001b[0m \u001b[32m━━━━━━━━━━━━━━━━━━━━\u001b[0m\u001b[37m\u001b[0m \u001b[1m0s\u001b[0m 26ms/step\n",
      "\u001b[1m3338/3338\u001b[0m \u001b[32m━━━━━━━━━━━━━━━━━━━━\u001b[0m\u001b[37m\u001b[0m \u001b[1m3s\u001b[0m 1ms/step\n",
      "\u001b[1m1/1\u001b[0m \u001b[32m━━━━━━━━━━━━━━━━━━━━\u001b[0m\u001b[37m\u001b[0m \u001b[1m0s\u001b[0m 33ms/step\n",
      "\u001b[1m3338/3338\u001b[0m \u001b[32m━━━━━━━━━━━━━━━━━━━━\u001b[0m\u001b[37m\u001b[0m \u001b[1m3s\u001b[0m 1ms/step\n",
      "\u001b[1m1/1\u001b[0m \u001b[32m━━━━━━━━━━━━━━━━━━━━\u001b[0m\u001b[37m\u001b[0m \u001b[1m0s\u001b[0m 28ms/step\n",
      "\u001b[1m3338/3338\u001b[0m \u001b[32m━━━━━━━━━━━━━━━━━━━━\u001b[0m\u001b[37m\u001b[0m \u001b[1m3s\u001b[0m 981us/step\n",
      "\u001b[1m1/1\u001b[0m \u001b[32m━━━━━━━━━━━━━━━━━━━━\u001b[0m\u001b[37m\u001b[0m \u001b[1m0s\u001b[0m 33ms/step\n",
      "\u001b[1m3338/3338\u001b[0m \u001b[32m━━━━━━━━━━━━━━━━━━━━\u001b[0m\u001b[37m\u001b[0m \u001b[1m3s\u001b[0m 968us/step\n",
      "\u001b[1m1/1\u001b[0m \u001b[32m━━━━━━━━━━━━━━━━━━━━\u001b[0m\u001b[37m\u001b[0m \u001b[1m0s\u001b[0m 12ms/step\n",
      "\u001b[1m3338/3338\u001b[0m \u001b[32m━━━━━━━━━━━━━━━━━━━━\u001b[0m\u001b[37m\u001b[0m \u001b[1m3s\u001b[0m 1ms/step\n",
      "\u001b[1m1/1\u001b[0m \u001b[32m━━━━━━━━━━━━━━━━━━━━\u001b[0m\u001b[37m\u001b[0m \u001b[1m0s\u001b[0m 21ms/step\n",
      "\u001b[1m3338/3338\u001b[0m \u001b[32m━━━━━━━━━━━━━━━━━━━━\u001b[0m\u001b[37m\u001b[0m \u001b[1m3s\u001b[0m 999us/step\n",
      "\u001b[1m1/1\u001b[0m \u001b[32m━━━━━━━━━━━━━━━━━━━━\u001b[0m\u001b[37m\u001b[0m \u001b[1m0s\u001b[0m 33ms/step\n",
      "\u001b[1m3338/3338\u001b[0m \u001b[32m━━━━━━━━━━━━━━━━━━━━\u001b[0m\u001b[37m\u001b[0m \u001b[1m3s\u001b[0m 969us/step\n",
      "\u001b[1m1/1\u001b[0m \u001b[32m━━━━━━━━━━━━━━━━━━━━\u001b[0m\u001b[37m\u001b[0m \u001b[1m0s\u001b[0m 21ms/step\n",
      "\u001b[1m3338/3338\u001b[0m \u001b[32m━━━━━━━━━━━━━━━━━━━━\u001b[0m\u001b[37m\u001b[0m \u001b[1m3s\u001b[0m 1ms/step\n",
      "\u001b[1m1/1\u001b[0m \u001b[32m━━━━━━━━━━━━━━━━━━━━\u001b[0m\u001b[37m\u001b[0m \u001b[1m0s\u001b[0m 31ms/step\n",
      "\u001b[1m3338/3338\u001b[0m \u001b[32m━━━━━━━━━━━━━━━━━━━━\u001b[0m\u001b[37m\u001b[0m \u001b[1m3s\u001b[0m 1ms/step\n",
      "\u001b[1m1/1\u001b[0m \u001b[32m━━━━━━━━━━━━━━━━━━━━\u001b[0m\u001b[37m\u001b[0m \u001b[1m0s\u001b[0m 33ms/step\n",
      "\u001b[1m3338/3338\u001b[0m \u001b[32m━━━━━━━━━━━━━━━━━━━━\u001b[0m\u001b[37m\u001b[0m \u001b[1m4s\u001b[0m 1ms/step\n",
      "\u001b[1m1/1\u001b[0m \u001b[32m━━━━━━━━━━━━━━━━━━━━\u001b[0m\u001b[37m\u001b[0m \u001b[1m0s\u001b[0m 40ms/step\n",
      "\u001b[1m3338/3338\u001b[0m \u001b[32m━━━━━━━━━━━━━━━━━━━━\u001b[0m\u001b[37m\u001b[0m \u001b[1m4s\u001b[0m 1ms/step\n",
      "\u001b[1m1/1\u001b[0m \u001b[32m━━━━━━━━━━━━━━━━━━━━\u001b[0m\u001b[37m\u001b[0m \u001b[1m0s\u001b[0m 33ms/step\n",
      "\u001b[1m3338/3338\u001b[0m \u001b[32m━━━━━━━━━━━━━━━━━━━━\u001b[0m\u001b[37m\u001b[0m \u001b[1m3s\u001b[0m 1ms/step\n",
      "\u001b[1m1/1\u001b[0m \u001b[32m━━━━━━━━━━━━━━━━━━━━\u001b[0m\u001b[37m\u001b[0m \u001b[1m0s\u001b[0m 17ms/step\n",
      "\u001b[1m3338/3338\u001b[0m \u001b[32m━━━━━━━━━━━━━━━━━━━━\u001b[0m\u001b[37m\u001b[0m \u001b[1m3s\u001b[0m 1ms/step\n",
      "\u001b[1m1/1\u001b[0m \u001b[32m━━━━━━━━━━━━━━━━━━━━\u001b[0m\u001b[37m\u001b[0m \u001b[1m0s\u001b[0m 39ms/step\n",
      "\u001b[1m3338/3338\u001b[0m \u001b[32m━━━━━━━━━━━━━━━━━━━━\u001b[0m\u001b[37m\u001b[0m \u001b[1m3s\u001b[0m 1ms/step\n",
      "\u001b[1m1/1\u001b[0m \u001b[32m━━━━━━━━━━━━━━━━━━━━\u001b[0m\u001b[37m\u001b[0m \u001b[1m0s\u001b[0m 32ms/step\n",
      "\u001b[1m3338/3338\u001b[0m \u001b[32m━━━━━━━━━━━━━━━━━━━━\u001b[0m\u001b[37m\u001b[0m \u001b[1m3s\u001b[0m 1ms/step\n",
      "\u001b[1m1/1\u001b[0m \u001b[32m━━━━━━━━━━━━━━━━━━━━\u001b[0m\u001b[37m\u001b[0m \u001b[1m0s\u001b[0m 28ms/step\n",
      "\u001b[1m3338/3338\u001b[0m \u001b[32m━━━━━━━━━━━━━━━━━━━━\u001b[0m\u001b[37m\u001b[0m \u001b[1m3s\u001b[0m 993us/step\n",
      "\u001b[1m1/1\u001b[0m \u001b[32m━━━━━━━━━━━━━━━━━━━━\u001b[0m\u001b[37m\u001b[0m \u001b[1m0s\u001b[0m 31ms/step\n",
      "\u001b[1m3338/3338\u001b[0m \u001b[32m━━━━━━━━━━━━━━━━━━━━\u001b[0m\u001b[37m\u001b[0m \u001b[1m4s\u001b[0m 1ms/step\n",
      "\u001b[1m1/1\u001b[0m \u001b[32m━━━━━━━━━━━━━━━━━━━━\u001b[0m\u001b[37m\u001b[0m \u001b[1m0s\u001b[0m 31ms/step\n",
      "\u001b[1m3338/3338\u001b[0m \u001b[32m━━━━━━━━━━━━━━━━━━━━\u001b[0m\u001b[37m\u001b[0m \u001b[1m3s\u001b[0m 1ms/step\n",
      "\u001b[1m1/1\u001b[0m \u001b[32m━━━━━━━━━━━━━━━━━━━━\u001b[0m\u001b[37m\u001b[0m \u001b[1m0s\u001b[0m 22ms/step\n",
      "\u001b[1m3338/3338\u001b[0m \u001b[32m━━━━━━━━━━━━━━━━━━━━\u001b[0m\u001b[37m\u001b[0m \u001b[1m3s\u001b[0m 1ms/step\n",
      "\u001b[1m1/1\u001b[0m \u001b[32m━━━━━━━━━━━━━━━━━━━━\u001b[0m\u001b[37m\u001b[0m \u001b[1m0s\u001b[0m 37ms/step\n",
      "\u001b[1m3338/3338\u001b[0m \u001b[32m━━━━━━━━━━━━━━━━━━━━\u001b[0m\u001b[37m\u001b[0m \u001b[1m3s\u001b[0m 1ms/step\n",
      "\u001b[1m1/1\u001b[0m \u001b[32m━━━━━━━━━━━━━━━━━━━━\u001b[0m\u001b[37m\u001b[0m \u001b[1m0s\u001b[0m 30ms/step\n",
      "\u001b[1m3338/3338\u001b[0m \u001b[32m━━━━━━━━━━━━━━━━━━━━\u001b[0m\u001b[37m\u001b[0m \u001b[1m3s\u001b[0m 1ms/step\n",
      "\u001b[1m1/1\u001b[0m \u001b[32m━━━━━━━━━━━━━━━━━━━━\u001b[0m\u001b[37m\u001b[0m \u001b[1m0s\u001b[0m 17ms/step\n",
      "\u001b[1m3338/3338\u001b[0m \u001b[32m━━━━━━━━━━━━━━━━━━━━\u001b[0m\u001b[37m\u001b[0m \u001b[1m3s\u001b[0m 1ms/step\n",
      "\u001b[1m1/1\u001b[0m \u001b[32m━━━━━━━━━━━━━━━━━━━━\u001b[0m\u001b[37m\u001b[0m \u001b[1m0s\u001b[0m 28ms/step\n",
      "\u001b[1m3338/3338\u001b[0m \u001b[32m━━━━━━━━━━━━━━━━━━━━\u001b[0m\u001b[37m\u001b[0m \u001b[1m3s\u001b[0m 1ms/step\n",
      "\u001b[1m1/1\u001b[0m \u001b[32m━━━━━━━━━━━━━━━━━━━━\u001b[0m\u001b[37m\u001b[0m \u001b[1m0s\u001b[0m 30ms/step\n",
      "\u001b[1m3338/3338\u001b[0m \u001b[32m━━━━━━━━━━━━━━━━━━━━\u001b[0m\u001b[37m\u001b[0m \u001b[1m4s\u001b[0m 1ms/step\n",
      "\u001b[1m1/1\u001b[0m \u001b[32m━━━━━━━━━━━━━━━━━━━━\u001b[0m\u001b[37m\u001b[0m \u001b[1m0s\u001b[0m 26ms/step\n",
      "\u001b[1m3338/3338\u001b[0m \u001b[32m━━━━━━━━━━━━━━━━━━━━\u001b[0m\u001b[37m\u001b[0m \u001b[1m3s\u001b[0m 1ms/step\n",
      "\u001b[1m1/1\u001b[0m \u001b[32m━━━━━━━━━━━━━━━━━━━━\u001b[0m\u001b[37m\u001b[0m \u001b[1m0s\u001b[0m 35ms/step\n",
      "\u001b[1m3338/3338\u001b[0m \u001b[32m━━━━━━━━━━━━━━━━━━━━\u001b[0m\u001b[37m\u001b[0m \u001b[1m3s\u001b[0m 1ms/step\n",
      "\u001b[1m1/1\u001b[0m \u001b[32m━━━━━━━━━━━━━━━━━━━━\u001b[0m\u001b[37m\u001b[0m \u001b[1m0s\u001b[0m 16ms/step\n",
      "\u001b[1m3338/3338\u001b[0m \u001b[32m━━━━━━━━━━━━━━━━━━━━\u001b[0m\u001b[37m\u001b[0m \u001b[1m3s\u001b[0m 1ms/step\n",
      "\u001b[1m1/1\u001b[0m \u001b[32m━━━━━━━━━━━━━━━━━━━━\u001b[0m\u001b[37m\u001b[0m \u001b[1m0s\u001b[0m 21ms/step\n",
      "\u001b[1m3338/3338\u001b[0m \u001b[32m━━━━━━━━━━━━━━━━━━━━\u001b[0m\u001b[37m\u001b[0m \u001b[1m3s\u001b[0m 999us/step\n",
      "\u001b[1m1/1\u001b[0m \u001b[32m━━━━━━━━━━━━━━━━━━━━\u001b[0m\u001b[37m\u001b[0m \u001b[1m0s\u001b[0m 31ms/step\n",
      "\u001b[1m3338/3338\u001b[0m \u001b[32m━━━━━━━━━━━━━━━━━━━━\u001b[0m\u001b[37m\u001b[0m \u001b[1m3s\u001b[0m 1ms/step\n",
      "\u001b[1m1/1\u001b[0m \u001b[32m━━━━━━━━━━━━━━━━━━━━\u001b[0m\u001b[37m\u001b[0m \u001b[1m0s\u001b[0m 16ms/step\n",
      "\u001b[1m3338/3338\u001b[0m \u001b[32m━━━━━━━━━━━━━━━━━━━━\u001b[0m\u001b[37m\u001b[0m \u001b[1m4s\u001b[0m 1ms/step\n",
      "\u001b[1m1/1\u001b[0m \u001b[32m━━━━━━━━━━━━━━━━━━━━\u001b[0m\u001b[37m\u001b[0m \u001b[1m0s\u001b[0m 32ms/step\n",
      "\u001b[1m3338/3338\u001b[0m \u001b[32m━━━━━━━━━━━━━━━━━━━━\u001b[0m\u001b[37m\u001b[0m \u001b[1m4s\u001b[0m 1ms/step\n",
      "\u001b[1m1/1\u001b[0m \u001b[32m━━━━━━━━━━━━━━━━━━━━\u001b[0m\u001b[37m\u001b[0m \u001b[1m0s\u001b[0m 33ms/step\n",
      "\u001b[1m3338/3338\u001b[0m \u001b[32m━━━━━━━━━━━━━━━━━━━━\u001b[0m\u001b[37m\u001b[0m \u001b[1m4s\u001b[0m 1ms/step\n",
      "\u001b[1m1/1\u001b[0m \u001b[32m━━━━━━━━━━━━━━━━━━━━\u001b[0m\u001b[37m\u001b[0m \u001b[1m0s\u001b[0m 16ms/step\n",
      "\u001b[1m3338/3338\u001b[0m \u001b[32m━━━━━━━━━━━━━━━━━━━━\u001b[0m\u001b[37m\u001b[0m \u001b[1m3s\u001b[0m 1ms/step\n",
      "\u001b[1m1/1\u001b[0m \u001b[32m━━━━━━━━━━━━━━━━━━━━\u001b[0m\u001b[37m\u001b[0m \u001b[1m0s\u001b[0m 18ms/step\n",
      "\u001b[1m3338/3338\u001b[0m \u001b[32m━━━━━━━━━━━━━━━━━━━━\u001b[0m\u001b[37m\u001b[0m \u001b[1m4s\u001b[0m 1ms/step\n",
      "\u001b[1m1/1\u001b[0m \u001b[32m━━━━━━━━━━━━━━━━━━━━\u001b[0m\u001b[37m\u001b[0m \u001b[1m0s\u001b[0m 19ms/step\n",
      "\u001b[1m3338/3338\u001b[0m \u001b[32m━━━━━━━━━━━━━━━━━━━━\u001b[0m\u001b[37m\u001b[0m \u001b[1m3s\u001b[0m 1ms/step\n",
      "\u001b[1m1/1\u001b[0m \u001b[32m━━━━━━━━━━━━━━━━━━━━\u001b[0m\u001b[37m\u001b[0m \u001b[1m0s\u001b[0m 38ms/step\n",
      "\u001b[1m3338/3338\u001b[0m \u001b[32m━━━━━━━━━━━━━━━━━━━━\u001b[0m\u001b[37m\u001b[0m \u001b[1m4s\u001b[0m 1ms/step\n",
      "\u001b[1m1/1\u001b[0m \u001b[32m━━━━━━━━━━━━━━━━━━━━\u001b[0m\u001b[37m\u001b[0m \u001b[1m0s\u001b[0m 32ms/step\n",
      "\u001b[1m3338/3338\u001b[0m \u001b[32m━━━━━━━━━━━━━━━━━━━━\u001b[0m\u001b[37m\u001b[0m \u001b[1m5s\u001b[0m 2ms/step\n",
      "\u001b[1m1/1\u001b[0m \u001b[32m━━━━━━━━━━━━━━━━━━━━\u001b[0m\u001b[37m\u001b[0m \u001b[1m0s\u001b[0m 42ms/step\n",
      "\u001b[1m3338/3338\u001b[0m \u001b[32m━━━━━━━━━━━━━━━━━━━━\u001b[0m\u001b[37m\u001b[0m \u001b[1m6s\u001b[0m 2ms/step\n",
      "\u001b[1m1/1\u001b[0m \u001b[32m━━━━━━━━━━━━━━━━━━━━\u001b[0m\u001b[37m\u001b[0m \u001b[1m0s\u001b[0m 31ms/step\n",
      "\u001b[1m3338/3338\u001b[0m \u001b[32m━━━━━━━━━━━━━━━━━━━━\u001b[0m\u001b[37m\u001b[0m \u001b[1m4s\u001b[0m 1ms/step\n",
      "\u001b[1m1/1\u001b[0m \u001b[32m━━━━━━━━━━━━━━━━━━━━\u001b[0m\u001b[37m\u001b[0m \u001b[1m0s\u001b[0m 17ms/step\n",
      "\u001b[1m3338/3338\u001b[0m \u001b[32m━━━━━━━━━━━━━━━━━━━━\u001b[0m\u001b[37m\u001b[0m \u001b[1m5s\u001b[0m 1ms/step\n",
      "\u001b[1m1/1\u001b[0m \u001b[32m━━━━━━━━━━━━━━━━━━━━\u001b[0m\u001b[37m\u001b[0m \u001b[1m0s\u001b[0m 30ms/step\n",
      "\u001b[1m3338/3338\u001b[0m \u001b[32m━━━━━━━━━━━━━━━━━━━━\u001b[0m\u001b[37m\u001b[0m \u001b[1m6s\u001b[0m 2ms/step\n",
      "\u001b[1m1/1\u001b[0m \u001b[32m━━━━━━━━━━━━━━━━━━━━\u001b[0m\u001b[37m\u001b[0m \u001b[1m0s\u001b[0m 54ms/step\n",
      "\u001b[1m3338/3338\u001b[0m \u001b[32m━━━━━━━━━━━━━━━━━━━━\u001b[0m\u001b[37m\u001b[0m \u001b[1m4s\u001b[0m 1ms/step\n",
      "\u001b[1m1/1\u001b[0m \u001b[32m━━━━━━━━━━━━━━━━━━━━\u001b[0m\u001b[37m\u001b[0m \u001b[1m0s\u001b[0m 38ms/step\n",
      "\u001b[1m3338/3338\u001b[0m \u001b[32m━━━━━━━━━━━━━━━━━━━━\u001b[0m\u001b[37m\u001b[0m \u001b[1m5s\u001b[0m 1ms/step\n",
      "\u001b[1m1/1\u001b[0m \u001b[32m━━━━━━━━━━━━━━━━━━━━\u001b[0m\u001b[37m\u001b[0m \u001b[1m0s\u001b[0m 33ms/step\n",
      "\u001b[1m3338/3338\u001b[0m \u001b[32m━━━━━━━━━━━━━━━━━━━━\u001b[0m\u001b[37m\u001b[0m \u001b[1m5s\u001b[0m 1ms/step\n",
      "\u001b[1m1/1\u001b[0m \u001b[32m━━━━━━━━━━━━━━━━━━━━\u001b[0m\u001b[37m\u001b[0m \u001b[1m0s\u001b[0m 41ms/step\n",
      "\u001b[1m3338/3338\u001b[0m \u001b[32m━━━━━━━━━━━━━━━━━━━━\u001b[0m\u001b[37m\u001b[0m \u001b[1m5s\u001b[0m 1ms/step\n",
      "\u001b[1m1/1\u001b[0m \u001b[32m━━━━━━━━━━━━━━━━━━━━\u001b[0m\u001b[37m\u001b[0m \u001b[1m0s\u001b[0m 50ms/step\n",
      "\u001b[1m3338/3338\u001b[0m \u001b[32m━━━━━━━━━━━━━━━━━━━━\u001b[0m\u001b[37m\u001b[0m \u001b[1m5s\u001b[0m 2ms/step\n",
      "\u001b[1m1/1\u001b[0m \u001b[32m━━━━━━━━━━━━━━━━━━━━\u001b[0m\u001b[37m\u001b[0m \u001b[1m0s\u001b[0m 33ms/step\n",
      "\u001b[1m3338/3338\u001b[0m \u001b[32m━━━━━━━━━━━━━━━━━━━━\u001b[0m\u001b[37m\u001b[0m \u001b[1m5s\u001b[0m 2ms/step\n",
      "\u001b[1m1/1\u001b[0m \u001b[32m━━━━━━━━━━━━━━━━━━━━\u001b[0m\u001b[37m\u001b[0m \u001b[1m0s\u001b[0m 29ms/step\n",
      "\u001b[1m3338/3338\u001b[0m \u001b[32m━━━━━━━━━━━━━━━━━━━━\u001b[0m\u001b[37m\u001b[0m \u001b[1m4s\u001b[0m 1ms/step\n"
     ]
    },
    {
     "data": {
      "application/vnd.plotly.v1+json": {
       "config": {
        "plotlyServerURL": "https://plot.ly"
       },
       "data": [
        {
         "marker": {
          "color": "rgba(56, 102, 152, 0.8)",
          "line": {
           "color": "rgba(56, 102, 152, 1.0)",
           "width": 1.5
          }
         },
         "orientation": "h",
         "type": "bar",
         "x": [
          [
           [
            0.2573273229705215
           ]
          ],
          [
           [
            0.2573273229705215
           ]
          ],
          [
           [
            0.2573273229705215
           ]
          ],
          [
           [
            0.2573273229705215
           ]
          ],
          [
           [
            0.2573273229705215
           ]
          ],
          [
           [
            0.2573273229705215
           ]
          ],
          [
           [
            0.2573273229705215
           ]
          ],
          [
           [
            0.2573273229705215
           ]
          ],
          [
           [
            0.2573273229705215
           ]
          ],
          [
           [
            0.2573273229705215
           ]
          ],
          [
           [
            0.2573273229705215
           ]
          ],
          [
           [
            0.2573273229705215
           ]
          ],
          [
           [
            0.2573273229705215
           ]
          ],
          [
           [
            0.2573273229705215
           ]
          ],
          [
           [
            0.2573273229705215
           ]
          ]
         ],
         "y": [
          [
           "Feature 1"
          ],
          [
           "Feature 1"
          ],
          [
           "Feature 1"
          ],
          [
           "Feature 1"
          ],
          [
           "Feature 1"
          ],
          [
           "Feature 1"
          ],
          [
           "Feature 1"
          ],
          [
           "Feature 1"
          ],
          [
           "Feature 1"
          ],
          [
           "Feature 1"
          ],
          [
           "Feature 1"
          ],
          [
           "Feature 1"
          ],
          [
           "Feature 1"
          ],
          [
           "Feature 1"
          ],
          [
           "Feature 1"
          ]
         ]
        }
       ],
       "layout": {
        "height": 600,
        "template": {
         "data": {
          "bar": [
           {
            "error_x": {
             "color": "#2a3f5f"
            },
            "error_y": {
             "color": "#2a3f5f"
            },
            "marker": {
             "line": {
              "color": "white",
              "width": 0.5
             },
             "pattern": {
              "fillmode": "overlay",
              "size": 10,
              "solidity": 0.2
             }
            },
            "type": "bar"
           }
          ],
          "barpolar": [
           {
            "marker": {
             "line": {
              "color": "white",
              "width": 0.5
             },
             "pattern": {
              "fillmode": "overlay",
              "size": 10,
              "solidity": 0.2
             }
            },
            "type": "barpolar"
           }
          ],
          "carpet": [
           {
            "aaxis": {
             "endlinecolor": "#2a3f5f",
             "gridcolor": "#C8D4E3",
             "linecolor": "#C8D4E3",
             "minorgridcolor": "#C8D4E3",
             "startlinecolor": "#2a3f5f"
            },
            "baxis": {
             "endlinecolor": "#2a3f5f",
             "gridcolor": "#C8D4E3",
             "linecolor": "#C8D4E3",
             "minorgridcolor": "#C8D4E3",
             "startlinecolor": "#2a3f5f"
            },
            "type": "carpet"
           }
          ],
          "choropleth": [
           {
            "colorbar": {
             "outlinewidth": 0,
             "ticks": ""
            },
            "type": "choropleth"
           }
          ],
          "contour": [
           {
            "colorbar": {
             "outlinewidth": 0,
             "ticks": ""
            },
            "colorscale": [
             [
              0,
              "#0d0887"
             ],
             [
              0.1111111111111111,
              "#46039f"
             ],
             [
              0.2222222222222222,
              "#7201a8"
             ],
             [
              0.3333333333333333,
              "#9c179e"
             ],
             [
              0.4444444444444444,
              "#bd3786"
             ],
             [
              0.5555555555555556,
              "#d8576b"
             ],
             [
              0.6666666666666666,
              "#ed7953"
             ],
             [
              0.7777777777777778,
              "#fb9f3a"
             ],
             [
              0.8888888888888888,
              "#fdca26"
             ],
             [
              1,
              "#f0f921"
             ]
            ],
            "type": "contour"
           }
          ],
          "contourcarpet": [
           {
            "colorbar": {
             "outlinewidth": 0,
             "ticks": ""
            },
            "type": "contourcarpet"
           }
          ],
          "heatmap": [
           {
            "colorbar": {
             "outlinewidth": 0,
             "ticks": ""
            },
            "colorscale": [
             [
              0,
              "#0d0887"
             ],
             [
              0.1111111111111111,
              "#46039f"
             ],
             [
              0.2222222222222222,
              "#7201a8"
             ],
             [
              0.3333333333333333,
              "#9c179e"
             ],
             [
              0.4444444444444444,
              "#bd3786"
             ],
             [
              0.5555555555555556,
              "#d8576b"
             ],
             [
              0.6666666666666666,
              "#ed7953"
             ],
             [
              0.7777777777777778,
              "#fb9f3a"
             ],
             [
              0.8888888888888888,
              "#fdca26"
             ],
             [
              1,
              "#f0f921"
             ]
            ],
            "type": "heatmap"
           }
          ],
          "heatmapgl": [
           {
            "colorbar": {
             "outlinewidth": 0,
             "ticks": ""
            },
            "colorscale": [
             [
              0,
              "#0d0887"
             ],
             [
              0.1111111111111111,
              "#46039f"
             ],
             [
              0.2222222222222222,
              "#7201a8"
             ],
             [
              0.3333333333333333,
              "#9c179e"
             ],
             [
              0.4444444444444444,
              "#bd3786"
             ],
             [
              0.5555555555555556,
              "#d8576b"
             ],
             [
              0.6666666666666666,
              "#ed7953"
             ],
             [
              0.7777777777777778,
              "#fb9f3a"
             ],
             [
              0.8888888888888888,
              "#fdca26"
             ],
             [
              1,
              "#f0f921"
             ]
            ],
            "type": "heatmapgl"
           }
          ],
          "histogram": [
           {
            "marker": {
             "pattern": {
              "fillmode": "overlay",
              "size": 10,
              "solidity": 0.2
             }
            },
            "type": "histogram"
           }
          ],
          "histogram2d": [
           {
            "colorbar": {
             "outlinewidth": 0,
             "ticks": ""
            },
            "colorscale": [
             [
              0,
              "#0d0887"
             ],
             [
              0.1111111111111111,
              "#46039f"
             ],
             [
              0.2222222222222222,
              "#7201a8"
             ],
             [
              0.3333333333333333,
              "#9c179e"
             ],
             [
              0.4444444444444444,
              "#bd3786"
             ],
             [
              0.5555555555555556,
              "#d8576b"
             ],
             [
              0.6666666666666666,
              "#ed7953"
             ],
             [
              0.7777777777777778,
              "#fb9f3a"
             ],
             [
              0.8888888888888888,
              "#fdca26"
             ],
             [
              1,
              "#f0f921"
             ]
            ],
            "type": "histogram2d"
           }
          ],
          "histogram2dcontour": [
           {
            "colorbar": {
             "outlinewidth": 0,
             "ticks": ""
            },
            "colorscale": [
             [
              0,
              "#0d0887"
             ],
             [
              0.1111111111111111,
              "#46039f"
             ],
             [
              0.2222222222222222,
              "#7201a8"
             ],
             [
              0.3333333333333333,
              "#9c179e"
             ],
             [
              0.4444444444444444,
              "#bd3786"
             ],
             [
              0.5555555555555556,
              "#d8576b"
             ],
             [
              0.6666666666666666,
              "#ed7953"
             ],
             [
              0.7777777777777778,
              "#fb9f3a"
             ],
             [
              0.8888888888888888,
              "#fdca26"
             ],
             [
              1,
              "#f0f921"
             ]
            ],
            "type": "histogram2dcontour"
           }
          ],
          "mesh3d": [
           {
            "colorbar": {
             "outlinewidth": 0,
             "ticks": ""
            },
            "type": "mesh3d"
           }
          ],
          "parcoords": [
           {
            "line": {
             "colorbar": {
              "outlinewidth": 0,
              "ticks": ""
             }
            },
            "type": "parcoords"
           }
          ],
          "pie": [
           {
            "automargin": true,
            "type": "pie"
           }
          ],
          "scatter": [
           {
            "fillpattern": {
             "fillmode": "overlay",
             "size": 10,
             "solidity": 0.2
            },
            "type": "scatter"
           }
          ],
          "scatter3d": [
           {
            "line": {
             "colorbar": {
              "outlinewidth": 0,
              "ticks": ""
             }
            },
            "marker": {
             "colorbar": {
              "outlinewidth": 0,
              "ticks": ""
             }
            },
            "type": "scatter3d"
           }
          ],
          "scattercarpet": [
           {
            "marker": {
             "colorbar": {
              "outlinewidth": 0,
              "ticks": ""
             }
            },
            "type": "scattercarpet"
           }
          ],
          "scattergeo": [
           {
            "marker": {
             "colorbar": {
              "outlinewidth": 0,
              "ticks": ""
             }
            },
            "type": "scattergeo"
           }
          ],
          "scattergl": [
           {
            "marker": {
             "colorbar": {
              "outlinewidth": 0,
              "ticks": ""
             }
            },
            "type": "scattergl"
           }
          ],
          "scattermapbox": [
           {
            "marker": {
             "colorbar": {
              "outlinewidth": 0,
              "ticks": ""
             }
            },
            "type": "scattermapbox"
           }
          ],
          "scatterpolar": [
           {
            "marker": {
             "colorbar": {
              "outlinewidth": 0,
              "ticks": ""
             }
            },
            "type": "scatterpolar"
           }
          ],
          "scatterpolargl": [
           {
            "marker": {
             "colorbar": {
              "outlinewidth": 0,
              "ticks": ""
             }
            },
            "type": "scatterpolargl"
           }
          ],
          "scatterternary": [
           {
            "marker": {
             "colorbar": {
              "outlinewidth": 0,
              "ticks": ""
             }
            },
            "type": "scatterternary"
           }
          ],
          "surface": [
           {
            "colorbar": {
             "outlinewidth": 0,
             "ticks": ""
            },
            "colorscale": [
             [
              0,
              "#0d0887"
             ],
             [
              0.1111111111111111,
              "#46039f"
             ],
             [
              0.2222222222222222,
              "#7201a8"
             ],
             [
              0.3333333333333333,
              "#9c179e"
             ],
             [
              0.4444444444444444,
              "#bd3786"
             ],
             [
              0.5555555555555556,
              "#d8576b"
             ],
             [
              0.6666666666666666,
              "#ed7953"
             ],
             [
              0.7777777777777778,
              "#fb9f3a"
             ],
             [
              0.8888888888888888,
              "#fdca26"
             ],
             [
              1,
              "#f0f921"
             ]
            ],
            "type": "surface"
           }
          ],
          "table": [
           {
            "cells": {
             "fill": {
              "color": "#EBF0F8"
             },
             "line": {
              "color": "white"
             }
            },
            "header": {
             "fill": {
              "color": "#C8D4E3"
             },
             "line": {
              "color": "white"
             }
            },
            "type": "table"
           }
          ]
         },
         "layout": {
          "annotationdefaults": {
           "arrowcolor": "#2a3f5f",
           "arrowhead": 0,
           "arrowwidth": 1
          },
          "autotypenumbers": "strict",
          "coloraxis": {
           "colorbar": {
            "outlinewidth": 0,
            "ticks": ""
           }
          },
          "colorscale": {
           "diverging": [
            [
             0,
             "#8e0152"
            ],
            [
             0.1,
             "#c51b7d"
            ],
            [
             0.2,
             "#de77ae"
            ],
            [
             0.3,
             "#f1b6da"
            ],
            [
             0.4,
             "#fde0ef"
            ],
            [
             0.5,
             "#f7f7f7"
            ],
            [
             0.6,
             "#e6f5d0"
            ],
            [
             0.7,
             "#b8e186"
            ],
            [
             0.8,
             "#7fbc41"
            ],
            [
             0.9,
             "#4d9221"
            ],
            [
             1,
             "#276419"
            ]
           ],
           "sequential": [
            [
             0,
             "#0d0887"
            ],
            [
             0.1111111111111111,
             "#46039f"
            ],
            [
             0.2222222222222222,
             "#7201a8"
            ],
            [
             0.3333333333333333,
             "#9c179e"
            ],
            [
             0.4444444444444444,
             "#bd3786"
            ],
            [
             0.5555555555555556,
             "#d8576b"
            ],
            [
             0.6666666666666666,
             "#ed7953"
            ],
            [
             0.7777777777777778,
             "#fb9f3a"
            ],
            [
             0.8888888888888888,
             "#fdca26"
            ],
            [
             1,
             "#f0f921"
            ]
           ],
           "sequentialminus": [
            [
             0,
             "#0d0887"
            ],
            [
             0.1111111111111111,
             "#46039f"
            ],
            [
             0.2222222222222222,
             "#7201a8"
            ],
            [
             0.3333333333333333,
             "#9c179e"
            ],
            [
             0.4444444444444444,
             "#bd3786"
            ],
            [
             0.5555555555555556,
             "#d8576b"
            ],
            [
             0.6666666666666666,
             "#ed7953"
            ],
            [
             0.7777777777777778,
             "#fb9f3a"
            ],
            [
             0.8888888888888888,
             "#fdca26"
            ],
            [
             1,
             "#f0f921"
            ]
           ]
          },
          "colorway": [
           "#636efa",
           "#EF553B",
           "#00cc96",
           "#ab63fa",
           "#FFA15A",
           "#19d3f3",
           "#FF6692",
           "#B6E880",
           "#FF97FF",
           "#FECB52"
          ],
          "font": {
           "color": "#2a3f5f"
          },
          "geo": {
           "bgcolor": "white",
           "lakecolor": "white",
           "landcolor": "white",
           "showlakes": true,
           "showland": true,
           "subunitcolor": "#C8D4E3"
          },
          "hoverlabel": {
           "align": "left"
          },
          "hovermode": "closest",
          "mapbox": {
           "style": "light"
          },
          "paper_bgcolor": "white",
          "plot_bgcolor": "white",
          "polar": {
           "angularaxis": {
            "gridcolor": "#EBF0F8",
            "linecolor": "#EBF0F8",
            "ticks": ""
           },
           "bgcolor": "white",
           "radialaxis": {
            "gridcolor": "#EBF0F8",
            "linecolor": "#EBF0F8",
            "ticks": ""
           }
          },
          "scene": {
           "xaxis": {
            "backgroundcolor": "white",
            "gridcolor": "#DFE8F3",
            "gridwidth": 2,
            "linecolor": "#EBF0F8",
            "showbackground": true,
            "ticks": "",
            "zerolinecolor": "#EBF0F8"
           },
           "yaxis": {
            "backgroundcolor": "white",
            "gridcolor": "#DFE8F3",
            "gridwidth": 2,
            "linecolor": "#EBF0F8",
            "showbackground": true,
            "ticks": "",
            "zerolinecolor": "#EBF0F8"
           },
           "zaxis": {
            "backgroundcolor": "white",
            "gridcolor": "#DFE8F3",
            "gridwidth": 2,
            "linecolor": "#EBF0F8",
            "showbackground": true,
            "ticks": "",
            "zerolinecolor": "#EBF0F8"
           }
          },
          "shapedefaults": {
           "line": {
            "color": "#2a3f5f"
           }
          },
          "ternary": {
           "aaxis": {
            "gridcolor": "#DFE8F3",
            "linecolor": "#A2B1C6",
            "ticks": ""
           },
           "baxis": {
            "gridcolor": "#DFE8F3",
            "linecolor": "#A2B1C6",
            "ticks": ""
           },
           "bgcolor": "white",
           "caxis": {
            "gridcolor": "#DFE8F3",
            "linecolor": "#A2B1C6",
            "ticks": ""
           }
          },
          "title": {
           "x": 0.05
          },
          "xaxis": {
           "automargin": true,
           "gridcolor": "#EBF0F8",
           "linecolor": "#EBF0F8",
           "ticks": "",
           "title": {
            "standoff": 15
           },
           "zerolinecolor": "#EBF0F8",
           "zerolinewidth": 2
          },
          "yaxis": {
           "automargin": true,
           "gridcolor": "#EBF0F8",
           "linecolor": "#EBF0F8",
           "ticks": "",
           "title": {
            "standoff": 15
           },
           "zerolinecolor": "#EBF0F8",
           "zerolinewidth": 2
          }
         }
        },
        "title": {
         "text": "Top 15 Feature Contributions (SHAP Values)"
        },
        "xaxis": {
         "title": {
          "text": "Mean Absolute SHAP Value"
         }
        },
        "yaxis": {
         "title": {
          "text": "Feature"
         }
        }
       }
      }
     },
     "metadata": {},
     "output_type": "display_data"
    }
   ],
   "source": [
    "import shap\n",
    "import numpy as np\n",
    "import pandas as pd\n",
    "import plotly.graph_objects as go\n",
    "from tensorflow.keras.models import Sequential\n",
    "from tensorflow.keras.layers import Dense\n",
    "from tensorflow.keras.optimizers import Adam\n",
    "from sklearn.preprocessing import StandardScaler\n",
    "\n",
    "# 1. Scale your data (if not already done)\n",
    "scaler = StandardScaler()\n",
    "X_scaled = scaler.fit_transform(X_fcm)\n",
    "\n",
    "# 2. Train a simple Keras model\n",
    "model = Sequential([\n",
    "    Dense(64, activation='relu', input_shape=(X_scaled.shape[1],)),\n",
    "    Dense(32, activation='relu'),\n",
    "    Dense(1, activation='sigmoid')\n",
    "])\n",
    "model.compile(optimizer=Adam(), loss='binary_crossentropy', metrics=['accuracy'])\n",
    "model.fit(X_scaled, labels, epochs=10, batch_size=32, verbose=0)\n",
    "\n",
    "# 3. Sample a subset for SHAP (to reduce compute time)\n",
    "X_sample = X_scaled[:50]\n",
    "\n",
    "# 4. Use SHAP KernelExplainer\n",
    "explainer = shap.KernelExplainer(model.predict, X_sample)\n",
    "shap_values = explainer.shap_values(X_sample)\n",
    "\n",
    "# 5. Get mean absolute SHAP values per feature\n",
    "mean_shap = np.abs(shap_values).mean(axis=0)\n",
    "feature_names = [f'Feature {i+1}' for i in range(X_scaled.shape[1])]\n",
    "sorted_idx = np.argsort(mean_shap)[::-1][:15]  # Top 15 features\n",
    "\n",
    "# 6. Create Plotly bar chart\n",
    "fig = go.Figure(go.Bar(\n",
    "    x=mean_shap[sorted_idx][::-1],\n",
    "    y=np.array(feature_names)[sorted_idx][::-1],\n",
    "    orientation='h',\n",
    "    marker=dict(color='rgba(56, 102, 152, 0.8)', line=dict(color='rgba(56, 102, 152, 1.0)', width=1.5))\n",
    "))\n",
    "\n",
    "fig.update_layout(\n",
    "    title=\"Top 15 Feature Contributions (SHAP Values)\",\n",
    "    xaxis_title=\"Mean Absolute SHAP Value\",\n",
    "    yaxis_title=\"Feature\",\n",
    "    template=\"plotly_white\",\n",
    "    height=600\n",
    ")\n",
    "\n",
    "fig.show()\n"
   ]
  },
  {
   "cell_type": "markdown",
   "metadata": {},
   "source": [
    "# Permutation Feature Importance for Scikit-learn MLPClassifier"
   ]
  },
  {
   "cell_type": "code",
   "execution_count": 11,
   "metadata": {},
   "outputs": [
    {
     "data": {
      "image/png": "[encoded data removed]",
      "text/plain": [
       "<Figure size 1000x600 with 1 Axes>"
      ]
     },
     "metadata": {},
     "output_type": "display_data"
    }
   ],
   "source": [
    "from sklearn.inspection import permutation_importance\n",
    "import matplotlib.pyplot as plt\n",
    "\n",
    "# Fit scikit-learn MLPClassifier\n",
    "mlp_model = MLPClassifier(hidden_layer_sizes=(64, 32), max_iter=100, solver='adam', random_state=42)\n",
    "scaler = StandardScaler()\n",
    "X_scaled = scaler.fit_transform(X_fcm)\n",
    "mlp_model.fit(X_scaled, labels)\n",
    "\n",
    "# Compute permutation importance\n",
    "result = permutation_importance(mlp_model, X_scaled, labels, n_repeats=10, random_state=42, scoring='accuracy')\n",
    "\n",
    "# Plot\n",
    "import numpy as np\n",
    "sorted_idx = result.importances_mean.argsort()\n",
    "feature_names = [f'Feature {i+1}' for i in range(X_fcm.shape[1])]\n",
    "\n",
    "plt.figure(figsize=(10, 6))\n",
    "plt.barh(np.array(feature_names)[sorted_idx], result.importances_mean[sorted_idx])\n",
    "plt.xlabel(\"Mean Decrease in Accuracy\")\n",
    "plt.title(\"Permutation Feature Importance (MLPClassifier)\")\n",
    "plt.tight_layout()\n",
    "plt.show()\n"
   ]
  },
  {
   "cell_type": "code",
   "execution_count": 12,
   "metadata": {},
   "outputs": [
    {
     "name": "stdout",
     "output_type": "stream",
     "text": [
      "Collecting kaleido\n",
      "  Downloading kaleido-0.2.1-py2.py3-none-win_amd64.whl.metadata (15 kB)\n",
      "Downloading kaleido-0.2.1-py2.py3-none-win_amd64.whl (65.9 MB)\n",
      "   ---------------------------------------- 0.0/65.9 MB ? eta -:--:--\n",
      "   ---------------------------------------- 0.0/65.9 MB ? eta -:--:--\n",
      "   ---------------------------------------- 0.1/65.9 MB 812.7 kB/s eta 0:01:22\n",
      "   ---------------------------------------- 0.2/65.9 MB 1.3 MB/s eta 0:00:51\n",
      "   ---------------------------------------- 0.2/65.9 MB 1.6 MB/s eta 0:00:42\n",
      "   ---------------------------------------- 0.4/65.9 MB 1.9 MB/s eta 0:00:35\n",
      "   ---------------------------------------- 0.4/65.9 MB 1.8 MB/s eta 0:00:36\n",
      "   ---------------------------------------- 0.5/65.9 MB 2.0 MB/s eta 0:00:33\n",
      "   ---------------------------------------- 0.7/65.9 MB 2.1 MB/s eta 0:00:31\n",
      "   ---------------------------------------- 0.8/65.9 MB 2.2 MB/s eta 0:00:30\n",
      "    --------------------------------------- 1.1/65.9 MB 2.8 MB/s eta 0:00:24\n",
      "    --------------------------------------- 1.4/65.9 MB 3.2 MB/s eta 0:00:21\n",
      "   - -------------------------------------- 1.7/65.9 MB 3.5 MB/s eta 0:00:19\n",
      "   - -------------------------------------- 2.1/65.9 MB 4.1 MB/s eta 0:00:16\n",
      "   - -------------------------------------- 2.4/65.9 MB 4.3 MB/s eta 0:00:15\n",
      "   - -------------------------------------- 2.8/65.9 MB 4.6 MB/s eta 0:00:14\n",
      "   - -------------------------------------- 3.2/65.9 MB 4.9 MB/s eta 0:00:13\n",
      "   -- ------------------------------------- 3.6/65.9 MB 5.0 MB/s eta 0:00:13\n",
      "   -- ------------------------------------- 4.0/65.9 MB 5.2 MB/s eta 0:00:12\n",
      "   -- ------------------------------------- 4.6/65.9 MB 5.6 MB/s eta 0:00:11\n",
      "   --- ------------------------------------ 5.0/65.9 MB 5.8 MB/s eta 0:00:11\n",
      "   --- ------------------------------------ 5.2/65.9 MB 5.9 MB/s eta 0:00:11\n",
      "   --- ------------------------------------ 5.6/65.9 MB 5.9 MB/s eta 0:00:11\n",
      "   --- ------------------------------------ 6.1/65.9 MB 6.1 MB/s eta 0:00:10\n",
      "   --- ------------------------------------ 6.3/65.9 MB 6.0 MB/s eta 0:00:10\n",
      "   ---- ----------------------------------- 6.6/65.9 MB 6.1 MB/s eta 0:00:10\n",
      "   ---- ----------------------------------- 7.0/65.9 MB 6.1 MB/s eta 0:00:10\n",
      "   ---- ----------------------------------- 7.2/65.9 MB 6.2 MB/s eta 0:00:10\n",
      "   ---- ----------------------------------- 7.5/65.9 MB 6.1 MB/s eta 0:00:10\n",
      "   ---- ----------------------------------- 7.8/65.9 MB 6.1 MB/s eta 0:00:10\n",
      "   ----- ---------------------------------- 8.3/65.9 MB 6.2 MB/s eta 0:00:10\n",
      "   ----- ---------------------------------- 8.6/65.9 MB 6.2 MB/s eta 0:00:10\n",
      "   ----- ---------------------------------- 8.9/65.9 MB 6.3 MB/s eta 0:00:10\n",
      "   ----- ---------------------------------- 9.3/65.9 MB 6.3 MB/s eta 0:00:10\n",
      "   ----- ---------------------------------- 9.6/65.9 MB 6.3 MB/s eta 0:00:09\n",
      "   ------ --------------------------------- 10.0/65.9 MB 6.4 MB/s eta 0:00:09\n",
      "   ------ --------------------------------- 10.3/65.9 MB 6.7 MB/s eta 0:00:09\n",
      "   ------ --------------------------------- 10.6/65.9 MB 7.0 MB/s eta 0:00:08\n",
      "   ------ --------------------------------- 10.9/65.9 MB 7.3 MB/s eta 0:00:08\n",
      "   ------ --------------------------------- 11.1/65.9 MB 7.5 MB/s eta 0:00:08\n",
      "   ------ --------------------------------- 11.3/65.9 MB 7.4 MB/s eta 0:00:08\n",
      "   ------- -------------------------------- 11.7/65.9 MB 7.4 MB/s eta 0:00:08\n",
      "   ------- -------------------------------- 12.1/65.9 MB 7.4 MB/s eta 0:00:08\n",
      "   ------- -------------------------------- 12.5/65.9 MB 7.4 MB/s eta 0:00:08\n",
      "   ------- -------------------------------- 12.7/65.9 MB 7.4 MB/s eta 0:00:08\n",
      "   ------- -------------------------------- 13.0/65.9 MB 7.4 MB/s eta 0:00:08\n",
      "   -------- ------------------------------- 13.4/65.9 MB 7.3 MB/s eta 0:00:08\n",
      "   -------- ------------------------------- 13.6/65.9 MB 7.3 MB/s eta 0:00:08\n",
      "   -------- ------------------------------- 13.8/65.9 MB 7.2 MB/s eta 0:00:08\n",
      "   -------- ------------------------------- 14.1/65.9 MB 7.1 MB/s eta 0:00:08\n",
      "   -------- ------------------------------- 14.4/65.9 MB 7.0 MB/s eta 0:00:08\n",
      "   -------- ------------------------------- 14.6/65.9 MB 7.0 MB/s eta 0:00:08\n",
      "   --------- ------------------------------ 14.9/65.9 MB 6.9 MB/s eta 0:00:08\n",
      "   --------- ------------------------------ 15.1/65.9 MB 6.9 MB/s eta 0:00:08\n",
      "   --------- ------------------------------ 15.4/65.9 MB 6.7 MB/s eta 0:00:08\n",
      "   --------- ------------------------------ 15.7/65.9 MB 6.7 MB/s eta 0:00:08\n",
      "   --------- ------------------------------ 16.0/65.9 MB 6.8 MB/s eta 0:00:08\n",
      "   --------- ------------------------------ 16.1/65.9 MB 6.6 MB/s eta 0:00:08\n",
      "   --------- ------------------------------ 16.3/65.9 MB 6.6 MB/s eta 0:00:08\n",
      "   ---------- ----------------------------- 16.6/65.9 MB 6.6 MB/s eta 0:00:08\n",
      "   ---------- ----------------------------- 17.0/65.9 MB 6.6 MB/s eta 0:00:08\n",
      "   ---------- ----------------------------- 17.2/65.9 MB 6.5 MB/s eta 0:00:08\n",
      "   ---------- ----------------------------- 17.5/65.9 MB 6.5 MB/s eta 0:00:08\n",
      "   ---------- ----------------------------- 17.8/65.9 MB 6.6 MB/s eta 0:00:08\n",
      "   ---------- ----------------------------- 18.0/65.9 MB 6.5 MB/s eta 0:00:08\n",
      "   ----------- ---------------------------- 18.2/65.9 MB 6.5 MB/s eta 0:00:08\n",
      "   ----------- ---------------------------- 18.3/65.9 MB 6.4 MB/s eta 0:00:08\n",
      "   ----------- ---------------------------- 18.5/65.9 MB 6.3 MB/s eta 0:00:08\n",
      "   ----------- ---------------------------- 18.7/65.9 MB 6.2 MB/s eta 0:00:08\n",
      "   ----------- ---------------------------- 18.9/65.9 MB 6.1 MB/s eta 0:00:08\n",
      "   ----------- ---------------------------- 19.1/65.9 MB 6.1 MB/s eta 0:00:08\n",
      "   ----------- ---------------------------- 19.3/65.9 MB 6.0 MB/s eta 0:00:08\n",
      "   ----------- ---------------------------- 19.5/65.9 MB 6.0 MB/s eta 0:00:08\n",
      "   ----------- ---------------------------- 19.6/65.9 MB 5.9 MB/s eta 0:00:08\n",
      "   ------------ --------------------------- 19.8/65.9 MB 5.8 MB/s eta 0:00:08\n",
      "   ------------ --------------------------- 19.9/65.9 MB 5.6 MB/s eta 0:00:09\n",
      "   ------------ --------------------------- 20.1/65.9 MB 5.6 MB/s eta 0:00:09\n",
      "   ------------ --------------------------- 20.3/65.9 MB 5.6 MB/s eta 0:00:09\n",
      "   ------------ --------------------------- 20.5/65.9 MB 5.5 MB/s eta 0:00:09\n",
      "   ------------ --------------------------- 20.7/65.9 MB 5.5 MB/s eta 0:00:09\n",
      "   ------------ --------------------------- 20.9/65.9 MB 5.5 MB/s eta 0:00:09\n",
      "   ------------ --------------------------- 21.1/65.9 MB 5.5 MB/s eta 0:00:09\n",
      "   ------------ --------------------------- 21.3/65.9 MB 5.4 MB/s eta 0:00:09\n",
      "   ------------- -------------------------- 21.5/65.9 MB 5.5 MB/s eta 0:00:09\n",
      "   ------------- -------------------------- 21.8/65.9 MB 5.4 MB/s eta 0:00:09\n",
      "   ------------- -------------------------- 21.9/65.9 MB 5.4 MB/s eta 0:00:09\n",
      "   ------------- -------------------------- 22.1/65.9 MB 5.3 MB/s eta 0:00:09\n",
      "   ------------- -------------------------- 22.3/65.9 MB 5.2 MB/s eta 0:00:09\n",
      "   ------------- -------------------------- 22.6/65.9 MB 5.2 MB/s eta 0:00:09\n",
      "   ------------- -------------------------- 22.8/65.9 MB 5.1 MB/s eta 0:00:09\n",
      "   ------------- -------------------------- 23.0/65.9 MB 5.1 MB/s eta 0:00:09\n",
      "   -------------- ------------------------- 23.3/65.9 MB 5.0 MB/s eta 0:00:09\n",
      "   -------------- ------------------------- 23.5/65.9 MB 5.0 MB/s eta 0:00:09\n",
      "   -------------- ------------------------- 23.7/65.9 MB 5.0 MB/s eta 0:00:09\n",
      "   -------------- ------------------------- 24.0/65.9 MB 5.0 MB/s eta 0:00:09\n",
      "   -------------- ------------------------- 24.3/65.9 MB 5.0 MB/s eta 0:00:09\n",
      "   -------------- ------------------------- 24.4/65.9 MB 4.9 MB/s eta 0:00:09\n",
      "   -------------- ------------------------- 24.6/65.9 MB 4.9 MB/s eta 0:00:09\n",
      "   --------------- ------------------------ 24.8/65.9 MB 4.9 MB/s eta 0:00:09\n",
      "   --------------- ------------------------ 24.9/65.9 MB 4.9 MB/s eta 0:00:09\n",
      "   --------------- ------------------------ 25.1/65.9 MB 4.8 MB/s eta 0:00:09\n",
      "   --------------- ------------------------ 25.2/65.9 MB 4.7 MB/s eta 0:00:09\n",
      "   --------------- ------------------------ 25.4/65.9 MB 4.7 MB/s eta 0:00:09\n",
      "   --------------- ------------------------ 25.6/65.9 MB 4.6 MB/s eta 0:00:09\n",
      "   --------------- ------------------------ 25.9/65.9 MB 4.7 MB/s eta 0:00:09\n",
      "   --------------- ------------------------ 26.1/65.9 MB 4.6 MB/s eta 0:00:09\n",
      "   --------------- ------------------------ 26.2/65.9 MB 4.6 MB/s eta 0:00:09\n",
      "   ---------------- ----------------------- 26.4/65.9 MB 4.6 MB/s eta 0:00:09\n",
      "   ---------------- ----------------------- 26.7/65.9 MB 4.6 MB/s eta 0:00:09\n",
      "   ---------------- ----------------------- 26.9/65.9 MB 4.5 MB/s eta 0:00:09\n",
      "   ---------------- ----------------------- 27.1/65.9 MB 4.5 MB/s eta 0:00:09\n",
      "   ---------------- ----------------------- 27.3/65.9 MB 4.5 MB/s eta 0:00:09\n",
      "   ---------------- ----------------------- 27.6/65.9 MB 4.5 MB/s eta 0:00:09\n",
      "   ---------------- ----------------------- 27.7/65.9 MB 4.4 MB/s eta 0:00:09\n",
      "   ---------------- ----------------------- 27.9/65.9 MB 4.4 MB/s eta 0:00:09\n",
      "   ----------------- ---------------------- 28.0/65.9 MB 4.3 MB/s eta 0:00:09\n",
      "   ----------------- ---------------------- 28.3/65.9 MB 4.3 MB/s eta 0:00:09\n",
      "   ----------------- ---------------------- 28.5/65.9 MB 4.3 MB/s eta 0:00:09\n",
      "   ----------------- ---------------------- 28.7/65.9 MB 4.4 MB/s eta 0:00:09\n",
      "   ----------------- ---------------------- 28.9/65.9 MB 4.3 MB/s eta 0:00:09\n",
      "   ----------------- ---------------------- 29.0/65.9 MB 4.3 MB/s eta 0:00:09\n",
      "   ----------------- ---------------------- 29.2/65.9 MB 4.3 MB/s eta 0:00:09\n",
      "   ----------------- ---------------------- 29.4/65.9 MB 4.3 MB/s eta 0:00:09\n",
      "   ----------------- ---------------------- 29.6/65.9 MB 4.3 MB/s eta 0:00:09\n",
      "   ------------------ --------------------- 29.7/65.9 MB 4.3 MB/s eta 0:00:09\n",
      "   ------------------ --------------------- 30.0/65.9 MB 4.3 MB/s eta 0:00:09\n",
      "   ------------------ --------------------- 30.2/65.9 MB 4.3 MB/s eta 0:00:09\n",
      "   ------------------ --------------------- 30.4/65.9 MB 4.3 MB/s eta 0:00:09\n",
      "   ------------------ --------------------- 30.7/65.9 MB 4.4 MB/s eta 0:00:09\n",
      "   ------------------ --------------------- 30.9/65.9 MB 4.4 MB/s eta 0:00:09\n",
      "   ------------------ --------------------- 31.1/65.9 MB 4.3 MB/s eta 0:00:09\n",
      "   ------------------ --------------------- 31.3/65.9 MB 4.4 MB/s eta 0:00:08\n",
      "   ------------------- -------------------- 31.5/65.9 MB 4.4 MB/s eta 0:00:08\n",
      "   ------------------- -------------------- 31.8/65.9 MB 4.4 MB/s eta 0:00:08\n",
      "   ------------------- -------------------- 32.0/65.9 MB 4.3 MB/s eta 0:00:08\n",
      "   ------------------- -------------------- 32.2/65.9 MB 4.4 MB/s eta 0:00:08\n",
      "   ------------------- -------------------- 32.5/65.9 MB 4.4 MB/s eta 0:00:08\n",
      "   ------------------- -------------------- 32.7/65.9 MB 4.4 MB/s eta 0:00:08\n",
      "   ------------------- -------------------- 32.9/65.9 MB 4.4 MB/s eta 0:00:08\n",
      "   -------------------- ------------------- 33.2/65.9 MB 4.4 MB/s eta 0:00:08\n",
      "   -------------------- ------------------- 33.5/65.9 MB 4.5 MB/s eta 0:00:08\n",
      "   -------------------- ------------------- 33.7/65.9 MB 4.4 MB/s eta 0:00:08\n",
      "   -------------------- ------------------- 34.0/65.9 MB 4.5 MB/s eta 0:00:08\n",
      "   -------------------- ------------------- 34.2/65.9 MB 4.4 MB/s eta 0:00:08\n",
      "   -------------------- ------------------- 34.4/65.9 MB 4.4 MB/s eta 0:00:08\n",
      "   -------------------- ------------------- 34.5/65.9 MB 4.3 MB/s eta 0:00:08\n",
      "   -------------------- ------------------- 34.6/65.9 MB 4.3 MB/s eta 0:00:08\n",
      "   --------------------- ------------------ 34.8/65.9 MB 4.3 MB/s eta 0:00:08\n",
      "   --------------------- ------------------ 35.0/65.9 MB 4.3 MB/s eta 0:00:08\n",
      "   --------------------- ------------------ 35.2/65.9 MB 4.4 MB/s eta 0:00:08\n",
      "   --------------------- ------------------ 35.4/65.9 MB 4.4 MB/s eta 0:00:07\n",
      "   --------------------- ------------------ 35.7/65.9 MB 4.5 MB/s eta 0:00:07\n",
      "   --------------------- ------------------ 35.9/65.9 MB 4.4 MB/s eta 0:00:07\n",
      "   --------------------- ------------------ 36.1/65.9 MB 4.4 MB/s eta 0:00:07\n",
      "   ---------------------- ----------------- 36.4/65.9 MB 4.5 MB/s eta 0:00:07\n",
      "   ---------------------- ----------------- 36.7/65.9 MB 4.5 MB/s eta 0:00:07\n",
      "   ---------------------- ----------------- 36.9/65.9 MB 4.5 MB/s eta 0:00:07\n",
      "   ---------------------- ----------------- 37.2/65.9 MB 4.5 MB/s eta 0:00:07\n",
      "   ---------------------- ----------------- 37.5/65.9 MB 4.6 MB/s eta 0:00:07\n",
      "   ---------------------- ----------------- 37.8/65.9 MB 4.6 MB/s eta 0:00:07\n",
      "   ----------------------- ---------------- 38.1/65.9 MB 4.7 MB/s eta 0:00:06\n",
      "   ----------------------- ---------------- 38.3/65.9 MB 4.7 MB/s eta 0:00:06\n",
      "   ----------------------- ---------------- 38.6/65.9 MB 4.8 MB/s eta 0:00:06\n",
      "   ----------------------- ---------------- 38.9/65.9 MB 4.8 MB/s eta 0:00:06\n",
      "   ----------------------- ---------------- 39.2/65.9 MB 4.9 MB/s eta 0:00:06\n",
      "   ----------------------- ---------------- 39.5/65.9 MB 5.0 MB/s eta 0:00:06\n",
      "   ------------------------ --------------- 39.8/65.9 MB 5.1 MB/s eta 0:00:06\n",
      "   ------------------------ --------------- 40.2/65.9 MB 5.2 MB/s eta 0:00:05\n",
      "   ------------------------ --------------- 40.5/65.9 MB 5.2 MB/s eta 0:00:05\n",
      "   ------------------------ --------------- 40.8/65.9 MB 5.3 MB/s eta 0:00:05\n",
      "   ------------------------ --------------- 41.0/65.9 MB 5.2 MB/s eta 0:00:05\n",
      "   ------------------------- -------------- 41.3/65.9 MB 5.3 MB/s eta 0:00:05\n",
      "   ------------------------- -------------- 41.6/65.9 MB 5.3 MB/s eta 0:00:05\n",
      "   ------------------------- -------------- 41.9/65.9 MB 5.4 MB/s eta 0:00:05\n",
      "   ------------------------- -------------- 42.2/65.9 MB 5.5 MB/s eta 0:00:05\n",
      "   ------------------------- -------------- 42.5/65.9 MB 5.5 MB/s eta 0:00:05\n",
      "   ------------------------- -------------- 42.8/65.9 MB 5.5 MB/s eta 0:00:05\n",
      "   -------------------------- ------------- 43.0/65.9 MB 5.5 MB/s eta 0:00:05\n",
      "   -------------------------- ------------- 43.3/65.9 MB 5.6 MB/s eta 0:00:05\n",
      "   -------------------------- ------------- 43.6/65.9 MB 5.6 MB/s eta 0:00:04\n",
      "   -------------------------- ------------- 43.9/65.9 MB 5.7 MB/s eta 0:00:04\n",
      "   -------------------------- ------------- 44.3/65.9 MB 5.8 MB/s eta 0:00:04\n",
      "   --------------------------- ------------ 44.8/65.9 MB 6.1 MB/s eta 0:00:04\n",
      "   --------------------------- ------------ 45.0/65.9 MB 6.2 MB/s eta 0:00:04\n",
      "   --------------------------- ------------ 45.3/65.9 MB 6.2 MB/s eta 0:00:04\n",
      "   --------------------------- ------------ 45.5/65.9 MB 6.3 MB/s eta 0:00:04\n",
      "   --------------------------- ------------ 45.7/65.9 MB 6.3 MB/s eta 0:00:04\n",
      "   --------------------------- ------------ 46.1/65.9 MB 6.4 MB/s eta 0:00:04\n",
      "   ---------------------------- ----------- 46.4/65.9 MB 6.5 MB/s eta 0:00:03\n",
      "   ---------------------------- ----------- 46.7/65.9 MB 6.5 MB/s eta 0:00:03\n",
      "   ---------------------------- ----------- 46.9/65.9 MB 6.4 MB/s eta 0:00:03\n",
      "   ---------------------------- ----------- 47.2/65.9 MB 6.5 MB/s eta 0:00:03\n",
      "   ---------------------------- ----------- 47.4/65.9 MB 6.4 MB/s eta 0:00:03\n",
      "   ---------------------------- ----------- 47.6/65.9 MB 6.5 MB/s eta 0:00:03\n",
      "   ----------------------------- ---------- 47.9/65.9 MB 6.4 MB/s eta 0:00:03\n",
      "   ----------------------------- ---------- 48.1/65.9 MB 6.4 MB/s eta 0:00:03\n",
      "   ----------------------------- ---------- 48.3/65.9 MB 6.3 MB/s eta 0:00:03\n",
      "   ----------------------------- ---------- 48.6/65.9 MB 6.3 MB/s eta 0:00:03\n",
      "   ----------------------------- ---------- 48.8/65.9 MB 6.2 MB/s eta 0:00:03\n",
      "   ----------------------------- ---------- 49.0/65.9 MB 6.2 MB/s eta 0:00:03\n",
      "   ----------------------------- ---------- 49.3/65.9 MB 6.2 MB/s eta 0:00:03\n",
      "   ------------------------------ --------- 49.5/65.9 MB 6.2 MB/s eta 0:00:03\n",
      "   ------------------------------ --------- 49.7/65.9 MB 6.1 MB/s eta 0:00:03\n",
      "   ------------------------------ --------- 50.0/65.9 MB 6.1 MB/s eta 0:00:03\n",
      "   ------------------------------ --------- 50.2/65.9 MB 6.0 MB/s eta 0:00:03\n",
      "   ------------------------------ --------- 50.5/65.9 MB 6.0 MB/s eta 0:00:03\n",
      "   ------------------------------ --------- 50.7/65.9 MB 6.0 MB/s eta 0:00:03\n",
      "   ------------------------------ --------- 50.9/65.9 MB 6.0 MB/s eta 0:00:03\n",
      "   ------------------------------- -------- 51.2/65.9 MB 5.8 MB/s eta 0:00:03\n",
      "   ------------------------------- -------- 51.4/65.9 MB 5.8 MB/s eta 0:00:03\n",
      "   ------------------------------- -------- 51.6/65.9 MB 5.8 MB/s eta 0:00:03\n",
      "   ------------------------------- -------- 51.9/65.9 MB 5.8 MB/s eta 0:00:03\n",
      "   ------------------------------- -------- 52.1/65.9 MB 5.7 MB/s eta 0:00:03\n",
      "   ------------------------------- -------- 52.3/65.9 MB 5.6 MB/s eta 0:00:03\n",
      "   ------------------------------- -------- 52.6/65.9 MB 5.6 MB/s eta 0:00:03\n",
      "   -------------------------------- ------- 52.8/65.9 MB 5.6 MB/s eta 0:00:03\n",
      "   -------------------------------- ------- 53.0/65.9 MB 5.6 MB/s eta 0:00:03\n",
      "   -------------------------------- ------- 53.3/65.9 MB 5.6 MB/s eta 0:00:03\n",
      "   -------------------------------- ------- 53.5/65.9 MB 5.5 MB/s eta 0:00:03\n",
      "   -------------------------------- ------- 53.8/65.9 MB 5.5 MB/s eta 0:00:03\n",
      "   -------------------------------- ------- 54.0/65.9 MB 5.4 MB/s eta 0:00:03\n",
      "   -------------------------------- ------- 54.2/65.9 MB 5.4 MB/s eta 0:00:03\n",
      "   --------------------------------- ------ 54.5/65.9 MB 5.3 MB/s eta 0:00:03\n",
      "   --------------------------------- ------ 54.7/65.9 MB 5.3 MB/s eta 0:00:03\n",
      "   --------------------------------- ------ 54.9/65.9 MB 5.2 MB/s eta 0:00:03\n",
      "   --------------------------------- ------ 55.1/65.9 MB 5.2 MB/s eta 0:00:03\n",
      "   --------------------------------- ------ 55.4/65.9 MB 5.2 MB/s eta 0:00:03\n",
      "   --------------------------------- ------ 55.6/65.9 MB 5.1 MB/s eta 0:00:03\n",
      "   --------------------------------- ------ 55.9/65.9 MB 5.1 MB/s eta 0:00:02\n",
      "   ---------------------------------- ----- 56.1/65.9 MB 5.1 MB/s eta 0:00:02\n",
      "   ---------------------------------- ----- 56.3/65.9 MB 5.0 MB/s eta 0:00:02\n",
      "   ---------------------------------- ----- 56.5/65.9 MB 5.0 MB/s eta 0:00:02\n",
      "   ---------------------------------- ----- 56.6/65.9 MB 4.9 MB/s eta 0:00:02\n",
      "   ---------------------------------- ----- 56.8/65.9 MB 4.9 MB/s eta 0:00:02\n",
      "   ---------------------------------- ----- 57.0/65.9 MB 4.9 MB/s eta 0:00:02\n",
      "   ---------------------------------- ----- 57.2/65.9 MB 4.9 MB/s eta 0:00:02\n",
      "   ---------------------------------- ----- 57.3/65.9 MB 4.8 MB/s eta 0:00:02\n",
      "   ---------------------------------- ----- 57.5/65.9 MB 4.8 MB/s eta 0:00:02\n",
      "   ---------------------------------- ----- 57.7/65.9 MB 4.8 MB/s eta 0:00:02\n",
      "   ----------------------------------- ---- 57.9/65.9 MB 4.7 MB/s eta 0:00:02\n",
      "   ----------------------------------- ---- 58.0/65.9 MB 4.7 MB/s eta 0:00:02\n",
      "   ----------------------------------- ---- 58.2/65.9 MB 4.7 MB/s eta 0:00:02\n",
      "   ----------------------------------- ---- 58.4/65.9 MB 4.7 MB/s eta 0:00:02\n",
      "   ----------------------------------- ---- 58.5/65.9 MB 4.6 MB/s eta 0:00:02\n",
      "   ----------------------------------- ---- 58.7/65.9 MB 4.6 MB/s eta 0:00:02\n",
      "   ----------------------------------- ---- 58.8/65.9 MB 4.5 MB/s eta 0:00:02\n",
      "   ----------------------------------- ---- 58.9/65.9 MB 4.5 MB/s eta 0:00:02\n",
      "   ----------------------------------- ---- 59.0/65.9 MB 4.4 MB/s eta 0:00:02\n",
      "   ----------------------------------- ---- 59.1/65.9 MB 4.4 MB/s eta 0:00:02\n",
      "   ----------------------------------- ---- 59.2/65.9 MB 4.3 MB/s eta 0:00:02\n",
      "   ------------------------------------ --- 59.4/65.9 MB 4.3 MB/s eta 0:00:02\n",
      "   ------------------------------------ --- 59.5/65.9 MB 4.3 MB/s eta 0:00:02\n",
      "   ------------------------------------ --- 59.6/65.9 MB 4.2 MB/s eta 0:00:02\n",
      "   ------------------------------------ --- 59.7/65.9 MB 4.2 MB/s eta 0:00:02\n",
      "   ------------------------------------ --- 59.8/65.9 MB 4.1 MB/s eta 0:00:02\n",
      "   ------------------------------------ --- 59.9/65.9 MB 4.1 MB/s eta 0:00:02\n",
      "   ------------------------------------ --- 60.0/65.9 MB 4.1 MB/s eta 0:00:02\n",
      "   ------------------------------------ --- 60.2/65.9 MB 4.0 MB/s eta 0:00:02\n",
      "   ------------------------------------ --- 60.4/65.9 MB 4.0 MB/s eta 0:00:02\n",
      "   ------------------------------------ --- 60.6/65.9 MB 4.0 MB/s eta 0:00:02\n",
      "   ------------------------------------ --- 60.8/65.9 MB 4.0 MB/s eta 0:00:02\n",
      "   ------------------------------------- -- 61.0/65.9 MB 4.0 MB/s eta 0:00:02\n",
      "   ------------------------------------- -- 61.2/65.9 MB 4.0 MB/s eta 0:00:02\n",
      "   ------------------------------------- -- 61.4/65.9 MB 3.9 MB/s eta 0:00:02\n",
      "   ------------------------------------- -- 61.6/65.9 MB 4.0 MB/s eta 0:00:02\n",
      "   ------------------------------------- -- 61.8/65.9 MB 3.9 MB/s eta 0:00:02\n",
      "   ------------------------------------- -- 62.0/65.9 MB 3.9 MB/s eta 0:00:01\n",
      "   ------------------------------------- -- 62.2/65.9 MB 3.9 MB/s eta 0:00:01\n",
      "   ------------------------------------- -- 62.4/65.9 MB 3.9 MB/s eta 0:00:01\n",
      "   ------------------------------------- -- 62.6/65.9 MB 3.9 MB/s eta 0:00:01\n",
      "   -------------------------------------- - 62.7/65.9 MB 3.9 MB/s eta 0:00:01\n",
      "   -------------------------------------- - 62.9/65.9 MB 3.8 MB/s eta 0:00:01\n",
      "   -------------------------------------- - 63.0/65.9 MB 3.8 MB/s eta 0:00:01\n",
      "   -------------------------------------- - 63.2/65.9 MB 3.8 MB/s eta 0:00:01\n",
      "   -------------------------------------- - 63.4/65.9 MB 3.8 MB/s eta 0:00:01\n",
      "   -------------------------------------- - 63.6/65.9 MB 3.7 MB/s eta 0:00:01\n",
      "   -------------------------------------- - 63.7/65.9 MB 3.7 MB/s eta 0:00:01\n",
      "   -------------------------------------- - 63.9/65.9 MB 3.7 MB/s eta 0:00:01\n",
      "   -------------------------------------- - 64.1/65.9 MB 3.7 MB/s eta 0:00:01\n",
      "   ---------------------------------------  64.3/65.9 MB 3.7 MB/s eta 0:00:01\n",
      "   ---------------------------------------  64.5/65.9 MB 3.7 MB/s eta 0:00:01\n",
      "   ---------------------------------------  64.7/65.9 MB 3.7 MB/s eta 0:00:01\n",
      "   ---------------------------------------  64.9/65.9 MB 3.6 MB/s eta 0:00:01\n",
      "   ---------------------------------------  65.1/65.9 MB 3.7 MB/s eta 0:00:01\n",
      "   ---------------------------------------  65.3/65.9 MB 3.6 MB/s eta 0:00:01\n",
      "   ---------------------------------------  65.6/65.9 MB 3.6 MB/s eta 0:00:01\n",
      "   ---------------------------------------  65.7/65.9 MB 3.6 MB/s eta 0:00:01\n",
      "   ---------------------------------------  65.9/65.9 MB 3.6 MB/s eta 0:00:01\n",
      "   ---------------------------------------  65.9/65.9 MB 3.6 MB/s eta 0:00:01\n",
      "   ---------------------------------------  65.9/65.9 MB 3.6 MB/s eta 0:00:01\n",
      "   ---------------------------------------  65.9/65.9 MB 3.6 MB/s eta 0:00:01\n",
      "   ---------------------------------------  65.9/65.9 MB 3.6 MB/s eta 0:00:01\n",
      "   ---------------------------------------  65.9/65.9 MB 3.6 MB/s eta 0:00:01\n",
      "   ---------------------------------------- 65.9/65.9 MB 3.3 MB/s eta 0:00:00\n",
      "Installing collected packages: kaleido\n",
      "Successfully installed kaleido-0.2.1\n",
      "Note: you may need to restart the kernel to use updated packages.\n"
     ]
    }
   ],
   "source": [
    "pip install -U kaleido\n"
   ]
  },
  {
   "cell_type": "markdown",
   "metadata": {},
   "source": [
    "## Using Plotly"
   ]
  },
  {
   "cell_type": "code",
   "execution_count": 14,
   "metadata": {},
   "outputs": [
    {
     "data": {
      "application/vnd.plotly.v1+json": {
       "config": {
        "plotlyServerURL": "https://plot.ly"
       },
       "data": [
        {
         "marker": {
          "color": "rgba(55, 128, 191, 0.7)",
          "line": {
           "color": "rgba(55, 128, 191, 1.0)",
           "width": 1.5
          }
         },
         "orientation": "h",
         "type": "bar",
         "x": [
          0.0006234228885260817,
          0.000681948302550972,
          0.0007604062851205851,
          0.0009304692635552448,
          0.0009325897495706448,
          0.0010453996055896253,
          0.0011395491846731497,
          0.0013532941750249439,
          0.0018202251956148773,
          0.002233719968616843,
          0.0028927670222015146,
          0.0033147437392650803,
          0.008031552831909117,
          0.009985792743696886,
          0.2237757373990119
         ],
         "y": [
          "Feature 12",
          "Feature 42",
          "Feature 3",
          "Feature 4",
          "Feature 17",
          "Feature 36",
          "Feature 13",
          "Feature 23",
          "Feature 15",
          "Feature 43",
          "Feature 41",
          "Feature 7",
          "Feature 40",
          "Feature 44",
          "Feature 1"
         ]
        }
       ],
       "layout": {
        "height": 600,
        "template": {
         "data": {
          "bar": [
           {
            "error_x": {
             "color": "#2a3f5f"
            },
            "error_y": {
             "color": "#2a3f5f"
            },
            "marker": {
             "line": {
              "color": "white",
              "width": 0.5
             },
             "pattern": {
              "fillmode": "overlay",
              "size": 10,
              "solidity": 0.2
             }
            },
            "type": "bar"
           }
          ],
          "barpolar": [
           {
            "marker": {
             "line": {
              "color": "white",
              "width": 0.5
             },
             "pattern": {
              "fillmode": "overlay",
              "size": 10,
              "solidity": 0.2
             }
            },
            "type": "barpolar"
           }
          ],
          "carpet": [
           {
            "aaxis": {
             "endlinecolor": "#2a3f5f",
             "gridcolor": "#C8D4E3",
             "linecolor": "#C8D4E3",
             "minorgridcolor": "#C8D4E3",
             "startlinecolor": "#2a3f5f"
            },
            "baxis": {
             "endlinecolor": "#2a3f5f",
             "gridcolor": "#C8D4E3",
             "linecolor": "#C8D4E3",
             "minorgridcolor": "#C8D4E3",
             "startlinecolor": "#2a3f5f"
            },
            "type": "carpet"
           }
          ],
          "choropleth": [
           {
            "colorbar": {
             "outlinewidth": 0,
             "ticks": ""
            },
            "type": "choropleth"
           }
          ],
          "contour": [
           {
            "colorbar": {
             "outlinewidth": 0,
             "ticks": ""
            },
            "colorscale": [
             [
              0,
              "#0d0887"
             ],
             [
              0.1111111111111111,
              "#46039f"
             ],
             [
              0.2222222222222222,
              "#7201a8"
             ],
             [
              0.3333333333333333,
              "#9c179e"
             ],
             [
              0.4444444444444444,
              "#bd3786"
             ],
             [
              0.5555555555555556,
              "#d8576b"
             ],
             [
              0.6666666666666666,
              "#ed7953"
             ],
             [
              0.7777777777777778,
              "#fb9f3a"
             ],
             [
              0.8888888888888888,
              "#fdca26"
             ],
             [
              1,
              "#f0f921"
             ]
            ],
            "type": "contour"
           }
          ],
          "contourcarpet": [
           {
            "colorbar": {
             "outlinewidth": 0,
             "ticks": ""
            },
            "type": "contourcarpet"
           }
          ],
          "heatmap": [
           {
            "colorbar": {
             "outlinewidth": 0,
             "ticks": ""
            },
            "colorscale": [
             [
              0,
              "#0d0887"
             ],
             [
              0.1111111111111111,
              "#46039f"
             ],
             [
              0.2222222222222222,
              "#7201a8"
             ],
             [
              0.3333333333333333,
              "#9c179e"
             ],
             [
              0.4444444444444444,
              "#bd3786"
             ],
             [
              0.5555555555555556,
              "#d8576b"
             ],
             [
              0.6666666666666666,
              "#ed7953"
             ],
             [
              0.7777777777777778,
              "#fb9f3a"
             ],
             [
              0.8888888888888888,
              "#fdca26"
             ],
             [
              1,
              "#f0f921"
             ]
            ],
            "type": "heatmap"
           }
          ],
          "heatmapgl": [
           {
            "colorbar": {
             "outlinewidth": 0,
             "ticks": ""
            },
            "colorscale": [
             [
              0,
              "#0d0887"
             ],
             [
              0.1111111111111111,
              "#46039f"
             ],
             [
              0.2222222222222222,
              "#7201a8"
             ],
             [
              0.3333333333333333,
              "#9c179e"
             ],
             [
              0.4444444444444444,
              "#bd3786"
             ],
             [
              0.5555555555555556,
              "#d8576b"
             ],
             [
              0.6666666666666666,
              "#ed7953"
             ],
             [
              0.7777777777777778,
              "#fb9f3a"
             ],
             [
              0.8888888888888888,
              "#fdca26"
             ],
             [
              1,
              "#f0f921"
             ]
            ],
            "type": "heatmapgl"
           }
          ],
          "histogram": [
           {
            "marker": {
             "pattern": {
              "fillmode": "overlay",
              "size": 10,
              "solidity": 0.2
             }
            },
            "type": "histogram"
           }
          ],
          "histogram2d": [
           {
            "colorbar": {
             "outlinewidth": 0,
             "ticks": ""
            },
            "colorscale": [
             [
              0,
              "#0d0887"
             ],
             [
              0.1111111111111111,
              "#46039f"
             ],
             [
              0.2222222222222222,
              "#7201a8"
             ],
             [
              0.3333333333333333,
              "#9c179e"
             ],
             [
              0.4444444444444444,
              "#bd3786"
             ],
             [
              0.5555555555555556,
              "#d8576b"
             ],
             [
              0.6666666666666666,
              "#ed7953"
             ],
             [
              0.7777777777777778,
              "#fb9f3a"
             ],
             [
              0.8888888888888888,
              "#fdca26"
             ],
             [
              1,
              "#f0f921"
             ]
            ],
            "type": "histogram2d"
           }
          ],
          "histogram2dcontour": [
           {
            "colorbar": {
             "outlinewidth": 0,
             "ticks": ""
            },
            "colorscale": [
             [
              0,
              "#0d0887"
             ],
             [
              0.1111111111111111,
              "#46039f"
             ],
             [
              0.2222222222222222,
              "#7201a8"
             ],
             [
              0.3333333333333333,
              "#9c179e"
             ],
             [
              0.4444444444444444,
              "#bd3786"
             ],
             [
              0.5555555555555556,
              "#d8576b"
             ],
             [
              0.6666666666666666,
              "#ed7953"
             ],
             [
              0.7777777777777778,
              "#fb9f3a"
             ],
             [
              0.8888888888888888,
              "#fdca26"
             ],
             [
              1,
              "#f0f921"
             ]
            ],
            "type": "histogram2dcontour"
           }
          ],
          "mesh3d": [
           {
            "colorbar": {
             "outlinewidth": 0,
             "ticks": ""
            },
            "type": "mesh3d"
           }
          ],
          "parcoords": [
           {
            "line": {
             "colorbar": {
              "outlinewidth": 0,
              "ticks": ""
             }
            },
            "type": "parcoords"
           }
          ],
          "pie": [
           {
            "automargin": true,
            "type": "pie"
           }
          ],
          "scatter": [
           {
            "fillpattern": {
             "fillmode": "overlay",
             "size": 10,
             "solidity": 0.2
            },
            "type": "scatter"
           }
          ],
          "scatter3d": [
           {
            "line": {
             "colorbar": {
              "outlinewidth": 0,
              "ticks": ""
             }
            },
            "marker": {
             "colorbar": {
              "outlinewidth": 0,
              "ticks": ""
             }
            },
            "type": "scatter3d"
           }
          ],
          "scattercarpet": [
           {
            "marker": {
             "colorbar": {
              "outlinewidth": 0,
              "ticks": ""
             }
            },
            "type": "scattercarpet"
           }
          ],
          "scattergeo": [
           {
            "marker": {
             "colorbar": {
              "outlinewidth": 0,
              "ticks": ""
             }
            },
            "type": "scattergeo"
           }
          ],
          "scattergl": [
           {
            "marker": {
             "colorbar": {
              "outlinewidth": 0,
              "ticks": ""
             }
            },
            "type": "scattergl"
           }
          ],
          "scattermapbox": [
           {
            "marker": {
             "colorbar": {
              "outlinewidth": 0,
              "ticks": ""
             }
            },
            "type": "scattermapbox"
           }
          ],
          "scatterpolar": [
           {
            "marker": {
             "colorbar": {
              "outlinewidth": 0,
              "ticks": ""
             }
            },
            "type": "scatterpolar"
           }
          ],
          "scatterpolargl": [
           {
            "marker": {
             "colorbar": {
              "outlinewidth": 0,
              "ticks": ""
             }
            },
            "type": "scatterpolargl"
           }
          ],
          "scatterternary": [
           {
            "marker": {
             "colorbar": {
              "outlinewidth": 0,
              "ticks": ""
             }
            },
            "type": "scatterternary"
           }
          ],
          "surface": [
           {
            "colorbar": {
             "outlinewidth": 0,
             "ticks": ""
            },
            "colorscale": [
             [
              0,
              "#0d0887"
             ],
             [
              0.1111111111111111,
              "#46039f"
             ],
             [
              0.2222222222222222,
              "#7201a8"
             ],
             [
              0.3333333333333333,
              "#9c179e"
             ],
             [
              0.4444444444444444,
              "#bd3786"
             ],
             [
              0.5555555555555556,
              "#d8576b"
             ],
             [
              0.6666666666666666,
              "#ed7953"
             ],
             [
              0.7777777777777778,
              "#fb9f3a"
             ],
             [
              0.8888888888888888,
              "#fdca26"
             ],
             [
              1,
              "#f0f921"
             ]
            ],
            "type": "surface"
           }
          ],
          "table": [
           {
            "cells": {
             "fill": {
              "color": "#EBF0F8"
             },
             "line": {
              "color": "white"
             }
            },
            "header": {
             "fill": {
              "color": "#C8D4E3"
             },
             "line": {
              "color": "white"
             }
            },
            "type": "table"
           }
          ]
         },
         "layout": {
          "annotationdefaults": {
           "arrowcolor": "#2a3f5f",
           "arrowhead": 0,
           "arrowwidth": 1
          },
          "autotypenumbers": "strict",
          "coloraxis": {
           "colorbar": {
            "outlinewidth": 0,
            "ticks": ""
           }
          },
          "colorscale": {
           "diverging": [
            [
             0,
             "#8e0152"
            ],
            [
             0.1,
             "#c51b7d"
            ],
            [
             0.2,
             "#de77ae"
            ],
            [
             0.3,
             "#f1b6da"
            ],
            [
             0.4,
             "#fde0ef"
            ],
            [
             0.5,
             "#f7f7f7"
            ],
            [
             0.6,
             "#e6f5d0"
            ],
            [
             0.7,
             "#b8e186"
            ],
            [
             0.8,
             "#7fbc41"
            ],
            [
             0.9,
             "#4d9221"
            ],
            [
             1,
             "#276419"
            ]
           ],
           "sequential": [
            [
             0,
             "#0d0887"
            ],
            [
             0.1111111111111111,
             "#46039f"
            ],
            [
             0.2222222222222222,
             "#7201a8"
            ],
            [
             0.3333333333333333,
             "#9c179e"
            ],
            [
             0.4444444444444444,
             "#bd3786"
            ],
            [
             0.5555555555555556,
             "#d8576b"
            ],
            [
             0.6666666666666666,
             "#ed7953"
            ],
            [
             0.7777777777777778,
             "#fb9f3a"
            ],
            [
             0.8888888888888888,
             "#fdca26"
            ],
            [
             1,
             "#f0f921"
            ]
           ],
           "sequentialminus": [
            [
             0,
             "#0d0887"
            ],
            [
             0.1111111111111111,
             "#46039f"
            ],
            [
             0.2222222222222222,
             "#7201a8"
            ],
            [
             0.3333333333333333,
             "#9c179e"
            ],
            [
             0.4444444444444444,
             "#bd3786"
            ],
            [
             0.5555555555555556,
             "#d8576b"
            ],
            [
             0.6666666666666666,
             "#ed7953"
            ],
            [
             0.7777777777777778,
             "#fb9f3a"
            ],
            [
             0.8888888888888888,
             "#fdca26"
            ],
            [
             1,
             "#f0f921"
            ]
           ]
          },
          "colorway": [
           "#636efa",
           "#EF553B",
           "#00cc96",
           "#ab63fa",
           "#FFA15A",
           "#19d3f3",
           "#FF6692",
           "#B6E880",
           "#FF97FF",
           "#FECB52"
          ],
          "font": {
           "color": "#2a3f5f"
          },
          "geo": {
           "bgcolor": "white",
           "lakecolor": "white",
           "landcolor": "white",
           "showlakes": true,
           "showland": true,
           "subunitcolor": "#C8D4E3"
          },
          "hoverlabel": {
           "align": "left"
          },
          "hovermode": "closest",
          "mapbox": {
           "style": "light"
          },
          "paper_bgcolor": "white",
          "plot_bgcolor": "white",
          "polar": {
           "angularaxis": {
            "gridcolor": "#EBF0F8",
            "linecolor": "#EBF0F8",
            "ticks": ""
           },
           "bgcolor": "white",
           "radialaxis": {
            "gridcolor": "#EBF0F8",
            "linecolor": "#EBF0F8",
            "ticks": ""
           }
          },
          "scene": {
           "xaxis": {
            "backgroundcolor": "white",
            "gridcolor": "#DFE8F3",
            "gridwidth": 2,
            "linecolor": "#EBF0F8",
            "showbackground": true,
            "ticks": "",
            "zerolinecolor": "#EBF0F8"
           },
           "yaxis": {
            "backgroundcolor": "white",
            "gridcolor": "#DFE8F3",
            "gridwidth": 2,
            "linecolor": "#EBF0F8",
            "showbackground": true,
            "ticks": "",
            "zerolinecolor": "#EBF0F8"
           },
           "zaxis": {
            "backgroundcolor": "white",
            "gridcolor": "#DFE8F3",
            "gridwidth": 2,
            "linecolor": "#EBF0F8",
            "showbackground": true,
            "ticks": "",
            "zerolinecolor": "#EBF0F8"
           }
          },
          "shapedefaults": {
           "line": {
            "color": "#2a3f5f"
           }
          },
          "ternary": {
           "aaxis": {
            "gridcolor": "#DFE8F3",
            "linecolor": "#A2B1C6",
            "ticks": ""
           },
           "baxis": {
            "gridcolor": "#DFE8F3",
            "linecolor": "#A2B1C6",
            "ticks": ""
           },
           "bgcolor": "white",
           "caxis": {
            "gridcolor": "#DFE8F3",
            "linecolor": "#A2B1C6",
            "ticks": ""
           }
          },
          "title": {
           "x": 0.05
          },
          "xaxis": {
           "automargin": true,
           "gridcolor": "#EBF0F8",
           "linecolor": "#EBF0F8",
           "ticks": "",
           "title": {
            "standoff": 15
           },
           "zerolinecolor": "#EBF0F8",
           "zerolinewidth": 2
          },
          "yaxis": {
           "automargin": true,
           "gridcolor": "#EBF0F8",
           "linecolor": "#EBF0F8",
           "ticks": "",
           "title": {
            "standoff": 15
           },
           "zerolinecolor": "#EBF0F8",
           "zerolinewidth": 2
          }
         }
        },
        "title": {
         "text": "Top 15 Feature Importances (Permutation)"
        },
        "xaxis": {
         "title": {
          "text": "Mean Decrease in Accuracy"
         }
        },
        "yaxis": {
         "title": {
          "text": "Features"
         }
        }
       }
      }
     },
     "metadata": {},
     "output_type": "display_data"
    }
   ],
   "source": [
    "import numpy as np\n",
    "import plotly.graph_objects as go\n",
    "from sklearn.inspection import permutation_importance\n",
    "from sklearn.neural_network import MLPClassifier\n",
    "from sklearn.preprocessing import StandardScaler\n",
    "\n",
    "# Assume X_fcm and labels are already defined\n",
    "scaler = StandardScaler()\n",
    "X_scaled = scaler.fit_transform(X_fcm)\n",
    "\n",
    "mlp_model = MLPClassifier(hidden_layer_sizes=(64, 32), max_iter=100, solver='adam', random_state=42)\n",
    "mlp_model.fit(X_scaled, labels)\n",
    "\n",
    "# Compute permutation importance\n",
    "result = permutation_importance(mlp_model, X_scaled, labels, n_repeats=10, random_state=42, scoring='accuracy')\n",
    "feature_names = [f'Feature {i+1}' for i in range(X_fcm.shape[1])]\n",
    "\n",
    "# Top N features\n",
    "sorted_idx = result.importances_mean.argsort()[::-1]\n",
    "top_n = 15\n",
    "top_features = np.array(feature_names)[sorted_idx][:top_n]\n",
    "top_importances = result.importances_mean[sorted_idx][:top_n]\n",
    "\n",
    "# Create Plotly bar chart\n",
    "fig = go.Figure(go.Bar(\n",
    "    x=top_importances[::-1],\n",
    "    y=top_features[::-1],\n",
    "    orientation='h',\n",
    "    marker=dict(color='rgba(55, 128, 191, 0.7)', line=dict(color='rgba(55, 128, 191, 1.0)', width=1.5))\n",
    "))\n",
    "\n",
    "fig.update_layout(\n",
    "    title=\"Top 15 Feature Importances (Permutation)\",\n",
    "    xaxis_title=\"Mean Decrease in Accuracy\",\n",
    "    yaxis_title=\"Features\",\n",
    "    template='plotly_white',\n",
    "    height=600\n",
    ")\n",
    "\n",
    "# Show the chart\n",
    "fig.show()\n",
    "\n",
    "# Optional: save the image (install kaleido first)\n",
    "# pip install -U kaleido\n",
    "# fig.write_image(\"Permutation_Feature_Importance.png\", scale=2)\n"
   ]
  },
  {
   "cell_type": "code",
   "execution_count": 16,
   "metadata": {},
   "outputs": [
    {
     "data": {
      "application/vnd.plotly.v1+json": {
       "config": {
        "plotlyServerURL": "https://plot.ly"
       },
       "data": [
        {
         "marker": {
          "color": "rgba(55, 128, 191, 0.7)",
          "line": {
           "color": "rgba(55, 128, 191, 1.0)",
           "width": 1.5
          }
         },
         "orientation": "h",
         "type": "bar",
         "x": [
          0.0006234228885260817,
          0.000681948302550972,
          0.0007604062851205851,
          0.0009304692635552448,
          0.0009325897495706448,
          0.0010453996055896253,
          0.0011395491846731497,
          0.0013532941750249439,
          0.0018202251956148773,
          0.002233719968616843,
          0.0028927670222015146,
          0.0033147437392650803,
          0.008031552831909117,
          0.009985792743696886,
          0.2237757373990119
         ],
         "y": [
          "Feature 12",
          "Feature 42",
          "Feature 3",
          "Feature 4",
          "Feature 17",
          "Feature 36",
          "Feature 13",
          "Feature 23",
          "Feature 15",
          "Feature 43",
          "Feature 41",
          "Feature 7",
          "Feature 40",
          "Feature 44",
          "Feature 1"
         ]
        }
       ],
       "layout": {
        "height": 600,
        "template": {
         "data": {
          "bar": [
           {
            "error_x": {
             "color": "#2a3f5f"
            },
            "error_y": {
             "color": "#2a3f5f"
            },
            "marker": {
             "line": {
              "color": "white",
              "width": 0.5
             },
             "pattern": {
              "fillmode": "overlay",
              "size": 10,
              "solidity": 0.2
             }
            },
            "type": "bar"
           }
          ],
          "barpolar": [
           {
            "marker": {
             "line": {
              "color": "white",
              "width": 0.5
             },
             "pattern": {
              "fillmode": "overlay",
              "size": 10,
              "solidity": 0.2
             }
            },
            "type": "barpolar"
           }
          ],
          "carpet": [
           {
            "aaxis": {
             "endlinecolor": "#2a3f5f",
             "gridcolor": "#C8D4E3",
             "linecolor": "#C8D4E3",
             "minorgridcolor": "#C8D4E3",
             "startlinecolor": "#2a3f5f"
            },
            "baxis": {
             "endlinecolor": "#2a3f5f",
             "gridcolor": "#C8D4E3",
             "linecolor": "#C8D4E3",
             "minorgridcolor": "#C8D4E3",
             "startlinecolor": "#2a3f5f"
            },
            "type": "carpet"
           }
          ],
          "choropleth": [
           {
            "colorbar": {
             "outlinewidth": 0,
             "ticks": ""
            },
            "type": "choropleth"
           }
          ],
          "contour": [
           {
            "colorbar": {
             "outlinewidth": 0,
             "ticks": ""
            },
            "colorscale": [
             [
              0,
              "#0d0887"
             ],
             [
              0.1111111111111111,
              "#46039f"
             ],
             [
              0.2222222222222222,
              "#7201a8"
             ],
             [
              0.3333333333333333,
              "#9c179e"
             ],
             [
              0.4444444444444444,
              "#bd3786"
             ],
             [
              0.5555555555555556,
              "#d8576b"
             ],
             [
              0.6666666666666666,
              "#ed7953"
             ],
             [
              0.7777777777777778,
              "#fb9f3a"
             ],
             [
              0.8888888888888888,
              "#fdca26"
             ],
             [
              1,
              "#f0f921"
             ]
            ],
            "type": "contour"
           }
          ],
          "contourcarpet": [
           {
            "colorbar": {
             "outlinewidth": 0,
             "ticks": ""
            },
            "type": "contourcarpet"
           }
          ],
          "heatmap": [
           {
            "colorbar": {
             "outlinewidth": 0,
             "ticks": ""
            },
            "colorscale": [
             [
              0,
              "#0d0887"
             ],
             [
              0.1111111111111111,
              "#46039f"
             ],
             [
              0.2222222222222222,
              "#7201a8"
             ],
             [
              0.3333333333333333,
              "#9c179e"
             ],
             [
              0.4444444444444444,
              "#bd3786"
             ],
             [
              0.5555555555555556,
              "#d8576b"
             ],
             [
              0.6666666666666666,
              "#ed7953"
             ],
             [
              0.7777777777777778,
              "#fb9f3a"
             ],
             [
              0.8888888888888888,
              "#fdca26"
             ],
             [
              1,
              "#f0f921"
             ]
            ],
            "type": "heatmap"
           }
          ],
          "heatmapgl": [
           {
            "colorbar": {
             "outlinewidth": 0,
             "ticks": ""
            },
            "colorscale": [
             [
              0,
              "#0d0887"
             ],
             [
              0.1111111111111111,
              "#46039f"
             ],
             [
              0.2222222222222222,
              "#7201a8"
             ],
             [
              0.3333333333333333,
              "#9c179e"
             ],
             [
              0.4444444444444444,
              "#bd3786"
             ],
             [
              0.5555555555555556,
              "#d8576b"
             ],
             [
              0.6666666666666666,
              "#ed7953"
             ],
             [
              0.7777777777777778,
              "#fb9f3a"
             ],
             [
              0.8888888888888888,
              "#fdca26"
             ],
             [
              1,
              "#f0f921"
             ]
            ],
            "type": "heatmapgl"
           }
          ],
          "histogram": [
           {
            "marker": {
             "pattern": {
              "fillmode": "overlay",
              "size": 10,
              "solidity": 0.2
             }
            },
            "type": "histogram"
           }
          ],
          "histogram2d": [
           {
            "colorbar": {
             "outlinewidth": 0,
             "ticks": ""
            },
            "colorscale": [
             [
              0,
              "#0d0887"
             ],
             [
              0.1111111111111111,
              "#46039f"
             ],
             [
              0.2222222222222222,
              "#7201a8"
             ],
             [
              0.3333333333333333,
              "#9c179e"
             ],
             [
              0.4444444444444444,
              "#bd3786"
             ],
             [
              0.5555555555555556,
              "#d8576b"
             ],
             [
              0.6666666666666666,
              "#ed7953"
             ],
             [
              0.7777777777777778,
              "#fb9f3a"
             ],
             [
              0.8888888888888888,
              "#fdca26"
             ],
             [
              1,
              "#f0f921"
             ]
            ],
            "type": "histogram2d"
           }
          ],
          "histogram2dcontour": [
           {
            "colorbar": {
             "outlinewidth": 0,
             "ticks": ""
            },
            "colorscale": [
             [
              0,
              "#0d0887"
             ],
             [
              0.1111111111111111,
              "#46039f"
             ],
             [
              0.2222222222222222,
              "#7201a8"
             ],
             [
              0.3333333333333333,
              "#9c179e"
             ],
             [
              0.4444444444444444,
              "#bd3786"
             ],
             [
              0.5555555555555556,
              "#d8576b"
             ],
             [
              0.6666666666666666,
              "#ed7953"
             ],
             [
              0.7777777777777778,
              "#fb9f3a"
             ],
             [
              0.8888888888888888,
              "#fdca26"
             ],
             [
              1,
              "#f0f921"
             ]
            ],
            "type": "histogram2dcontour"
           }
          ],
          "mesh3d": [
           {
            "colorbar": {
             "outlinewidth": 0,
             "ticks": ""
            },
            "type": "mesh3d"
           }
          ],
          "parcoords": [
           {
            "line": {
             "colorbar": {
              "outlinewidth": 0,
              "ticks": ""
             }
            },
            "type": "parcoords"
           }
          ],
          "pie": [
           {
            "automargin": true,
            "type": "pie"
           }
          ],
          "scatter": [
           {
            "fillpattern": {
             "fillmode": "overlay",
             "size": 10,
             "solidity": 0.2
            },
            "type": "scatter"
           }
          ],
          "scatter3d": [
           {
            "line": {
             "colorbar": {
              "outlinewidth": 0,
              "ticks": ""
             }
            },
            "marker": {
             "colorbar": {
              "outlinewidth": 0,
              "ticks": ""
             }
            },
            "type": "scatter3d"
           }
          ],
          "scattercarpet": [
           {
            "marker": {
             "colorbar": {
              "outlinewidth": 0,
              "ticks": ""
             }
            },
            "type": "scattercarpet"
           }
          ],
          "scattergeo": [
           {
            "marker": {
             "colorbar": {
              "outlinewidth": 0,
              "ticks": ""
             }
            },
            "type": "scattergeo"
           }
          ],
          "scattergl": [
           {
            "marker": {
             "colorbar": {
              "outlinewidth": 0,
              "ticks": ""
             }
            },
            "type": "scattergl"
           }
          ],
          "scattermapbox": [
           {
            "marker": {
             "colorbar": {
              "outlinewidth": 0,
              "ticks": ""
             }
            },
            "type": "scattermapbox"
           }
          ],
          "scatterpolar": [
           {
            "marker": {
             "colorbar": {
              "outlinewidth": 0,
              "ticks": ""
             }
            },
            "type": "scatterpolar"
           }
          ],
          "scatterpolargl": [
           {
            "marker": {
             "colorbar": {
              "outlinewidth": 0,
              "ticks": ""
             }
            },
            "type": "scatterpolargl"
           }
          ],
          "scatterternary": [
           {
            "marker": {
             "colorbar": {
              "outlinewidth": 0,
              "ticks": ""
             }
            },
            "type": "scatterternary"
           }
          ],
          "surface": [
           {
            "colorbar": {
             "outlinewidth": 0,
             "ticks": ""
            },
            "colorscale": [
             [
              0,
              "#0d0887"
             ],
             [
              0.1111111111111111,
              "#46039f"
             ],
             [
              0.2222222222222222,
              "#7201a8"
             ],
             [
              0.3333333333333333,
              "#9c179e"
             ],
             [
              0.4444444444444444,
              "#bd3786"
             ],
             [
              0.5555555555555556,
              "#d8576b"
             ],
             [
              0.6666666666666666,
              "#ed7953"
             ],
             [
              0.7777777777777778,
              "#fb9f3a"
             ],
             [
              0.8888888888888888,
              "#fdca26"
             ],
             [
              1,
              "#f0f921"
             ]
            ],
            "type": "surface"
           }
          ],
          "table": [
           {
            "cells": {
             "fill": {
              "color": "#EBF0F8"
             },
             "line": {
              "color": "white"
             }
            },
            "header": {
             "fill": {
              "color": "#C8D4E3"
             },
             "line": {
              "color": "white"
             }
            },
            "type": "table"
           }
          ]
         },
         "layout": {
          "annotationdefaults": {
           "arrowcolor": "#2a3f5f",
           "arrowhead": 0,
           "arrowwidth": 1
          },
          "autotypenumbers": "strict",
          "coloraxis": {
           "colorbar": {
            "outlinewidth": 0,
            "ticks": ""
           }
          },
          "colorscale": {
           "diverging": [
            [
             0,
             "#8e0152"
            ],
            [
             0.1,
             "#c51b7d"
            ],
            [
             0.2,
             "#de77ae"
            ],
            [
             0.3,
             "#f1b6da"
            ],
            [
             0.4,
             "#fde0ef"
            ],
            [
             0.5,
             "#f7f7f7"
            ],
            [
             0.6,
             "#e6f5d0"
            ],
            [
             0.7,
             "#b8e186"
            ],
            [
             0.8,
             "#7fbc41"
            ],
            [
             0.9,
             "#4d9221"
            ],
            [
             1,
             "#276419"
            ]
           ],
           "sequential": [
            [
             0,
             "#0d0887"
            ],
            [
             0.1111111111111111,
             "#46039f"
            ],
            [
             0.2222222222222222,
             "#7201a8"
            ],
            [
             0.3333333333333333,
             "#9c179e"
            ],
            [
             0.4444444444444444,
             "#bd3786"
            ],
            [
             0.5555555555555556,
             "#d8576b"
            ],
            [
             0.6666666666666666,
             "#ed7953"
            ],
            [
             0.7777777777777778,
             "#fb9f3a"
            ],
            [
             0.8888888888888888,
             "#fdca26"
            ],
            [
             1,
             "#f0f921"
            ]
           ],
           "sequentialminus": [
            [
             0,
             "#0d0887"
            ],
            [
             0.1111111111111111,
             "#46039f"
            ],
            [
             0.2222222222222222,
             "#7201a8"
            ],
            [
             0.3333333333333333,
             "#9c179e"
            ],
            [
             0.4444444444444444,
             "#bd3786"
            ],
            [
             0.5555555555555556,
             "#d8576b"
            ],
            [
             0.6666666666666666,
             "#ed7953"
            ],
            [
             0.7777777777777778,
             "#fb9f3a"
            ],
            [
             0.8888888888888888,
             "#fdca26"
            ],
            [
             1,
             "#f0f921"
            ]
           ]
          },
          "colorway": [
           "#636efa",
           "#EF553B",
           "#00cc96",
           "#ab63fa",
           "#FFA15A",
           "#19d3f3",
           "#FF6692",
           "#B6E880",
           "#FF97FF",
           "#FECB52"
          ],
          "font": {
           "color": "#2a3f5f"
          },
          "geo": {
           "bgcolor": "white",
           "lakecolor": "white",
           "landcolor": "white",
           "showlakes": true,
           "showland": true,
           "subunitcolor": "#C8D4E3"
          },
          "hoverlabel": {
           "align": "left"
          },
          "hovermode": "closest",
          "mapbox": {
           "style": "light"
          },
          "paper_bgcolor": "white",
          "plot_bgcolor": "white",
          "polar": {
           "angularaxis": {
            "gridcolor": "#EBF0F8",
            "linecolor": "#EBF0F8",
            "ticks": ""
           },
           "bgcolor": "white",
           "radialaxis": {
            "gridcolor": "#EBF0F8",
            "linecolor": "#EBF0F8",
            "ticks": ""
           }
          },
          "scene": {
           "xaxis": {
            "backgroundcolor": "white",
            "gridcolor": "#DFE8F3",
            "gridwidth": 2,
            "linecolor": "#EBF0F8",
            "showbackground": true,
            "ticks": "",
            "zerolinecolor": "#EBF0F8"
           },
           "yaxis": {
            "backgroundcolor": "white",
            "gridcolor": "#DFE8F3",
            "gridwidth": 2,
            "linecolor": "#EBF0F8",
            "showbackground": true,
            "ticks": "",
            "zerolinecolor": "#EBF0F8"
           },
           "zaxis": {
            "backgroundcolor": "white",
            "gridcolor": "#DFE8F3",
            "gridwidth": 2,
            "linecolor": "#EBF0F8",
            "showbackground": true,
            "ticks": "",
            "zerolinecolor": "#EBF0F8"
           }
          },
          "shapedefaults": {
           "line": {
            "color": "#2a3f5f"
           }
          },
          "ternary": {
           "aaxis": {
            "gridcolor": "#DFE8F3",
            "linecolor": "#A2B1C6",
            "ticks": ""
           },
           "baxis": {
            "gridcolor": "#DFE8F3",
            "linecolor": "#A2B1C6",
            "ticks": ""
           },
           "bgcolor": "white",
           "caxis": {
            "gridcolor": "#DFE8F3",
            "linecolor": "#A2B1C6",
            "ticks": ""
           }
          },
          "title": {
           "x": 0.05
          },
          "xaxis": {
           "automargin": true,
           "gridcolor": "#EBF0F8",
           "linecolor": "#EBF0F8",
           "ticks": "",
           "title": {
            "standoff": 15
           },
           "zerolinecolor": "#EBF0F8",
           "zerolinewidth": 2
          },
          "yaxis": {
           "automargin": true,
           "gridcolor": "#EBF0F8",
           "linecolor": "#EBF0F8",
           "ticks": "",
           "title": {
            "standoff": 15
           },
           "zerolinecolor": "#EBF0F8",
           "zerolinewidth": 2
          }
         }
        },
        "title": {
         "text": "Top 15 Feature Importances (Permutation)"
        },
        "xaxis": {
         "title": {
          "text": "Mean Decrease in Accuracy"
         }
        },
        "yaxis": {
         "title": {
          "text": "Features"
         }
        }
       }
      }
     },
     "metadata": {},
     "output_type": "display_data"
    }
   ],
   "source": [
    "fig.write_image(\"Permutation_Feature_Importance_Plotly.png\", scale=2)\n",
    "fig.show()\n"
   ]
  },
  {
   "cell_type": "markdown",
   "metadata": {},
   "source": [
    "# 1D CNN on URL Sequences"
   ]
  },
  {
   "cell_type": "code",
   "execution_count": 1,
   "metadata": {},
   "outputs": [],
   "source": [
    "import pandas as pd \n",
    "import numpy as np \n",
    "from sklearn.model_selection import train_test_split"
   ]
  },
  {
   "cell_type": "code",
   "execution_count": null,
   "metadata": {},
   "outputs": [
    {
     "name": "stdout",
     "output_type": "stream",
     "text": [
      "Epoch 1/10\n"
     ]
    },
    {
     "name": "stderr",
     "output_type": "stream",
     "text": [
      "e:\\anaconda3\\Lib\\site-packages\\keras\\src\\layers\\core\\embedding.py:97: UserWarning: Argument `input_length` is deprecated. Just remove it.\n",
      "  warnings.warn(\n"
     ]
    },
    {
     "name": "stdout",
     "output_type": "stream",
     "text": [
      "\u001b[1m5895/5895\u001b[0m \u001b[32m━━━━━━━━━━━━━━━━━━━━\u001b[0m\u001b[37m\u001b[0m \u001b[1m12s\u001b[0m 2ms/step - accuracy: 0.9810 - loss: 0.0508 - val_accuracy: 0.9974 - val_loss: 0.0154\n",
      "Epoch 2/10\n",
      "\u001b[1m5895/5895\u001b[0m \u001b[32m━━━━━━━━━━━━━━━━━━━━\u001b[0m\u001b[37m\u001b[0m \u001b[1m12s\u001b[0m 2ms/step - accuracy: 0.9980 - loss: 0.0145 - val_accuracy: 0.9980 - val_loss: 0.0113\n",
      "Epoch 3/10\n",
      "\u001b[1m5895/5895\u001b[0m \u001b[32m━━━━━━━━━━━━━━━━━━━━\u001b[0m\u001b[37m\u001b[0m \u001b[1m14s\u001b[0m 2ms/step - accuracy: 0.9980 - loss: 0.0136 - val_accuracy: 0.9980 - val_loss: 0.0112\n",
      "Epoch 4/10\n",
      "\u001b[1m5895/5895\u001b[0m \u001b[32m━━━━━━━━━━━━━━━━━━━━\u001b[0m\u001b[37m\u001b[0m \u001b[1m14s\u001b[0m 2ms/step - accuracy: 0.9984 - loss: 0.0109 - val_accuracy: 0.9979 - val_loss: 0.0128\n",
      "Epoch 5/10\n",
      "\u001b[1m5895/5895\u001b[0m \u001b[32m━━━━━━━━━━━━━━━━━━━━\u001b[0m\u001b[37m\u001b[0m \u001b[1m14s\u001b[0m 2ms/step - accuracy: 0.9983 - loss: 0.0110 - val_accuracy: 0.9981 - val_loss: 0.0118\n",
      "Epoch 6/10\n",
      "\u001b[1m5895/5895\u001b[0m \u001b[32m━━━━━━━━━━━━━━━━━━━━\u001b[0m\u001b[37m\u001b[0m \u001b[1m14s\u001b[0m 2ms/step - accuracy: 0.9985 - loss: 0.0093 - val_accuracy: 0.9980 - val_loss: 0.0119\n",
      "Epoch 7/10\n",
      "\u001b[1m5895/5895\u001b[0m \u001b[32m━━━━━━━━━━━━━━━━━━━━\u001b[0m\u001b[37m\u001b[0m \u001b[1m14s\u001b[0m 2ms/step - accuracy: 0.9984 - loss: 0.0098 - val_accuracy: 0.9979 - val_loss: 0.0140\n",
      "Epoch 8/10\n",
      "\u001b[1m5895/5895\u001b[0m \u001b[32m━━━━━━━━━━━━━━━━━━━━\u001b[0m\u001b[37m\u001b[0m \u001b[1m14s\u001b[0m 2ms/step - accuracy: 0.9984 - loss: 0.0089 - val_accuracy: 0.9981 - val_loss: 0.0129\n",
      "Epoch 9/10\n",
      "\u001b[1m5895/5895\u001b[0m \u001b[32m━━━━━━━━━━━━━━━━━━━━\u001b[0m\u001b[37m\u001b[0m \u001b[1m14s\u001b[0m 2ms/step - accuracy: 0.9984 - loss: 0.0085 - val_accuracy: 0.9980 - val_loss: 0.0129\n",
      "Epoch 10/10\n",
      "\u001b[1m5895/5895\u001b[0m \u001b[32m━━━━━━━━━━━━━━━━━━━━\u001b[0m\u001b[37m\u001b[0m \u001b[1m14s\u001b[0m 2ms/step - accuracy: 0.9985 - loss: 0.0078 - val_accuracy: 0.9980 - val_loss: 0.0140\n",
      "\u001b[1m1474/1474\u001b[0m \u001b[32m━━━━━━━━━━━━━━━━━━━━\u001b[0m\u001b[37m\u001b[0m \u001b[1m2s\u001b[0m 1ms/step - accuracy: 0.9979 - loss: 0.0146\n",
      "CNN Accuracy: 99.80%\n"
     ]
    }
   ],
   "source": [
    "import pandas as pd\n",
    "from tensorflow.keras.preprocessing.text import Tokenizer\n",
    "from tensorflow.keras.preprocessing.sequence import pad_sequences\n",
    "from tensorflow.keras.models import Sequential\n",
    "from tensorflow.keras.layers import Conv1D, GlobalMaxPooling1D, Embedding, Dropout, Dense\n",
    "from sklearn.model_selection import train_test_split\n",
    "\n",
    "# Load data\n",
    "df = pd.read_csv(r'E:\\Github repos\\Phishing-url-detection\\phiusiil+phishing+url+dataset\\PhiUSIIL_Phishing_URL_Dataset.csv')\n",
    "urls = df['URL'].astype(str)\n",
    "labels = df['label'].astype(int)  # Make sure the label column exists\n",
    "\n",
    "# Tokenization\n",
    "tokenizer = Tokenizer(char_level=True)  # character-level tokenization\n",
    "tokenizer.fit_on_texts(urls)\n",
    "sequences = tokenizer.texts_to_sequences(urls)\n",
    "X_seq = pad_sequences(sequences, maxlen=200)  # truncate/pad URLs\n",
    "\n",
    "# Split\n",
    "X_train_seq, X_test_seq, y_train, y_test = train_test_split(X_seq, labels, test_size=0.2, random_state=42)\n",
    "\n",
    "# Model\n",
    "model_cnn = Sequential([\n",
    "    Embedding(input_dim=len(tokenizer.word_index)+1, output_dim=32, input_length=200),\n",
    "    Conv1D(64, 5, activation='relu'),\n",
    "    GlobalMaxPooling1D(),\n",
    "    Dense(32, activation='relu'),\n",
    "    Dropout(0.3),\n",
    "    Dense(1, activation='sigmoid')\n",
    "])\n",
    "model_cnn.compile(optimizer='adam', loss='binary_crossentropy', metrics=['accuracy'])\n",
    "\n",
    "# Train\n",
    "model_cnn.fit(X_train_seq, y_train, epochs=10, batch_size=32, validation_data=(X_test_seq, y_test))\n",
    "\n",
    "# Evaluate\n",
    "loss, acc = model_cnn.evaluate(X_test_seq, y_test)\n",
    "print(f'CNN Accuracy: {acc*100:.2f}%')\n",
    "\n"
   ]
  },
  {
   "cell_type": "markdown",
   "metadata": {},
   "source": [
    "# Transformer-Based Model "
   ]
  },
  {
   "cell_type": "code",
   "execution_count": 2,
   "metadata": {},
   "outputs": [],
   "source": [
    "# Load data\n",
    "df = pd.read_csv(r'E:\\Github repos\\Phishing-url-detection\\phiusiil+phishing+url+dataset\\PhiUSIIL_Phishing_URL_Dataset.csv')\n",
    "urls = df['URL'].astype(str)\n",
    "labels = df['label'].astype(int)  # Make sure the label column exists\n"
   ]
  },
  {
   "cell_type": "code",
   "execution_count": 3,
   "metadata": {},
   "outputs": [
    {
     "name": "stdout",
     "output_type": "stream",
     "text": [
      "WARNING:tensorflow:From e:\\anaconda3\\Lib\\site-packages\\tf_keras\\src\\losses.py:2976: The name tf.losses.sparse_softmax_cross_entropy is deprecated. Please use tf.compat.v1.losses.sparse_softmax_cross_entropy instead.\n",
      "\n",
      "WARNING:tensorflow:From e:\\anaconda3\\Lib\\site-packages\\tf_keras\\src\\backend.py:873: The name tf.get_default_graph is deprecated. Please use tf.compat.v1.get_default_graph instead.\n",
      "\n"
     ]
    },
    {
     "name": "stderr",
     "output_type": "stream",
     "text": [
      "Some weights of the PyTorch model were not used when initializing the TF 2.0 model TFBertModel: ['cls.predictions.transform.LayerNorm.bias', 'cls.predictions.bias', 'cls.seq_relationship.weight', 'cls.seq_relationship.bias', 'cls.predictions.transform.dense.bias', 'cls.predictions.transform.dense.weight', 'cls.predictions.transform.LayerNorm.weight']\n",
      "- This IS expected if you are initializing TFBertModel from a PyTorch model trained on another task or with another architecture (e.g. initializing a TFBertForSequenceClassification model from a BertForPreTraining model).\n",
      "- This IS NOT expected if you are initializing TFBertModel from a PyTorch model that you expect to be exactly identical (e.g. initializing a TFBertForSequenceClassification model from a BertForSequenceClassification model).\n",
      "All the weights of TFBertModel were initialized from the PyTorch model.\n",
      "If your task is similar to the task the model of the checkpoint was trained on, you can already use TFBertModel for predictions without further training.\n"
     ]
    }
   ],
   "source": [
    "from transformers import TFBertModel\n",
    "from tensorflow.keras.layers import Input, Dense, GlobalAveragePooling1D, Lambda\n",
    "from tensorflow.keras.models import Model\n",
    "import tensorflow as tf \n",
    "\n",
    "# Load pretrained BERT model\n",
    "bert_model = TFBertModel.from_pretrained('bert-base-uncased')\n",
    "\n",
    "# Define Inputs\n",
    "input_ids = Input(shape=(50,), dtype=tf.int32, name='input_ids')\n",
    "attention_mask = Input(shape=(50,), dtype=tf.int32, name='attention_mask')\n",
    "\n",
    "# Wrap BERT inside a Lambda with output_shape explicitly defined\n",
    "def bert_layer(inputs):\n",
    "    input_ids, attention_mask = inputs\n",
    "    outputs = bert_model(input_ids=input_ids, attention_mask=attention_mask)\n",
    "    return outputs.last_hidden_state  # shape: (None, 50, 768)\n",
    "\n",
    "bert_output = Lambda(\n",
    "    bert_layer,\n",
    "    output_shape=(50, 768),  # Specify expected output shape\n",
    "    name=\"bert_embedding\"\n",
    ")([input_ids, attention_mask])\n",
    "\n",
    "# Classifier Head\n",
    "x = GlobalAveragePooling1D()(bert_output)\n",
    "x = Dense(64, activation='relu')(x)\n",
    "x = Dense(32, activation='relu')(x)\n",
    "output = Dense(1, activation='sigmoid')(x)\n",
    "\n",
    "# Compile Model\n",
    "model = Model(inputs=[input_ids, attention_mask], outputs=output)\n",
    "model.compile(optimizer='adam', loss='binary_crossentropy', metrics=['accuracy'])\n"
   ]
  },
  {
   "cell_type": "code",
   "execution_count": 4,
   "metadata": {},
   "outputs": [],
   "source": [
    "from transformers import BertTokenizer\n",
    "\n",
    "# Load tokenizer\n",
    "tokenizer = BertTokenizer.from_pretrained('bert-base-uncased')\n",
    "\n",
    "# Suppose you have your data in these two variables:\n",
    "# texts = list of strings (URLs or sentences)\n",
    "# labels = binary labels (0 or 1)\n",
    "from sklearn.model_selection import train_test_split\n",
    "\n",
    "X_train, X_test, y_train, y_test = train_test_split(\n",
    "    urls, labels, test_size=0.2, random_state=42\n",
    ")\n",
    "\n",
    "# Tokenize your train/test text data\n",
    "train_tokens = tokenizer(\n",
    "    list(X_train),                  # Make sure X_train is a list/Series of strings\n",
    "    max_length=50,\n",
    "    padding='max_length',\n",
    "    truncation=True,\n",
    "    return_tensors='tf'\n",
    ")\n",
    "\n",
    "test_tokens = tokenizer(\n",
    "    list(X_test),\n",
    "    max_length=50,\n",
    "    padding='max_length',\n",
    "    truncation=True,\n",
    "    return_tensors='tf'\n",
    ")\n"
   ]
  },
  {
   "cell_type": "code",
   "execution_count": 5,
   "metadata": {},
   "outputs": [
    {
     "name": "stdout",
     "output_type": "stream",
     "text": [
      "Epoch 1/3\n",
      "\u001b[1m11790/11790\u001b[0m \u001b[32m━━━━━━━━━━━━━━━━━━━━\u001b[0m\u001b[37m\u001b[0m \u001b[1m2506s\u001b[0m 212ms/step - accuracy: 0.9874 - loss: 0.0414 - val_accuracy: 0.9977 - val_loss: 0.0125\n",
      "Epoch 2/3\n",
      "\u001b[1m11790/11790\u001b[0m \u001b[32m━━━━━━━━━━━━━━━━━━━━\u001b[0m\u001b[37m\u001b[0m \u001b[1m2534s\u001b[0m 215ms/step - accuracy: 0.9967 - loss: 0.0161 - val_accuracy: 0.9979 - val_loss: 0.0129\n",
      "Epoch 3/3\n",
      "\u001b[1m11790/11790\u001b[0m \u001b[32m━━━━━━━━━━━━━━━━━━━━\u001b[0m\u001b[37m\u001b[0m \u001b[1m2597s\u001b[0m 220ms/step - accuracy: 0.9974 - loss: 0.0133 - val_accuracy: 0.9980 - val_loss: 0.0120\n"
     ]
    },
    {
     "data": {
      "text/plain": [
       "<keras.src.callbacks.history.History at 0x25b315ded80>"
      ]
     },
     "execution_count": 5,
     "metadata": {},
     "output_type": "execute_result"
    }
   ],
   "source": [
    "model.fit(\n",
    "    x={\n",
    "        'input_ids': train_tokens['input_ids'],\n",
    "        'attention_mask': train_tokens['attention_mask']\n",
    "    },\n",
    "    y=y_train,\n",
    "    validation_data=(\n",
    "        {\n",
    "            'input_ids': test_tokens['input_ids'],\n",
    "            'attention_mask': test_tokens['attention_mask']\n",
    "        },\n",
    "        y_test\n",
    "    ),\n",
    "    epochs=3,\n",
    "    batch_size=16\n",
    ")\n"
   ]
  },
  {
   "cell_type": "code",
   "execution_count": 6,
   "metadata": {},
   "outputs": [
    {
     "name": "stdout",
     "output_type": "stream",
     "text": [
      "\u001b[1m1474/1474\u001b[0m \u001b[32m━━━━━━━━━━━━━━━━━━━━\u001b[0m\u001b[37m\u001b[0m \u001b[1m477s\u001b[0m 324ms/step - accuracy: 0.9977 - loss: 0.0130\n",
      "\n",
      "✅ Test Accuracy: 99.80%\n"
     ]
    }
   ],
   "source": [
    "loss, accuracy = model.evaluate(\n",
    "    x={\n",
    "        'input_ids': test_tokens['input_ids'],\n",
    "        'attention_mask': test_tokens['attention_mask']\n",
    "    },\n",
    "    y=y_test\n",
    ")\n",
    "\n",
    "print(f'\\n✅ Test Accuracy: {accuracy*100:.2f}%')"
   ]
  },
  {
   "cell_type": "code",
   "execution_count": null,
   "metadata": {},
   "outputs": [],
   "source": []
  }
 ],
 "metadata": {
  "kernelspec": {
   "display_name": "base",
   "language": "python",
   "name": "python3"
  },
  "language_info": {
   "codemirror_mode": {
    "name": "ipython",
    "version": 3
   },
   "file_extension": ".py",
   "mimetype": "text/x-python",
   "name": "python",
   "nbconvert_exporter": "python",
   "pygments_lexer": "ipython3",
   "version": "3.11.7"
  }
 },
 "nbformat": 4,
 "nbformat_minor": 2
}
