{
 "cells": [
  {
   "cell_type": "markdown",
   "metadata": {},
   "source": [
    "# Hybrid model : Fuzzy CMeans and Neural Network"
   ]
  },
  {
   "cell_type": "code",
   "execution_count": 1,
   "metadata": {},
   "outputs": [
    {
     "data": {
      "text/html": [
       "<div>\n",
       "<style scoped>\n",
       "    .dataframe tbody tr th:only-of-type {\n",
       "        vertical-align: middle;\n",
       "    }\n",
       "\n",
       "    .dataframe tbody tr th {\n",
       "        vertical-align: top;\n",
       "    }\n",
       "\n",
       "    .dataframe thead th {\n",
       "        text-align: right;\n",
       "    }\n",
       "</style>\n",
       "<table border=\"1\" class=\"dataframe\">\n",
       "  <thead>\n",
       "    <tr style=\"text-align: right;\">\n",
       "      <th></th>\n",
       "      <th>Type</th>\n",
       "      <th>url_length</th>\n",
       "      <th>number_of_dots_in_url</th>\n",
       "      <th>having_repeated_digits_in_url</th>\n",
       "      <th>number_of_digits_in_url</th>\n",
       "      <th>number_of_special_char_in_url</th>\n",
       "      <th>number_of_hyphens_in_url</th>\n",
       "      <th>number_of_underline_in_url</th>\n",
       "      <th>number_of_slash_in_url</th>\n",
       "      <th>number_of_questionmark_in_url</th>\n",
       "      <th>...</th>\n",
       "      <th>having_digits_in_subdomain</th>\n",
       "      <th>number_of_digits_in_subdomain</th>\n",
       "      <th>having_repeated_digits_in_subdomain</th>\n",
       "      <th>having_path</th>\n",
       "      <th>path_length</th>\n",
       "      <th>having_query</th>\n",
       "      <th>having_fragment</th>\n",
       "      <th>having_anchor</th>\n",
       "      <th>entropy_of_url</th>\n",
       "      <th>entropy_of_domain</th>\n",
       "    </tr>\n",
       "  </thead>\n",
       "  <tbody>\n",
       "    <tr>\n",
       "      <th>0</th>\n",
       "      <td>0</td>\n",
       "      <td>37</td>\n",
       "      <td>2</td>\n",
       "      <td>0</td>\n",
       "      <td>0</td>\n",
       "      <td>8</td>\n",
       "      <td>0</td>\n",
       "      <td>0</td>\n",
       "      <td>5</td>\n",
       "      <td>0</td>\n",
       "      <td>...</td>\n",
       "      <td>0</td>\n",
       "      <td>0</td>\n",
       "      <td>1</td>\n",
       "      <td>0</td>\n",
       "      <td>3</td>\n",
       "      <td>0</td>\n",
       "      <td>0</td>\n",
       "      <td>0</td>\n",
       "      <td>4.010412</td>\n",
       "      <td>2.751629</td>\n",
       "    </tr>\n",
       "    <tr>\n",
       "      <th>1</th>\n",
       "      <td>1</td>\n",
       "      <td>70</td>\n",
       "      <td>5</td>\n",
       "      <td>0</td>\n",
       "      <td>0</td>\n",
       "      <td>12</td>\n",
       "      <td>0</td>\n",
       "      <td>0</td>\n",
       "      <td>6</td>\n",
       "      <td>0</td>\n",
       "      <td>...</td>\n",
       "      <td>0</td>\n",
       "      <td>0</td>\n",
       "      <td>1</td>\n",
       "      <td>0</td>\n",
       "      <td>4</td>\n",
       "      <td>0</td>\n",
       "      <td>0</td>\n",
       "      <td>0</td>\n",
       "      <td>4.089470</td>\n",
       "      <td>3.532573</td>\n",
       "    </tr>\n",
       "    <tr>\n",
       "      <th>2</th>\n",
       "      <td>0</td>\n",
       "      <td>42</td>\n",
       "      <td>2</td>\n",
       "      <td>0</td>\n",
       "      <td>6</td>\n",
       "      <td>8</td>\n",
       "      <td>0</td>\n",
       "      <td>0</td>\n",
       "      <td>3</td>\n",
       "      <td>1</td>\n",
       "      <td>...</td>\n",
       "      <td>0</td>\n",
       "      <td>0</td>\n",
       "      <td>1</td>\n",
       "      <td>0</td>\n",
       "      <td>1</td>\n",
       "      <td>1</td>\n",
       "      <td>0</td>\n",
       "      <td>0</td>\n",
       "      <td>4.386016</td>\n",
       "      <td>3.344698</td>\n",
       "    </tr>\n",
       "    <tr>\n",
       "      <th>3</th>\n",
       "      <td>0</td>\n",
       "      <td>46</td>\n",
       "      <td>2</td>\n",
       "      <td>0</td>\n",
       "      <td>0</td>\n",
       "      <td>7</td>\n",
       "      <td>0</td>\n",
       "      <td>0</td>\n",
       "      <td>4</td>\n",
       "      <td>0</td>\n",
       "      <td>...</td>\n",
       "      <td>0</td>\n",
       "      <td>0</td>\n",
       "      <td>1</td>\n",
       "      <td>0</td>\n",
       "      <td>2</td>\n",
       "      <td>0</td>\n",
       "      <td>0</td>\n",
       "      <td>0</td>\n",
       "      <td>4.221947</td>\n",
       "      <td>3.189898</td>\n",
       "    </tr>\n",
       "    <tr>\n",
       "      <th>4</th>\n",
       "      <td>0</td>\n",
       "      <td>51</td>\n",
       "      <td>3</td>\n",
       "      <td>0</td>\n",
       "      <td>0</td>\n",
       "      <td>9</td>\n",
       "      <td>0</td>\n",
       "      <td>0</td>\n",
       "      <td>5</td>\n",
       "      <td>0</td>\n",
       "      <td>...</td>\n",
       "      <td>0</td>\n",
       "      <td>0</td>\n",
       "      <td>1</td>\n",
       "      <td>0</td>\n",
       "      <td>3</td>\n",
       "      <td>0</td>\n",
       "      <td>0</td>\n",
       "      <td>0</td>\n",
       "      <td>4.103538</td>\n",
       "      <td>2.952820</td>\n",
       "    </tr>\n",
       "  </tbody>\n",
       "</table>\n",
       "<p>5 rows × 42 columns</p>\n",
       "</div>"
      ],
      "text/plain": [
       "   Type  url_length  number_of_dots_in_url  having_repeated_digits_in_url  \\\n",
       "0     0          37                      2                              0   \n",
       "1     1          70                      5                              0   \n",
       "2     0          42                      2                              0   \n",
       "3     0          46                      2                              0   \n",
       "4     0          51                      3                              0   \n",
       "\n",
       "   number_of_digits_in_url  number_of_special_char_in_url  \\\n",
       "0                        0                              8   \n",
       "1                        0                             12   \n",
       "2                        6                              8   \n",
       "3                        0                              7   \n",
       "4                        0                              9   \n",
       "\n",
       "   number_of_hyphens_in_url  number_of_underline_in_url  \\\n",
       "0                         0                           0   \n",
       "1                         0                           0   \n",
       "2                         0                           0   \n",
       "3                         0                           0   \n",
       "4                         0                           0   \n",
       "\n",
       "   number_of_slash_in_url  number_of_questionmark_in_url  ...  \\\n",
       "0                       5                              0  ...   \n",
       "1                       6                              0  ...   \n",
       "2                       3                              1  ...   \n",
       "3                       4                              0  ...   \n",
       "4                       5                              0  ...   \n",
       "\n",
       "   having_digits_in_subdomain  number_of_digits_in_subdomain  \\\n",
       "0                           0                              0   \n",
       "1                           0                              0   \n",
       "2                           0                              0   \n",
       "3                           0                              0   \n",
       "4                           0                              0   \n",
       "\n",
       "   having_repeated_digits_in_subdomain  having_path  path_length  \\\n",
       "0                                    1            0            3   \n",
       "1                                    1            0            4   \n",
       "2                                    1            0            1   \n",
       "3                                    1            0            2   \n",
       "4                                    1            0            3   \n",
       "\n",
       "   having_query  having_fragment  having_anchor  entropy_of_url  \\\n",
       "0             0                0              0        4.010412   \n",
       "1             0                0              0        4.089470   \n",
       "2             1                0              0        4.386016   \n",
       "3             0                0              0        4.221947   \n",
       "4             0                0              0        4.103538   \n",
       "\n",
       "   entropy_of_domain  \n",
       "0           2.751629  \n",
       "1           3.532573  \n",
       "2           3.344698  \n",
       "3           3.189898  \n",
       "4           2.952820  \n",
       "\n",
       "[5 rows x 42 columns]"
      ]
     },
     "execution_count": 1,
     "metadata": {},
     "output_type": "execute_result"
    }
   ],
   "source": [
    "import numpy as np \n",
    "import pandas as pd \n",
    "df = pd.read_csv(r\"C:\\Users\\Sejal Hanmante\\Downloads\\Phishing Detection Dataset.zip\")\n",
    "df.head()\n"
   ]
  },
  {
   "cell_type": "code",
   "execution_count": 1,
   "metadata": {},
   "outputs": [
    {
     "data": {
      "text/html": [
       "<div>\n",
       "<style scoped>\n",
       "    .dataframe tbody tr th:only-of-type {\n",
       "        vertical-align: middle;\n",
       "    }\n",
       "\n",
       "    .dataframe tbody tr th {\n",
       "        vertical-align: top;\n",
       "    }\n",
       "\n",
       "    .dataframe thead th {\n",
       "        text-align: right;\n",
       "    }\n",
       "</style>\n",
       "<table border=\"1\" class=\"dataframe\">\n",
       "  <thead>\n",
       "    <tr style=\"text-align: right;\">\n",
       "      <th></th>\n",
       "      <th>PC1</th>\n",
       "      <th>PC2</th>\n",
       "      <th>PC3</th>\n",
       "      <th>PC4</th>\n",
       "      <th>PC5</th>\n",
       "      <th>PC6</th>\n",
       "      <th>PC7</th>\n",
       "      <th>PC8</th>\n",
       "      <th>PC9</th>\n",
       "      <th>PC10</th>\n",
       "      <th>...</th>\n",
       "      <th>PC33</th>\n",
       "      <th>PC34</th>\n",
       "      <th>PC35</th>\n",
       "      <th>PC36</th>\n",
       "      <th>PC37</th>\n",
       "      <th>PC38</th>\n",
       "      <th>PC39</th>\n",
       "      <th>PC40</th>\n",
       "      <th>PC41</th>\n",
       "      <th>PC42</th>\n",
       "    </tr>\n",
       "  </thead>\n",
       "  <tbody>\n",
       "    <tr>\n",
       "      <th>0</th>\n",
       "      <td>1.355103</td>\n",
       "      <td>0.374723</td>\n",
       "      <td>-0.847538</td>\n",
       "      <td>1.444457</td>\n",
       "      <td>-0.269435</td>\n",
       "      <td>0.582533</td>\n",
       "      <td>-0.518248</td>\n",
       "      <td>-0.094391</td>\n",
       "      <td>-0.305998</td>\n",
       "      <td>-0.902024</td>\n",
       "      <td>...</td>\n",
       "      <td>-0.148379</td>\n",
       "      <td>-0.215384</td>\n",
       "      <td>-0.147475</td>\n",
       "      <td>0.886899</td>\n",
       "      <td>0.237549</td>\n",
       "      <td>-0.741902</td>\n",
       "      <td>0.036549</td>\n",
       "      <td>-0.542012</td>\n",
       "      <td>-0.363727</td>\n",
       "      <td>0.050966</td>\n",
       "    </tr>\n",
       "    <tr>\n",
       "      <th>1</th>\n",
       "      <td>0.819898</td>\n",
       "      <td>-0.006518</td>\n",
       "      <td>-0.782782</td>\n",
       "      <td>-2.364139</td>\n",
       "      <td>-0.849924</td>\n",
       "      <td>0.103269</td>\n",
       "      <td>-0.820576</td>\n",
       "      <td>0.760786</td>\n",
       "      <td>0.270542</td>\n",
       "      <td>0.064134</td>\n",
       "      <td>...</td>\n",
       "      <td>-0.098172</td>\n",
       "      <td>0.407620</td>\n",
       "      <td>0.119940</td>\n",
       "      <td>0.137893</td>\n",
       "      <td>-0.054673</td>\n",
       "      <td>0.788291</td>\n",
       "      <td>-0.621070</td>\n",
       "      <td>-0.541850</td>\n",
       "      <td>-0.126581</td>\n",
       "      <td>0.022341</td>\n",
       "    </tr>\n",
       "    <tr>\n",
       "      <th>2</th>\n",
       "      <td>1.217563</td>\n",
       "      <td>0.206911</td>\n",
       "      <td>-0.533419</td>\n",
       "      <td>-0.908161</td>\n",
       "      <td>-1.798203</td>\n",
       "      <td>0.532191</td>\n",
       "      <td>-0.190889</td>\n",
       "      <td>1.048848</td>\n",
       "      <td>-0.496761</td>\n",
       "      <td>-0.296198</td>\n",
       "      <td>...</td>\n",
       "      <td>0.207842</td>\n",
       "      <td>0.083817</td>\n",
       "      <td>0.129444</td>\n",
       "      <td>0.752606</td>\n",
       "      <td>-0.086619</td>\n",
       "      <td>-1.414484</td>\n",
       "      <td>0.115978</td>\n",
       "      <td>0.126460</td>\n",
       "      <td>-0.098412</td>\n",
       "      <td>0.042883</td>\n",
       "    </tr>\n",
       "    <tr>\n",
       "      <th>3</th>\n",
       "      <td>2.460119</td>\n",
       "      <td>0.816660</td>\n",
       "      <td>-1.165692</td>\n",
       "      <td>0.991246</td>\n",
       "      <td>0.426025</td>\n",
       "      <td>0.335449</td>\n",
       "      <td>-0.304665</td>\n",
       "      <td>-0.919650</td>\n",
       "      <td>-0.495699</td>\n",
       "      <td>-1.303336</td>\n",
       "      <td>...</td>\n",
       "      <td>-0.220583</td>\n",
       "      <td>0.205387</td>\n",
       "      <td>-0.234712</td>\n",
       "      <td>0.234143</td>\n",
       "      <td>0.039174</td>\n",
       "      <td>0.714097</td>\n",
       "      <td>0.018968</td>\n",
       "      <td>-0.273400</td>\n",
       "      <td>-0.234085</td>\n",
       "      <td>0.047169</td>\n",
       "    </tr>\n",
       "    <tr>\n",
       "      <th>4</th>\n",
       "      <td>3.794874</td>\n",
       "      <td>1.397170</td>\n",
       "      <td>-1.184590</td>\n",
       "      <td>0.924645</td>\n",
       "      <td>2.939978</td>\n",
       "      <td>-0.854234</td>\n",
       "      <td>3.340179</td>\n",
       "      <td>2.761792</td>\n",
       "      <td>0.205402</td>\n",
       "      <td>0.789918</td>\n",
       "      <td>...</td>\n",
       "      <td>-0.575246</td>\n",
       "      <td>0.570667</td>\n",
       "      <td>0.391723</td>\n",
       "      <td>-0.687776</td>\n",
       "      <td>-0.675614</td>\n",
       "      <td>-0.519086</td>\n",
       "      <td>-0.298555</td>\n",
       "      <td>0.460071</td>\n",
       "      <td>0.043517</td>\n",
       "      <td>0.014826</td>\n",
       "    </tr>\n",
       "  </tbody>\n",
       "</table>\n",
       "<p>5 rows × 42 columns</p>\n",
       "</div>"
      ],
      "text/plain": [
       "        PC1       PC2       PC3       PC4       PC5       PC6       PC7  \\\n",
       "0  1.355103  0.374723 -0.847538  1.444457 -0.269435  0.582533 -0.518248   \n",
       "1  0.819898 -0.006518 -0.782782 -2.364139 -0.849924  0.103269 -0.820576   \n",
       "2  1.217563  0.206911 -0.533419 -0.908161 -1.798203  0.532191 -0.190889   \n",
       "3  2.460119  0.816660 -1.165692  0.991246  0.426025  0.335449 -0.304665   \n",
       "4  3.794874  1.397170 -1.184590  0.924645  2.939978 -0.854234  3.340179   \n",
       "\n",
       "        PC8       PC9      PC10  ...      PC33      PC34      PC35      PC36  \\\n",
       "0 -0.094391 -0.305998 -0.902024  ... -0.148379 -0.215384 -0.147475  0.886899   \n",
       "1  0.760786  0.270542  0.064134  ... -0.098172  0.407620  0.119940  0.137893   \n",
       "2  1.048848 -0.496761 -0.296198  ...  0.207842  0.083817  0.129444  0.752606   \n",
       "3 -0.919650 -0.495699 -1.303336  ... -0.220583  0.205387 -0.234712  0.234143   \n",
       "4  2.761792  0.205402  0.789918  ... -0.575246  0.570667  0.391723 -0.687776   \n",
       "\n",
       "       PC37      PC38      PC39      PC40      PC41      PC42  \n",
       "0  0.237549 -0.741902  0.036549 -0.542012 -0.363727  0.050966  \n",
       "1 -0.054673  0.788291 -0.621070 -0.541850 -0.126581  0.022341  \n",
       "2 -0.086619 -1.414484  0.115978  0.126460 -0.098412  0.042883  \n",
       "3  0.039174  0.714097  0.018968 -0.273400 -0.234085  0.047169  \n",
       "4 -0.675614 -0.519086 -0.298555  0.460071  0.043517  0.014826  \n",
       "\n",
       "[5 rows x 42 columns]"
      ]
     },
     "execution_count": 1,
     "metadata": {},
     "output_type": "execute_result"
    }
   ],
   "source": [
    "import numpy as np \n",
    "import pandas as pd \n",
    "pca_data=pd.read_csv(r\"C:\\Users\\DELL\\Documents\\GitHub\\Phishing-url-detection\\pca_data.csv\",index_col=[0])\n",
    "pca_data.head()"
   ]
  },
  {
   "cell_type": "code",
   "execution_count": 4,
   "metadata": {},
   "outputs": [
    {
     "name": "stdout",
     "output_type": "stream",
     "text": [
      "Collecting scikit-fuzzy\n",
      "  Downloading scikit_fuzzy-0.5.0-py2.py3-none-any.whl.metadata (2.6 kB)\n",
      "Downloading scikit_fuzzy-0.5.0-py2.py3-none-any.whl (920 kB)\n",
      "   ---------------------------------------- 0.0/920.8 kB ? eta -:--:--\n",
      "   ---------------------------------------- 10.2/920.8 kB ? eta -:--:--\n",
      "   - ------------------------------------- 30.7/920.8 kB 435.7 kB/s eta 0:00:03\n",
      "   --- ----------------------------------- 92.2/920.8 kB 871.5 kB/s eta 0:00:01\n",
      "   ----------- ---------------------------- 256.0/920.8 kB 2.0 MB/s eta 0:00:01\n",
      "   ------------------------- -------------- 583.7/920.8 kB 3.1 MB/s eta 0:00:01\n",
      "   ------------------------------------- -- 860.2/920.8 kB 3.6 MB/s eta 0:00:01\n",
      "   ---------------------------------------- 920.8/920.8 kB 3.4 MB/s eta 0:00:00\n",
      "Installing collected packages: scikit-fuzzy\n",
      "Successfully installed scikit-fuzzy-0.5.0\n"
     ]
    }
   ],
   "source": [
    "!pip install scikit-fuzzy\n"
   ]
  },
  {
   "cell_type": "code",
   "execution_count": 5,
   "metadata": {},
   "outputs": [],
   "source": [
    "import skfuzzy as fuzz\n",
    "import numpy as np\n",
    "\n",
    "# Assuming your dataset is loaded into X (features of the URLs)\n",
    "\n",
    "\n",
    "# Set the number of clusters (e.g., 2: phishing, benign)\n",
    "n_clusters = 2\n",
    "\n",
    "# Fuzzy C-means clustering\n",
    "cntr, u, _, _, _, _, _ = fuzz.cmeans(pca_data.T, c=n_clusters, m=2, error=0.005, maxiter=1000)\n",
    "\n",
    "# u gives the membership values of each data point in each cluster\n",
    "# For each data point, you can assign membership values to your dataset\n"
   ]
  },
  {
   "cell_type": "code",
   "execution_count": 7,
   "metadata": {},
   "outputs": [],
   "source": [
    "labels = pd.read_csv(r\"C:\\Users\\DELL\\Documents\\GitHub\\Phishing-url-detection\\output_column.csv\")\n",
    "labels = labels['label'].values"
   ]
  },
  {
   "cell_type": "code",
   "execution_count": 8,
   "metadata": {},
   "outputs": [
    {
     "name": "stderr",
     "output_type": "stream",
     "text": [
      "c:\\Users\\DELL\\anaconda3\\Lib\\site-packages\\keras\\src\\layers\\core\\dense.py:87: UserWarning: Do not pass an `input_shape`/`input_dim` argument to a layer. When using Sequential models, prefer using an `Input(shape)` object as the first layer in the model instead.\n",
      "  super().__init__(activity_regularizer=activity_regularizer, **kwargs)\n"
     ]
    },
    {
     "name": "stdout",
     "output_type": "stream",
     "text": [
      "Epoch 1/10\n",
      "\u001b[1m5895/5895\u001b[0m \u001b[32m━━━━━━━━━━━━━━━━━━━━\u001b[0m\u001b[37m\u001b[0m \u001b[1m17s\u001b[0m 3ms/step - accuracy: 0.9914 - loss: 0.0327 - val_accuracy: 0.9999 - val_loss: 3.2517e-04\n",
      "Epoch 2/10\n",
      "\u001b[1m5895/5895\u001b[0m \u001b[32m━━━━━━━━━━━━━━━━━━━━\u001b[0m\u001b[37m\u001b[0m \u001b[1m13s\u001b[0m 2ms/step - accuracy: 0.9999 - loss: 6.1235e-04 - val_accuracy: 1.0000 - val_loss: 1.5174e-04\n",
      "Epoch 3/10\n",
      "\u001b[1m5895/5895\u001b[0m \u001b[32m━━━━━━━━━━━━━━━━━━━━\u001b[0m\u001b[37m\u001b[0m \u001b[1m18s\u001b[0m 2ms/step - accuracy: 0.9999 - loss: 4.3713e-04 - val_accuracy: 0.9999 - val_loss: 1.3600e-04\n",
      "Epoch 4/10\n",
      "\u001b[1m5895/5895\u001b[0m \u001b[32m━━━━━━━━━━━━━━━━━━━━\u001b[0m\u001b[37m\u001b[0m \u001b[1m10s\u001b[0m 2ms/step - accuracy: 0.9999 - loss: 5.9189e-04 - val_accuracy: 1.0000 - val_loss: 2.5165e-04\n",
      "Epoch 5/10\n",
      "\u001b[1m5895/5895\u001b[0m \u001b[32m━━━━━━━━━━━━━━━━━━━━\u001b[0m\u001b[37m\u001b[0m \u001b[1m10s\u001b[0m 2ms/step - accuracy: 0.9999 - loss: 3.4378e-04 - val_accuracy: 0.9999 - val_loss: 1.6909e-04\n",
      "Epoch 6/10\n",
      "\u001b[1m5895/5895\u001b[0m \u001b[32m━━━━━━━━━━━━━━━━━━━━\u001b[0m\u001b[37m\u001b[0m \u001b[1m10s\u001b[0m 2ms/step - accuracy: 0.9999 - loss: 2.7521e-04 - val_accuracy: 0.9999 - val_loss: 2.9742e-04\n",
      "Epoch 7/10\n",
      "\u001b[1m5895/5895\u001b[0m \u001b[32m━━━━━━━━━━━━━━━━━━━━\u001b[0m\u001b[37m\u001b[0m \u001b[1m11s\u001b[0m 2ms/step - accuracy: 0.9999 - loss: 2.1361e-04 - val_accuracy: 0.9999 - val_loss: 5.3669e-04\n",
      "Epoch 8/10\n",
      "\u001b[1m5895/5895\u001b[0m \u001b[32m━━━━━━━━━━━━━━━━━━━━\u001b[0m\u001b[37m\u001b[0m \u001b[1m10s\u001b[0m 2ms/step - accuracy: 0.9999 - loss: 2.7770e-04 - val_accuracy: 0.9999 - val_loss: 2.4978e-04\n",
      "Epoch 9/10\n",
      "\u001b[1m5895/5895\u001b[0m \u001b[32m━━━━━━━━━━━━━━━━━━━━\u001b[0m\u001b[37m\u001b[0m \u001b[1m11s\u001b[0m 2ms/step - accuracy: 1.0000 - loss: 9.3964e-05 - val_accuracy: 0.9999 - val_loss: 2.9724e-04\n",
      "Epoch 10/10\n",
      "\u001b[1m5895/5895\u001b[0m \u001b[32m━━━━━━━━━━━━━━━━━━━━\u001b[0m\u001b[37m\u001b[0m \u001b[1m10s\u001b[0m 2ms/step - accuracy: 0.9999 - loss: 1.5485e-04 - val_accuracy: 1.0000 - val_loss: 3.2211e-04\n",
      "\u001b[1m1474/1474\u001b[0m \u001b[32m━━━━━━━━━━━━━━━━━━━━\u001b[0m\u001b[37m\u001b[0m \u001b[1m2s\u001b[0m 1ms/step - accuracy: 1.0000 - loss: 5.2413e-04\n",
      "Model Accuracy: 100.00%\n"
     ]
    }
   ],
   "source": [
    "from sklearn.model_selection import train_test_split\n",
    "from sklearn.preprocessing import StandardScaler\n",
    "import tensorflow as tf\n",
    "from tensorflow.keras.models import Sequential\n",
    "from tensorflow.keras.layers import Dense\n",
    "\n",
    "# Adding FCM membership values as additional features\n",
    "X_fcm = np.hstack((pca_data, u.T))  # Concatenate original features and fuzzy membership values\n",
    "\n",
    "# Train-test split\n",
    "X_train, X_test, y_train, y_test = train_test_split(X_fcm, labels, test_size=0.2, random_state=42)\n",
    "\n",
    "# Scaling the features (important for NN performance)\n",
    "scaler = StandardScaler()\n",
    "X_train = scaler.fit_transform(X_train)\n",
    "X_test = scaler.transform(X_test)\n",
    "\n",
    "# Build a simple feed-forward neural network\n",
    "model = Sequential()\n",
    "model.add(Dense(64, activation='relu', input_dim=X_train.shape[1]))\n",
    "model.add(Dense(32, activation='relu'))\n",
    "model.add(Dense(1, activation='sigmoid'))  # Output layer for binary classification (phishing or benign)\n",
    "\n",
    "# Compile the model\n",
    "model.compile(optimizer='adam', loss='binary_crossentropy', metrics=['accuracy'])\n",
    "\n",
    "# Train the model\n",
    "model.fit(X_train, y_train, epochs=10, batch_size=32, validation_data=(X_test, y_test))\n",
    "\n",
    "# Evaluate the model\n",
    "loss, accuracy = model.evaluate(X_test, y_test)\n",
    "print(f'Model Accuracy: {accuracy*100:.2f}%')\n"
   ]
  },
  {
   "cell_type": "code",
   "execution_count": 7,
   "metadata": {},
   "outputs": [
    {
     "data": {
      "image/png": "[encoded data removed]",
      "text/plain": [
       "<Figure size 800x600 with 2 Axes>"
      ]
     },
     "metadata": {},
     "output_type": "display_data"
    }
   ],
   "source": [
    "import numpy as np\n",
    "import matplotlib.pyplot as plt\n",
    "from sklearn.decomposition import PCA\n",
    "\n",
    "# Reduce dimensions using PCA (for visualization)\n",
    "pca = PCA(n_components=2)\n",
    "X_pca = pca.fit_transform(X_fcm)  # X_fcm contains both PCA features & FCM memberships\n",
    "\n",
    "# Get cluster memberships from FCM\n",
    "cluster_labels = np.argmax(u, axis=0)  # Assign the cluster with highest membership\n",
    "\n",
    "# Scatter plot of clusters\n",
    "plt.figure(figsize=(8, 6))\n",
    "scatter = plt.scatter(X_pca[:, 0], X_pca[:, 1], c=cluster_labels, cmap='coolwarm', alpha=0.6)\n",
    "\n",
    "# Add legend and labels\n",
    "plt.colorbar(scatter, label=\"Cluster Membership\")\n",
    "plt.xlabel(\"PCA Component 1\")\n",
    "plt.ylabel(\"PCA Component 2\")\n",
    "plt.title(\"Hybrid Model Cluster Visualization\")\n",
    "\n",
    "plt.show()\n"
   ]
  },
  {
   "cell_type": "code",
   "execution_count": 8,
   "metadata": {},
   "outputs": [
    {
     "name": "stdout",
     "output_type": "stream",
     "text": [
      "Davies-Bouldin Index (DBI): 1.8853 (Lower is better)\n",
      "Calinski-Harabasz Score (CHS): 42453.8106 (Higher is better)\n"
     ]
    }
   ],
   "source": [
    "from sklearn.metrics import davies_bouldin_score, calinski_harabasz_score\n",
    "\n",
    "# Get cluster assignments from Fuzzy C-Means (FCM)\n",
    "cluster_labels = np.argmax(u, axis=0)  # Assigns the cluster with highest membership\n",
    "\n",
    "# Compute Davies-Bouldin Index (Lower is better)\n",
    "dbi_score = davies_bouldin_score(X_fcm, cluster_labels)\n",
    "\n",
    "# Compute Calinski-Harabasz Score (Higher is better)\n",
    "chs_score = calinski_harabasz_score(X_fcm, cluster_labels)\n",
    "\n",
    "# Print the results\n",
    "print(f\"Davies-Bouldin Index (DBI): {dbi_score:.4f} (Lower is better)\")\n",
    "print(f\"Calinski-Harabasz Score (CHS): {chs_score:.4f} (Higher is better)\")\n"
   ]
  },
  {
   "cell_type": "code",
   "execution_count": 14,
   "metadata": {},
   "outputs": [
    {
     "name": "stderr",
     "output_type": "stream",
     "text": [
      "d:\\anaconda3\\Lib\\site-packages\\keras\\src\\layers\\core\\dense.py:87: UserWarning: Do not pass an `input_shape`/`input_dim` argument to a layer. When using Sequential models, prefer using an `Input(shape)` object as the first layer in the model instead.\n",
      "  super().__init__(activity_regularizer=activity_regularizer, **kwargs)\n"
     ]
    },
    {
     "name": "stdout",
     "output_type": "stream",
     "text": [
      "\u001b[1m1474/1474\u001b[0m \u001b[32m━━━━━━━━━━━━━━━━━━━━\u001b[0m\u001b[37m\u001b[0m \u001b[1m3s\u001b[0m 2ms/step\n"
     ]
    },
    {
     "name": "stderr",
     "output_type": "stream",
     "text": [
      "d:\\anaconda3\\Lib\\site-packages\\keras\\src\\layers\\core\\dense.py:87: UserWarning: Do not pass an `input_shape`/`input_dim` argument to a layer. When using Sequential models, prefer using an `Input(shape)` object as the first layer in the model instead.\n",
      "  super().__init__(activity_regularizer=activity_regularizer, **kwargs)\n"
     ]
    },
    {
     "name": "stdout",
     "output_type": "stream",
     "text": [
      "\u001b[1m1474/1474\u001b[0m \u001b[32m━━━━━━━━━━━━━━━━━━━━\u001b[0m\u001b[37m\u001b[0m \u001b[1m2s\u001b[0m 1ms/step\n"
     ]
    },
    {
     "name": "stderr",
     "output_type": "stream",
     "text": [
      "d:\\anaconda3\\Lib\\site-packages\\keras\\src\\layers\\core\\dense.py:87: UserWarning: Do not pass an `input_shape`/`input_dim` argument to a layer. When using Sequential models, prefer using an `Input(shape)` object as the first layer in the model instead.\n",
      "  super().__init__(activity_regularizer=activity_regularizer, **kwargs)\n"
     ]
    },
    {
     "name": "stdout",
     "output_type": "stream",
     "text": [
      "\u001b[1m1474/1474\u001b[0m \u001b[32m━━━━━━━━━━━━━━━━━━━━\u001b[0m\u001b[37m\u001b[0m \u001b[1m2s\u001b[0m 1ms/step\n"
     ]
    },
    {
     "name": "stderr",
     "output_type": "stream",
     "text": [
      "d:\\anaconda3\\Lib\\site-packages\\keras\\src\\layers\\core\\dense.py:87: UserWarning: Do not pass an `input_shape`/`input_dim` argument to a layer. When using Sequential models, prefer using an `Input(shape)` object as the first layer in the model instead.\n",
      "  super().__init__(activity_regularizer=activity_regularizer, **kwargs)\n"
     ]
    },
    {
     "name": "stdout",
     "output_type": "stream",
     "text": [
      "\u001b[1m1474/1474\u001b[0m \u001b[32m━━━━━━━━━━━━━━━━━━━━\u001b[0m\u001b[37m\u001b[0m \u001b[1m2s\u001b[0m 1ms/step\n"
     ]
    },
    {
     "name": "stderr",
     "output_type": "stream",
     "text": [
      "d:\\anaconda3\\Lib\\site-packages\\keras\\src\\layers\\core\\dense.py:87: UserWarning: Do not pass an `input_shape`/`input_dim` argument to a layer. When using Sequential models, prefer using an `Input(shape)` object as the first layer in the model instead.\n",
      "  super().__init__(activity_regularizer=activity_regularizer, **kwargs)\n"
     ]
    },
    {
     "name": "stdout",
     "output_type": "stream",
     "text": [
      "\u001b[1m1474/1474\u001b[0m \u001b[32m━━━━━━━━━━━━━━━━━━━━\u001b[0m\u001b[37m\u001b[0m \u001b[1m2s\u001b[0m 1ms/step\n",
      "Average Accuracy across 5 folds: 99.99%\n"
     ]
    },
    {
     "name": "stderr",
     "output_type": "stream",
     "text": [
      "d:\\anaconda3\\Lib\\site-packages\\sklearn\\neural_network\\_multilayer_perceptron.py:691: ConvergenceWarning: Stochastic Optimizer: Maximum iterations (10) reached and the optimization hasn't converged yet.\n",
      "  warnings.warn(\n",
      "d:\\anaconda3\\Lib\\site-packages\\sklearn\\neural_network\\_multilayer_perceptron.py:691: ConvergenceWarning: Stochastic Optimizer: Maximum iterations (10) reached and the optimization hasn't converged yet.\n",
      "  warnings.warn(\n",
      "d:\\anaconda3\\Lib\\site-packages\\sklearn\\neural_network\\_multilayer_perceptron.py:691: ConvergenceWarning: Stochastic Optimizer: Maximum iterations (10) reached and the optimization hasn't converged yet.\n",
      "  warnings.warn(\n",
      "d:\\anaconda3\\Lib\\site-packages\\sklearn\\neural_network\\_multilayer_perceptron.py:691: ConvergenceWarning: Stochastic Optimizer: Maximum iterations (10) reached and the optimization hasn't converged yet.\n",
      "  warnings.warn(\n"
     ]
    },
    {
     "name": "stdout",
     "output_type": "stream",
     "text": [
      "Cross-validation scores (Accuracy) for MLPClassifier: [0.99985157 0.99989398 0.99989398 0.99989398 0.99989398]\n",
      "Average accuracy: 99.99%\n"
     ]
    },
    {
     "name": "stderr",
     "output_type": "stream",
     "text": [
      "d:\\anaconda3\\Lib\\site-packages\\sklearn\\neural_network\\_multilayer_perceptron.py:691: ConvergenceWarning: Stochastic Optimizer: Maximum iterations (10) reached and the optimization hasn't converged yet.\n",
      "  warnings.warn(\n"
     ]
    }
   ],
   "source": [
    "import numpy as np\n",
    "import skfuzzy as fuzz\n",
    "from sklearn.model_selection import KFold\n",
    "from sklearn.preprocessing import StandardScaler\n",
    "from sklearn.metrics import accuracy_score\n",
    "from tensorflow.keras.models import Sequential\n",
    "from tensorflow.keras.layers import Dense\n",
    "from sklearn.model_selection import cross_val_score\n",
    "from sklearn.neural_network import MLPClassifier  # Using scikit-learn's NN for easier cross-validation\n",
    "\n",
    "# Sample data (replace with your actual features and labels)\n",
    "\n",
    "\n",
    "# Perform Fuzzy C-Means Clustering\n",
    "n_clusters = 2\n",
    "cntr, u, _, _, _, _, _ = fuzz.cmeans(pca_data.T, c=n_clusters, m=2, error=0.005, maxiter=1000)\n",
    "\n",
    "# Add fuzzy membership values as features\n",
    "X_fcm = np.hstack((pca_data, u.T))\n",
    "\n",
    "# Define a function to build the Neural Network (can also use other models like MLP from scikit-learn)\n",
    "def build_nn():\n",
    "    model = Sequential()\n",
    "    model.add(Dense(64, activation='relu', input_dim=X_fcm.shape[1]))\n",
    "    model.add(Dense(32, activation='relu'))\n",
    "    model.add(Dense(1, activation='sigmoid'))  # Output layer for binary classification (phishing or benign)\n",
    "    model.compile(optimizer='adam', loss='binary_crossentropy', metrics=['accuracy'])\n",
    "    return model\n",
    "\n",
    "# Option 1: Using K-Fold Cross-Validation with scikit-learn's MLPClassifier (easier for cross-validation)\n",
    "kf = KFold(n_splits=5, shuffle=True, random_state=42)  # 5-fold cross-validation\n",
    "fold_accuracies = []\n",
    "\n",
    "# Iterate over each fold\n",
    "for train_idx, test_idx in kf.split(X_fcm):\n",
    "    X_train, X_test = X_fcm[train_idx], X_fcm[test_idx]\n",
    "    y_train, y_test = labels[train_idx], labels[test_idx]\n",
    "\n",
    "    # Scale features for neural network\n",
    "    scaler = StandardScaler()\n",
    "    X_train_scaled = scaler.fit_transform(X_train)\n",
    "    X_test_scaled = scaler.transform(X_test)\n",
    "\n",
    "    # Create and train the Neural Network model\n",
    "    model = build_nn()\n",
    "    model.fit(X_train_scaled, y_train, epochs=10, batch_size=32, verbose=0)\n",
    "\n",
    "    # Evaluate the model\n",
    "    y_pred = (model.predict(X_test_scaled) > 0.5).astype(int)  # Threshold at 0.5 for binary classification\n",
    "    accuracy = accuracy_score(y_test, y_pred)\n",
    "    fold_accuracies.append(accuracy)\n",
    "\n",
    "# Calculate the average accuracy across all folds\n",
    "avg_accuracy = np.mean(fold_accuracies)\n",
    "print(f'Average Accuracy across 5 folds: {avg_accuracy*100:.2f}%')\n",
    "\n",
    "# Option 2: Using cross_val_score from scikit-learn with a simpler model (MLPClassifier)\n",
    "# Use MLPClassifier for cross-validation\n",
    "mlp = MLPClassifier(hidden_layer_sizes=(64, 32), max_iter=10, solver='adam', random_state=42)\n",
    "cross_val_scores = cross_val_score(mlp, X_fcm, labels, cv=5, scoring='accuracy')\n",
    "\n",
    "print(f'Cross-validation scores (Accuracy) for MLPClassifier: {cross_val_scores}')\n",
    "print(f'Average accuracy: {np.mean(cross_val_scores)*100:.2f}%')\n"
   ]
  },
  {
   "cell_type": "markdown",
   "metadata": {},
   "source": [
    "# 1D CNN on URL Sequences"
   ]
  },
  {
   "cell_type": "code",
   "execution_count": 1,
   "metadata": {},
   "outputs": [],
   "source": [
    "import pandas as pd \n",
    "import numpy as np \n",
    "from sklearn.model_selection import train_test_split"
   ]
  },
  {
   "cell_type": "code",
   "execution_count": 6,
   "metadata": {},
   "outputs": [
    {
     "name": "stdout",
     "output_type": "stream",
     "text": [
      "Epoch 1/10\n"
     ]
    },
    {
     "name": "stderr",
     "output_type": "stream",
     "text": [
      "e:\\anaconda3\\Lib\\site-packages\\keras\\src\\layers\\core\\embedding.py:97: UserWarning: Argument `input_length` is deprecated. Just remove it.\n",
      "  warnings.warn(\n"
     ]
    },
    {
     "name": "stdout",
     "output_type": "stream",
     "text": [
      "\u001b[1m5895/5895\u001b[0m \u001b[32m━━━━━━━━━━━━━━━━━━━━\u001b[0m\u001b[37m\u001b[0m \u001b[1m12s\u001b[0m 2ms/step - accuracy: 0.9810 - loss: 0.0508 - val_accuracy: 0.9974 - val_loss: 0.0154\n",
      "Epoch 2/10\n",
      "\u001b[1m5895/5895\u001b[0m \u001b[32m━━━━━━━━━━━━━━━━━━━━\u001b[0m\u001b[37m\u001b[0m \u001b[1m12s\u001b[0m 2ms/step - accuracy: 0.9980 - loss: 0.0145 - val_accuracy: 0.9980 - val_loss: 0.0113\n",
      "Epoch 3/10\n",
      "\u001b[1m5895/5895\u001b[0m \u001b[32m━━━━━━━━━━━━━━━━━━━━\u001b[0m\u001b[37m\u001b[0m \u001b[1m14s\u001b[0m 2ms/step - accuracy: 0.9980 - loss: 0.0136 - val_accuracy: 0.9980 - val_loss: 0.0112\n",
      "Epoch 4/10\n",
      "\u001b[1m5895/5895\u001b[0m \u001b[32m━━━━━━━━━━━━━━━━━━━━\u001b[0m\u001b[37m\u001b[0m \u001b[1m14s\u001b[0m 2ms/step - accuracy: 0.9984 - loss: 0.0109 - val_accuracy: 0.9979 - val_loss: 0.0128\n",
      "Epoch 5/10\n",
      "\u001b[1m5895/5895\u001b[0m \u001b[32m━━━━━━━━━━━━━━━━━━━━\u001b[0m\u001b[37m\u001b[0m \u001b[1m14s\u001b[0m 2ms/step - accuracy: 0.9983 - loss: 0.0110 - val_accuracy: 0.9981 - val_loss: 0.0118\n",
      "Epoch 6/10\n",
      "\u001b[1m5895/5895\u001b[0m \u001b[32m━━━━━━━━━━━━━━━━━━━━\u001b[0m\u001b[37m\u001b[0m \u001b[1m14s\u001b[0m 2ms/step - accuracy: 0.9985 - loss: 0.0093 - val_accuracy: 0.9980 - val_loss: 0.0119\n",
      "Epoch 7/10\n",
      "\u001b[1m5895/5895\u001b[0m \u001b[32m━━━━━━━━━━━━━━━━━━━━\u001b[0m\u001b[37m\u001b[0m \u001b[1m14s\u001b[0m 2ms/step - accuracy: 0.9984 - loss: 0.0098 - val_accuracy: 0.9979 - val_loss: 0.0140\n",
      "Epoch 8/10\n",
      "\u001b[1m5895/5895\u001b[0m \u001b[32m━━━━━━━━━━━━━━━━━━━━\u001b[0m\u001b[37m\u001b[0m \u001b[1m14s\u001b[0m 2ms/step - accuracy: 0.9984 - loss: 0.0089 - val_accuracy: 0.9981 - val_loss: 0.0129\n",
      "Epoch 9/10\n",
      "\u001b[1m5895/5895\u001b[0m \u001b[32m━━━━━━━━━━━━━━━━━━━━\u001b[0m\u001b[37m\u001b[0m \u001b[1m14s\u001b[0m 2ms/step - accuracy: 0.9984 - loss: 0.0085 - val_accuracy: 0.9980 - val_loss: 0.0129\n",
      "Epoch 10/10\n",
      "\u001b[1m5895/5895\u001b[0m \u001b[32m━━━━━━━━━━━━━━━━━━━━\u001b[0m\u001b[37m\u001b[0m \u001b[1m14s\u001b[0m 2ms/step - accuracy: 0.9985 - loss: 0.0078 - val_accuracy: 0.9980 - val_loss: 0.0140\n",
      "\u001b[1m1474/1474\u001b[0m \u001b[32m━━━━━━━━━━━━━━━━━━━━\u001b[0m\u001b[37m\u001b[0m \u001b[1m2s\u001b[0m 1ms/step - accuracy: 0.9979 - loss: 0.0146\n",
      "CNN Accuracy: 99.80%\n"
     ]
    }
   ],
   "source": [
    "import pandas as pd\n",
    "from tensorflow.keras.preprocessing.text import Tokenizer\n",
    "from tensorflow.keras.preprocessing.sequence import pad_sequences\n",
    "from tensorflow.keras.models import Sequential\n",
    "from tensorflow.keras.layers import Conv1D, GlobalMaxPooling1D, Embedding, Dropout, Dense\n",
    "from sklearn.model_selection import train_test_split\n",
    "\n",
    "# Load data\n",
    "df = pd.read_csv(r'E:\\Github repos\\Phishing-url-detection\\phiusiil+phishing+url+dataset\\PhiUSIIL_Phishing_URL_Dataset.csv')\n",
    "urls = df['URL'].astype(str)\n",
    "labels = df['label'].astype(int)  # Make sure the label column exists\n",
    "\n",
    "# Tokenization\n",
    "tokenizer = Tokenizer(char_level=True)  # character-level tokenization\n",
    "tokenizer.fit_on_texts(urls)\n",
    "sequences = tokenizer.texts_to_sequences(urls)\n",
    "X_seq = pad_sequences(sequences, maxlen=200)  # truncate/pad URLs\n",
    "\n",
    "# Split\n",
    "X_train_seq, X_test_seq, y_train, y_test = train_test_split(X_seq, labels, test_size=0.2, random_state=42)\n",
    "\n",
    "# Model\n",
    "model_cnn = Sequential([\n",
    "    Embedding(input_dim=len(tokenizer.word_index)+1, output_dim=32, input_length=200),\n",
    "    Conv1D(64, 5, activation='relu'),\n",
    "    GlobalMaxPooling1D(),\n",
    "    Dense(32, activation='relu'),\n",
    "    Dropout(0.3),\n",
    "    Dense(1, activation='sigmoid')\n",
    "])\n",
    "model_cnn.compile(optimizer='adam', loss='binary_crossentropy', metrics=['accuracy'])\n",
    "\n",
    "# Train\n",
    "model_cnn.fit(X_train_seq, y_train, epochs=10, batch_size=32, validation_data=(X_test_seq, y_test))\n",
    "\n",
    "# Evaluate\n",
    "loss, acc = model_cnn.evaluate(X_test_seq, y_test)\n",
    "print(f'CNN Accuracy: {acc*100:.2f}%')\n",
    "\n"
   ]
  },
  {
   "cell_type": "markdown",
   "metadata": {},
   "source": [
    "# Transformer-Based Model "
   ]
  },
  {
   "cell_type": "code",
   "execution_count": 2,
   "metadata": {},
   "outputs": [],
   "source": [
    "# Load data\n",
    "df = pd.read_csv(r'E:\\Github repos\\Phishing-url-detection\\phiusiil+phishing+url+dataset\\PhiUSIIL_Phishing_URL_Dataset.csv')\n",
    "urls = df['URL'].astype(str)\n",
    "labels = df['label'].astype(int)  # Make sure the label column exists\n"
   ]
  },
  {
   "cell_type": "code",
   "execution_count": 3,
   "metadata": {},
   "outputs": [
    {
     "name": "stdout",
     "output_type": "stream",
     "text": [
      "WARNING:tensorflow:From e:\\anaconda3\\Lib\\site-packages\\tf_keras\\src\\losses.py:2976: The name tf.losses.sparse_softmax_cross_entropy is deprecated. Please use tf.compat.v1.losses.sparse_softmax_cross_entropy instead.\n",
      "\n",
      "WARNING:tensorflow:From e:\\anaconda3\\Lib\\site-packages\\tf_keras\\src\\backend.py:873: The name tf.get_default_graph is deprecated. Please use tf.compat.v1.get_default_graph instead.\n",
      "\n"
     ]
    },
    {
     "name": "stderr",
     "output_type": "stream",
     "text": [
      "Some weights of the PyTorch model were not used when initializing the TF 2.0 model TFBertModel: ['cls.predictions.transform.LayerNorm.bias', 'cls.predictions.bias', 'cls.seq_relationship.weight', 'cls.seq_relationship.bias', 'cls.predictions.transform.dense.bias', 'cls.predictions.transform.dense.weight', 'cls.predictions.transform.LayerNorm.weight']\n",
      "- This IS expected if you are initializing TFBertModel from a PyTorch model trained on another task or with another architecture (e.g. initializing a TFBertForSequenceClassification model from a BertForPreTraining model).\n",
      "- This IS NOT expected if you are initializing TFBertModel from a PyTorch model that you expect to be exactly identical (e.g. initializing a TFBertForSequenceClassification model from a BertForSequenceClassification model).\n",
      "All the weights of TFBertModel were initialized from the PyTorch model.\n",
      "If your task is similar to the task the model of the checkpoint was trained on, you can already use TFBertModel for predictions without further training.\n"
     ]
    }
   ],
   "source": [
    "from transformers import TFBertModel\n",
    "from tensorflow.keras.layers import Input, Dense, GlobalAveragePooling1D, Lambda\n",
    "from tensorflow.keras.models import Model\n",
    "import tensorflow as tf \n",
    "\n",
    "# Load pretrained BERT model\n",
    "bert_model = TFBertModel.from_pretrained('bert-base-uncased')\n",
    "\n",
    "# Define Inputs\n",
    "input_ids = Input(shape=(50,), dtype=tf.int32, name='input_ids')\n",
    "attention_mask = Input(shape=(50,), dtype=tf.int32, name='attention_mask')\n",
    "\n",
    "# Wrap BERT inside a Lambda with output_shape explicitly defined\n",
    "def bert_layer(inputs):\n",
    "    input_ids, attention_mask = inputs\n",
    "    outputs = bert_model(input_ids=input_ids, attention_mask=attention_mask)\n",
    "    return outputs.last_hidden_state  # shape: (None, 50, 768)\n",
    "\n",
    "bert_output = Lambda(\n",
    "    bert_layer,\n",
    "    output_shape=(50, 768),  # Specify expected output shape\n",
    "    name=\"bert_embedding\"\n",
    ")([input_ids, attention_mask])\n",
    "\n",
    "# Classifier Head\n",
    "x = GlobalAveragePooling1D()(bert_output)\n",
    "x = Dense(64, activation='relu')(x)\n",
    "x = Dense(32, activation='relu')(x)\n",
    "output = Dense(1, activation='sigmoid')(x)\n",
    "\n",
    "# Compile Model\n",
    "model = Model(inputs=[input_ids, attention_mask], outputs=output)\n",
    "model.compile(optimizer='adam', loss='binary_crossentropy', metrics=['accuracy'])\n"
   ]
  },
  {
   "cell_type": "code",
   "execution_count": 4,
   "metadata": {},
   "outputs": [],
   "source": [
    "from transformers import BertTokenizer\n",
    "\n",
    "# Load tokenizer\n",
    "tokenizer = BertTokenizer.from_pretrained('bert-base-uncased')\n",
    "\n",
    "# Suppose you have your data in these two variables:\n",
    "# texts = list of strings (URLs or sentences)\n",
    "# labels = binary labels (0 or 1)\n",
    "from sklearn.model_selection import train_test_split\n",
    "\n",
    "X_train, X_test, y_train, y_test = train_test_split(\n",
    "    urls, labels, test_size=0.2, random_state=42\n",
    ")\n",
    "\n",
    "# Tokenize your train/test text data\n",
    "train_tokens = tokenizer(\n",
    "    list(X_train),                  # Make sure X_train is a list/Series of strings\n",
    "    max_length=50,\n",
    "    padding='max_length',\n",
    "    truncation=True,\n",
    "    return_tensors='tf'\n",
    ")\n",
    "\n",
    "test_tokens = tokenizer(\n",
    "    list(X_test),\n",
    "    max_length=50,\n",
    "    padding='max_length',\n",
    "    truncation=True,\n",
    "    return_tensors='tf'\n",
    ")\n"
   ]
  },
  {
   "cell_type": "code",
   "execution_count": 5,
   "metadata": {},
   "outputs": [
    {
     "name": "stdout",
     "output_type": "stream",
     "text": [
      "Epoch 1/3\n",
      "\u001b[1m11790/11790\u001b[0m \u001b[32m━━━━━━━━━━━━━━━━━━━━\u001b[0m\u001b[37m\u001b[0m \u001b[1m2506s\u001b[0m 212ms/step - accuracy: 0.9874 - loss: 0.0414 - val_accuracy: 0.9977 - val_loss: 0.0125\n",
      "Epoch 2/3\n",
      "\u001b[1m11790/11790\u001b[0m \u001b[32m━━━━━━━━━━━━━━━━━━━━\u001b[0m\u001b[37m\u001b[0m \u001b[1m2534s\u001b[0m 215ms/step - accuracy: 0.9967 - loss: 0.0161 - val_accuracy: 0.9979 - val_loss: 0.0129\n",
      "Epoch 3/3\n",
      "\u001b[1m11790/11790\u001b[0m \u001b[32m━━━━━━━━━━━━━━━━━━━━\u001b[0m\u001b[37m\u001b[0m \u001b[1m2597s\u001b[0m 220ms/step - accuracy: 0.9974 - loss: 0.0133 - val_accuracy: 0.9980 - val_loss: 0.0120\n"
     ]
    },
    {
     "data": {
      "text/plain": [
       "<keras.src.callbacks.history.History at 0x25b315ded80>"
      ]
     },
     "execution_count": 5,
     "metadata": {},
     "output_type": "execute_result"
    }
   ],
   "source": [
    "model.fit(\n",
    "    x={\n",
    "        'input_ids': train_tokens['input_ids'],\n",
    "        'attention_mask': train_tokens['attention_mask']\n",
    "    },\n",
    "    y=y_train,\n",
    "    validation_data=(\n",
    "        {\n",
    "            'input_ids': test_tokens['input_ids'],\n",
    "            'attention_mask': test_tokens['attention_mask']\n",
    "        },\n",
    "        y_test\n",
    "    ),\n",
    "    epochs=3,\n",
    "    batch_size=16\n",
    ")\n"
   ]
  },
  {
   "cell_type": "code",
   "execution_count": 6,
   "metadata": {},
   "outputs": [
    {
     "name": "stdout",
     "output_type": "stream",
     "text": [
      "\u001b[1m1474/1474\u001b[0m \u001b[32m━━━━━━━━━━━━━━━━━━━━\u001b[0m\u001b[37m\u001b[0m \u001b[1m477s\u001b[0m 324ms/step - accuracy: 0.9977 - loss: 0.0130\n",
      "\n",
      "✅ Test Accuracy: 99.80%\n"
     ]
    }
   ],
   "source": [
    "loss, accuracy = model.evaluate(\n",
    "    x={\n",
    "        'input_ids': test_tokens['input_ids'],\n",
    "        'attention_mask': test_tokens['attention_mask']\n",
    "    },\n",
    "    y=y_test\n",
    ")\n",
    "\n",
    "print(f'\\n✅ Test Accuracy: {accuracy*100:.2f}%')"
   ]
  },
  {
   "cell_type": "code",
   "execution_count": null,
   "metadata": {},
   "outputs": [],
   "source": []
  }
 ],
 "metadata": {
  "kernelspec": {
   "display_name": "base",
   "language": "python",
   "name": "python3"
  },
  "language_info": {
   "codemirror_mode": {
    "name": "ipython",
    "version": 3
   },
   "file_extension": ".py",
   "mimetype": "text/x-python",
   "name": "python",
   "nbconvert_exporter": "python",
   "pygments_lexer": "ipython3",
   "version": "3.12.7"
  }
 },
 "nbformat": 4,
 "nbformat_minor": 2
}
